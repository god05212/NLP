{
  "nbformat": 4,
  "nbformat_minor": 0,
  "metadata": {
    "colab": {
      "provenance": [],
      "toc_visible": true,
      "authorship_tag": "ABX9TyO7frvJpNRoMiSa3hhpchYa",
      "include_colab_link": true
    },
    "kernelspec": {
      "name": "python3",
      "display_name": "Python 3"
    },
    "language_info": {
      "name": "python"
    },
    "accelerator": "TPU",
    "gpuClass": "standard"
  },
  "cells": [
    {
      "cell_type": "markdown",
      "metadata": {
        "id": "view-in-github",
        "colab_type": "text"
      },
      "source": [
        "<a href=\"https://colab.research.google.com/github/god05212/NLP/blob/main/NLP.ipynb\" target=\"_parent\"><img src=\"https://colab.research.google.com/assets/colab-badge.svg\" alt=\"Open In Colab\"/></a>"
      ]
    },
    {
      "cell_type": "markdown",
      "source": [
        "### 사용한 데이터셋\n",
        "> Fake and real news dataset: Classifying the news\n",
        "\n",
        "- Clément Bisaillon\n",
        "- https://www.kaggle.com/clmentbisaillon\n",
        "- https://www.kaggle.com/datasets/clmentbisaillon/fake-and-real-news-dataset"
      ],
      "metadata": {
        "id": "K9Qf6UZjGFTg"
      }
    },
    {
      "cell_type": "markdown",
      "source": [
        "# Basic Exploration"
      ],
      "metadata": {
        "id": "aNt5l4SzHY4A"
      }
    },
    {
      "cell_type": "markdown",
      "source": [
        "## Read dataset"
      ],
      "metadata": {
        "id": "wr-4WlEuSAQE"
      }
    },
    {
      "cell_type": "code",
      "execution_count": 1,
      "metadata": {
        "id": "M8Gu2t-OLB7a",
        "colab": {
          "base_uri": "https://localhost:8080/",
          "height": 111
        },
        "outputId": "f1ecea5c-f86f-43ad-d830-1ab4203ada8d"
      },
      "outputs": [
        {
          "output_type": "display_data",
          "data": {
            "text/plain": [
              "<IPython.core.display.HTML object>"
            ],
            "text/html": [
              "\n",
              "     <input type=\"file\" id=\"files-826d0b43-2673-48c2-ac11-4ee928eedafd\" name=\"files[]\" multiple disabled\n",
              "        style=\"border:none\" />\n",
              "     <output id=\"result-826d0b43-2673-48c2-ac11-4ee928eedafd\">\n",
              "      Upload widget is only available when the cell has been executed in the\n",
              "      current browser session. Please rerun this cell to enable.\n",
              "      </output>\n",
              "      <script>// Copyright 2017 Google LLC\n",
              "//\n",
              "// Licensed under the Apache License, Version 2.0 (the \"License\");\n",
              "// you may not use this file except in compliance with the License.\n",
              "// You may obtain a copy of the License at\n",
              "//\n",
              "//      http://www.apache.org/licenses/LICENSE-2.0\n",
              "//\n",
              "// Unless required by applicable law or agreed to in writing, software\n",
              "// distributed under the License is distributed on an \"AS IS\" BASIS,\n",
              "// WITHOUT WARRANTIES OR CONDITIONS OF ANY KIND, either express or implied.\n",
              "// See the License for the specific language governing permissions and\n",
              "// limitations under the License.\n",
              "\n",
              "/**\n",
              " * @fileoverview Helpers for google.colab Python module.\n",
              " */\n",
              "(function(scope) {\n",
              "function span(text, styleAttributes = {}) {\n",
              "  const element = document.createElement('span');\n",
              "  element.textContent = text;\n",
              "  for (const key of Object.keys(styleAttributes)) {\n",
              "    element.style[key] = styleAttributes[key];\n",
              "  }\n",
              "  return element;\n",
              "}\n",
              "\n",
              "// Max number of bytes which will be uploaded at a time.\n",
              "const MAX_PAYLOAD_SIZE = 100 * 1024;\n",
              "\n",
              "function _uploadFiles(inputId, outputId) {\n",
              "  const steps = uploadFilesStep(inputId, outputId);\n",
              "  const outputElement = document.getElementById(outputId);\n",
              "  // Cache steps on the outputElement to make it available for the next call\n",
              "  // to uploadFilesContinue from Python.\n",
              "  outputElement.steps = steps;\n",
              "\n",
              "  return _uploadFilesContinue(outputId);\n",
              "}\n",
              "\n",
              "// This is roughly an async generator (not supported in the browser yet),\n",
              "// where there are multiple asynchronous steps and the Python side is going\n",
              "// to poll for completion of each step.\n",
              "// This uses a Promise to block the python side on completion of each step,\n",
              "// then passes the result of the previous step as the input to the next step.\n",
              "function _uploadFilesContinue(outputId) {\n",
              "  const outputElement = document.getElementById(outputId);\n",
              "  const steps = outputElement.steps;\n",
              "\n",
              "  const next = steps.next(outputElement.lastPromiseValue);\n",
              "  return Promise.resolve(next.value.promise).then((value) => {\n",
              "    // Cache the last promise value to make it available to the next\n",
              "    // step of the generator.\n",
              "    outputElement.lastPromiseValue = value;\n",
              "    return next.value.response;\n",
              "  });\n",
              "}\n",
              "\n",
              "/**\n",
              " * Generator function which is called between each async step of the upload\n",
              " * process.\n",
              " * @param {string} inputId Element ID of the input file picker element.\n",
              " * @param {string} outputId Element ID of the output display.\n",
              " * @return {!Iterable<!Object>} Iterable of next steps.\n",
              " */\n",
              "function* uploadFilesStep(inputId, outputId) {\n",
              "  const inputElement = document.getElementById(inputId);\n",
              "  inputElement.disabled = false;\n",
              "\n",
              "  const outputElement = document.getElementById(outputId);\n",
              "  outputElement.innerHTML = '';\n",
              "\n",
              "  const pickedPromise = new Promise((resolve) => {\n",
              "    inputElement.addEventListener('change', (e) => {\n",
              "      resolve(e.target.files);\n",
              "    });\n",
              "  });\n",
              "\n",
              "  const cancel = document.createElement('button');\n",
              "  inputElement.parentElement.appendChild(cancel);\n",
              "  cancel.textContent = 'Cancel upload';\n",
              "  const cancelPromise = new Promise((resolve) => {\n",
              "    cancel.onclick = () => {\n",
              "      resolve(null);\n",
              "    };\n",
              "  });\n",
              "\n",
              "  // Wait for the user to pick the files.\n",
              "  const files = yield {\n",
              "    promise: Promise.race([pickedPromise, cancelPromise]),\n",
              "    response: {\n",
              "      action: 'starting',\n",
              "    }\n",
              "  };\n",
              "\n",
              "  cancel.remove();\n",
              "\n",
              "  // Disable the input element since further picks are not allowed.\n",
              "  inputElement.disabled = true;\n",
              "\n",
              "  if (!files) {\n",
              "    return {\n",
              "      response: {\n",
              "        action: 'complete',\n",
              "      }\n",
              "    };\n",
              "  }\n",
              "\n",
              "  for (const file of files) {\n",
              "    const li = document.createElement('li');\n",
              "    li.append(span(file.name, {fontWeight: 'bold'}));\n",
              "    li.append(span(\n",
              "        `(${file.type || 'n/a'}) - ${file.size} bytes, ` +\n",
              "        `last modified: ${\n",
              "            file.lastModifiedDate ? file.lastModifiedDate.toLocaleDateString() :\n",
              "                                    'n/a'} - `));\n",
              "    const percent = span('0% done');\n",
              "    li.appendChild(percent);\n",
              "\n",
              "    outputElement.appendChild(li);\n",
              "\n",
              "    const fileDataPromise = new Promise((resolve) => {\n",
              "      const reader = new FileReader();\n",
              "      reader.onload = (e) => {\n",
              "        resolve(e.target.result);\n",
              "      };\n",
              "      reader.readAsArrayBuffer(file);\n",
              "    });\n",
              "    // Wait for the data to be ready.\n",
              "    let fileData = yield {\n",
              "      promise: fileDataPromise,\n",
              "      response: {\n",
              "        action: 'continue',\n",
              "      }\n",
              "    };\n",
              "\n",
              "    // Use a chunked sending to avoid message size limits. See b/62115660.\n",
              "    let position = 0;\n",
              "    do {\n",
              "      const length = Math.min(fileData.byteLength - position, MAX_PAYLOAD_SIZE);\n",
              "      const chunk = new Uint8Array(fileData, position, length);\n",
              "      position += length;\n",
              "\n",
              "      const base64 = btoa(String.fromCharCode.apply(null, chunk));\n",
              "      yield {\n",
              "        response: {\n",
              "          action: 'append',\n",
              "          file: file.name,\n",
              "          data: base64,\n",
              "        },\n",
              "      };\n",
              "\n",
              "      let percentDone = fileData.byteLength === 0 ?\n",
              "          100 :\n",
              "          Math.round((position / fileData.byteLength) * 100);\n",
              "      percent.textContent = `${percentDone}% done`;\n",
              "\n",
              "    } while (position < fileData.byteLength);\n",
              "  }\n",
              "\n",
              "  // All done.\n",
              "  yield {\n",
              "    response: {\n",
              "      action: 'complete',\n",
              "    }\n",
              "  };\n",
              "}\n",
              "\n",
              "scope.google = scope.google || {};\n",
              "scope.google.colab = scope.google.colab || {};\n",
              "scope.google.colab._files = {\n",
              "  _uploadFiles,\n",
              "  _uploadFilesContinue,\n",
              "};\n",
              "})(self);\n",
              "</script> "
            ]
          },
          "metadata": {}
        },
        {
          "output_type": "stream",
          "name": "stdout",
          "text": [
            "Saving Fake.csv to Fake.csv\n",
            "Saving True.csv to True.csv\n"
          ]
        }
      ],
      "source": [
        "from google.colab import files\n",
        "updloaded = files.upload()"
      ]
    },
    {
      "cell_type": "code",
      "source": [
        "import pandas as pd\n",
        "df_true = pd.read_csv(\"True.csv\")\n",
        "df_fake = pd.read_csv(\"Fake.csv\")"
      ],
      "metadata": {
        "id": "k6xGwN8XF4c9"
      },
      "execution_count": 24,
      "outputs": []
    },
    {
      "cell_type": "markdown",
      "source": [
        "> target 변수를 설정하고 진짜 및 가짜 뉴스 데이터 세트를 모두 결합합니다."
      ],
      "metadata": {
        "id": "9QtKPocmIptM"
      }
    },
    {
      "cell_type": "markdown",
      "source": [
        "## Some information"
      ],
      "metadata": {
        "id": "VrCUcNmdSFyx"
      }
    },
    {
      "cell_type": "markdown",
      "source": [
        "> 데이터 내용 표시"
      ],
      "metadata": {
        "id": "Rej7KfNeSP5s"
      }
    },
    {
      "cell_type": "code",
      "source": [
        "df_true['target'] = 1\n",
        "df_fake['target'] = 0\n",
        "df = pd.concat([df_true, df_fake]).reset_index(drop = True)\n",
        "df['original'] = df['title'] + ' ' + df['text']\n",
        "df"
      ],
      "metadata": {
        "colab": {
          "base_uri": "https://localhost:8080/",
          "height": 424
        },
        "id": "_nby7JebI9CP",
        "outputId": "ba992397-60fd-410c-f87f-2aeab51f4624"
      },
      "execution_count": 25,
      "outputs": [
        {
          "output_type": "execute_result",
          "data": {
            "text/plain": [
              "                                                   title  \\\n",
              "0      As U.S. budget fight looms, Republicans flip t...   \n",
              "1      U.S. military to accept transgender recruits o...   \n",
              "2      Senior U.S. Republican senator: 'Let Mr. Muell...   \n",
              "3      FBI Russia probe helped by Australian diplomat...   \n",
              "4      Trump wants Postal Service to charge 'much mor...   \n",
              "...                                                  ...   \n",
              "44893  McPain: John McCain Furious That Iran Treated ...   \n",
              "44894  JUSTICE? Yahoo Settles E-mail Privacy Class-ac...   \n",
              "44895  Sunnistan: US and Allied ‘Safe Zone’ Plan to T...   \n",
              "44896  How to Blow $700 Million: Al Jazeera America F...   \n",
              "44897  10 U.S. Navy Sailors Held by Iranian Military ...   \n",
              "\n",
              "                                                    text       subject  \\\n",
              "0      WASHINGTON (Reuters) - The head of a conservat...  politicsNews   \n",
              "1      WASHINGTON (Reuters) - Transgender people will...  politicsNews   \n",
              "2      WASHINGTON (Reuters) - The special counsel inv...  politicsNews   \n",
              "3      WASHINGTON (Reuters) - Trump campaign adviser ...  politicsNews   \n",
              "4      SEATTLE/WASHINGTON (Reuters) - President Donal...  politicsNews   \n",
              "...                                                  ...           ...   \n",
              "44893  21st Century Wire says As 21WIRE reported earl...   Middle-east   \n",
              "44894  21st Century Wire says It s a familiar theme. ...   Middle-east   \n",
              "44895  Patrick Henningsen  21st Century WireRemember ...   Middle-east   \n",
              "44896  21st Century Wire says Al Jazeera America will...   Middle-east   \n",
              "44897  21st Century Wire says As 21WIRE predicted in ...   Middle-east   \n",
              "\n",
              "                     date  target  \\\n",
              "0      December 31, 2017        1   \n",
              "1      December 29, 2017        1   \n",
              "2      December 31, 2017        1   \n",
              "3      December 30, 2017        1   \n",
              "4      December 29, 2017        1   \n",
              "...                   ...     ...   \n",
              "44893    January 16, 2016       0   \n",
              "44894    January 16, 2016       0   \n",
              "44895    January 15, 2016       0   \n",
              "44896    January 14, 2016       0   \n",
              "44897    January 12, 2016       0   \n",
              "\n",
              "                                                original  \n",
              "0      As U.S. budget fight looms, Republicans flip t...  \n",
              "1      U.S. military to accept transgender recruits o...  \n",
              "2      Senior U.S. Republican senator: 'Let Mr. Muell...  \n",
              "3      FBI Russia probe helped by Australian diplomat...  \n",
              "4      Trump wants Postal Service to charge 'much mor...  \n",
              "...                                                  ...  \n",
              "44893  McPain: John McCain Furious That Iran Treated ...  \n",
              "44894  JUSTICE? Yahoo Settles E-mail Privacy Class-ac...  \n",
              "44895  Sunnistan: US and Allied ‘Safe Zone’ Plan to T...  \n",
              "44896  How to Blow $700 Million: Al Jazeera America F...  \n",
              "44897  10 U.S. Navy Sailors Held by Iranian Military ...  \n",
              "\n",
              "[44898 rows x 6 columns]"
            ],
            "text/html": [
              "\n",
              "  <div id=\"df-1076e912-1fd0-4980-b35a-1c5fcc8a3713\">\n",
              "    <div class=\"colab-df-container\">\n",
              "      <div>\n",
              "<style scoped>\n",
              "    .dataframe tbody tr th:only-of-type {\n",
              "        vertical-align: middle;\n",
              "    }\n",
              "\n",
              "    .dataframe tbody tr th {\n",
              "        vertical-align: top;\n",
              "    }\n",
              "\n",
              "    .dataframe thead th {\n",
              "        text-align: right;\n",
              "    }\n",
              "</style>\n",
              "<table border=\"1\" class=\"dataframe\">\n",
              "  <thead>\n",
              "    <tr style=\"text-align: right;\">\n",
              "      <th></th>\n",
              "      <th>title</th>\n",
              "      <th>text</th>\n",
              "      <th>subject</th>\n",
              "      <th>date</th>\n",
              "      <th>target</th>\n",
              "      <th>original</th>\n",
              "    </tr>\n",
              "  </thead>\n",
              "  <tbody>\n",
              "    <tr>\n",
              "      <th>0</th>\n",
              "      <td>As U.S. budget fight looms, Republicans flip t...</td>\n",
              "      <td>WASHINGTON (Reuters) - The head of a conservat...</td>\n",
              "      <td>politicsNews</td>\n",
              "      <td>December 31, 2017</td>\n",
              "      <td>1</td>\n",
              "      <td>As U.S. budget fight looms, Republicans flip t...</td>\n",
              "    </tr>\n",
              "    <tr>\n",
              "      <th>1</th>\n",
              "      <td>U.S. military to accept transgender recruits o...</td>\n",
              "      <td>WASHINGTON (Reuters) - Transgender people will...</td>\n",
              "      <td>politicsNews</td>\n",
              "      <td>December 29, 2017</td>\n",
              "      <td>1</td>\n",
              "      <td>U.S. military to accept transgender recruits o...</td>\n",
              "    </tr>\n",
              "    <tr>\n",
              "      <th>2</th>\n",
              "      <td>Senior U.S. Republican senator: 'Let Mr. Muell...</td>\n",
              "      <td>WASHINGTON (Reuters) - The special counsel inv...</td>\n",
              "      <td>politicsNews</td>\n",
              "      <td>December 31, 2017</td>\n",
              "      <td>1</td>\n",
              "      <td>Senior U.S. Republican senator: 'Let Mr. Muell...</td>\n",
              "    </tr>\n",
              "    <tr>\n",
              "      <th>3</th>\n",
              "      <td>FBI Russia probe helped by Australian diplomat...</td>\n",
              "      <td>WASHINGTON (Reuters) - Trump campaign adviser ...</td>\n",
              "      <td>politicsNews</td>\n",
              "      <td>December 30, 2017</td>\n",
              "      <td>1</td>\n",
              "      <td>FBI Russia probe helped by Australian diplomat...</td>\n",
              "    </tr>\n",
              "    <tr>\n",
              "      <th>4</th>\n",
              "      <td>Trump wants Postal Service to charge 'much mor...</td>\n",
              "      <td>SEATTLE/WASHINGTON (Reuters) - President Donal...</td>\n",
              "      <td>politicsNews</td>\n",
              "      <td>December 29, 2017</td>\n",
              "      <td>1</td>\n",
              "      <td>Trump wants Postal Service to charge 'much mor...</td>\n",
              "    </tr>\n",
              "    <tr>\n",
              "      <th>...</th>\n",
              "      <td>...</td>\n",
              "      <td>...</td>\n",
              "      <td>...</td>\n",
              "      <td>...</td>\n",
              "      <td>...</td>\n",
              "      <td>...</td>\n",
              "    </tr>\n",
              "    <tr>\n",
              "      <th>44893</th>\n",
              "      <td>McPain: John McCain Furious That Iran Treated ...</td>\n",
              "      <td>21st Century Wire says As 21WIRE reported earl...</td>\n",
              "      <td>Middle-east</td>\n",
              "      <td>January 16, 2016</td>\n",
              "      <td>0</td>\n",
              "      <td>McPain: John McCain Furious That Iran Treated ...</td>\n",
              "    </tr>\n",
              "    <tr>\n",
              "      <th>44894</th>\n",
              "      <td>JUSTICE? Yahoo Settles E-mail Privacy Class-ac...</td>\n",
              "      <td>21st Century Wire says It s a familiar theme. ...</td>\n",
              "      <td>Middle-east</td>\n",
              "      <td>January 16, 2016</td>\n",
              "      <td>0</td>\n",
              "      <td>JUSTICE? Yahoo Settles E-mail Privacy Class-ac...</td>\n",
              "    </tr>\n",
              "    <tr>\n",
              "      <th>44895</th>\n",
              "      <td>Sunnistan: US and Allied ‘Safe Zone’ Plan to T...</td>\n",
              "      <td>Patrick Henningsen  21st Century WireRemember ...</td>\n",
              "      <td>Middle-east</td>\n",
              "      <td>January 15, 2016</td>\n",
              "      <td>0</td>\n",
              "      <td>Sunnistan: US and Allied ‘Safe Zone’ Plan to T...</td>\n",
              "    </tr>\n",
              "    <tr>\n",
              "      <th>44896</th>\n",
              "      <td>How to Blow $700 Million: Al Jazeera America F...</td>\n",
              "      <td>21st Century Wire says Al Jazeera America will...</td>\n",
              "      <td>Middle-east</td>\n",
              "      <td>January 14, 2016</td>\n",
              "      <td>0</td>\n",
              "      <td>How to Blow $700 Million: Al Jazeera America F...</td>\n",
              "    </tr>\n",
              "    <tr>\n",
              "      <th>44897</th>\n",
              "      <td>10 U.S. Navy Sailors Held by Iranian Military ...</td>\n",
              "      <td>21st Century Wire says As 21WIRE predicted in ...</td>\n",
              "      <td>Middle-east</td>\n",
              "      <td>January 12, 2016</td>\n",
              "      <td>0</td>\n",
              "      <td>10 U.S. Navy Sailors Held by Iranian Military ...</td>\n",
              "    </tr>\n",
              "  </tbody>\n",
              "</table>\n",
              "<p>44898 rows × 6 columns</p>\n",
              "</div>\n",
              "      <button class=\"colab-df-convert\" onclick=\"convertToInteractive('df-1076e912-1fd0-4980-b35a-1c5fcc8a3713')\"\n",
              "              title=\"Convert this dataframe to an interactive table.\"\n",
              "              style=\"display:none;\">\n",
              "        \n",
              "  <svg xmlns=\"http://www.w3.org/2000/svg\" height=\"24px\"viewBox=\"0 0 24 24\"\n",
              "       width=\"24px\">\n",
              "    <path d=\"M0 0h24v24H0V0z\" fill=\"none\"/>\n",
              "    <path d=\"M18.56 5.44l.94 2.06.94-2.06 2.06-.94-2.06-.94-.94-2.06-.94 2.06-2.06.94zm-11 1L8.5 8.5l.94-2.06 2.06-.94-2.06-.94L8.5 2.5l-.94 2.06-2.06.94zm10 10l.94 2.06.94-2.06 2.06-.94-2.06-.94-.94-2.06-.94 2.06-2.06.94z\"/><path d=\"M17.41 7.96l-1.37-1.37c-.4-.4-.92-.59-1.43-.59-.52 0-1.04.2-1.43.59L10.3 9.45l-7.72 7.72c-.78.78-.78 2.05 0 2.83L4 21.41c.39.39.9.59 1.41.59.51 0 1.02-.2 1.41-.59l7.78-7.78 2.81-2.81c.8-.78.8-2.07 0-2.86zM5.41 20L4 18.59l7.72-7.72 1.47 1.35L5.41 20z\"/>\n",
              "  </svg>\n",
              "      </button>\n",
              "      \n",
              "  <style>\n",
              "    .colab-df-container {\n",
              "      display:flex;\n",
              "      flex-wrap:wrap;\n",
              "      gap: 12px;\n",
              "    }\n",
              "\n",
              "    .colab-df-convert {\n",
              "      background-color: #E8F0FE;\n",
              "      border: none;\n",
              "      border-radius: 50%;\n",
              "      cursor: pointer;\n",
              "      display: none;\n",
              "      fill: #1967D2;\n",
              "      height: 32px;\n",
              "      padding: 0 0 0 0;\n",
              "      width: 32px;\n",
              "    }\n",
              "\n",
              "    .colab-df-convert:hover {\n",
              "      background-color: #E2EBFA;\n",
              "      box-shadow: 0px 1px 2px rgba(60, 64, 67, 0.3), 0px 1px 3px 1px rgba(60, 64, 67, 0.15);\n",
              "      fill: #174EA6;\n",
              "    }\n",
              "\n",
              "    [theme=dark] .colab-df-convert {\n",
              "      background-color: #3B4455;\n",
              "      fill: #D2E3FC;\n",
              "    }\n",
              "\n",
              "    [theme=dark] .colab-df-convert:hover {\n",
              "      background-color: #434B5C;\n",
              "      box-shadow: 0px 1px 3px 1px rgba(0, 0, 0, 0.15);\n",
              "      filter: drop-shadow(0px 1px 2px rgba(0, 0, 0, 0.3));\n",
              "      fill: #FFFFFF;\n",
              "    }\n",
              "  </style>\n",
              "\n",
              "      <script>\n",
              "        const buttonEl =\n",
              "          document.querySelector('#df-1076e912-1fd0-4980-b35a-1c5fcc8a3713 button.colab-df-convert');\n",
              "        buttonEl.style.display =\n",
              "          google.colab.kernel.accessAllowed ? 'block' : 'none';\n",
              "\n",
              "        async function convertToInteractive(key) {\n",
              "          const element = document.querySelector('#df-1076e912-1fd0-4980-b35a-1c5fcc8a3713');\n",
              "          const dataTable =\n",
              "            await google.colab.kernel.invokeFunction('convertToInteractive',\n",
              "                                                     [key], {});\n",
              "          if (!dataTable) return;\n",
              "\n",
              "          const docLinkHtml = 'Like what you see? Visit the ' +\n",
              "            '<a target=\"_blank\" href=https://colab.research.google.com/notebooks/data_table.ipynb>data table notebook</a>'\n",
              "            + ' to learn more about interactive tables.';\n",
              "          element.innerHTML = '';\n",
              "          dataTable['output_type'] = 'display_data';\n",
              "          await google.colab.output.renderOutput(dataTable, element);\n",
              "          const docLink = document.createElement('div');\n",
              "          docLink.innerHTML = docLinkHtml;\n",
              "          element.appendChild(docLink);\n",
              "        }\n",
              "      </script>\n",
              "    </div>\n",
              "  </div>\n",
              "  "
            ]
          },
          "metadata": {},
          "execution_count": 25
        }
      ]
    },
    {
      "cell_type": "markdown",
      "source": [
        "> 데이터의 null 값을 확인합니다."
      ],
      "metadata": {
        "id": "ZEKJWM4EJj_r"
      }
    },
    {
      "cell_type": "code",
      "source": [
        "df.isnull().sum()"
      ],
      "metadata": {
        "colab": {
          "base_uri": "https://localhost:8080/"
        },
        "id": "1ctiOlvRJw6U",
        "outputId": "fed994d3-b12d-48c7-a278-34ad97af3b2b"
      },
      "execution_count": 26,
      "outputs": [
        {
          "output_type": "execute_result",
          "data": {
            "text/plain": [
              "title       0\n",
              "text        0\n",
              "subject     0\n",
              "date        0\n",
              "target      0\n",
              "original    0\n",
              "dtype: int64"
            ]
          },
          "metadata": {},
          "execution_count": 26
        }
      ]
    },
    {
      "cell_type": "markdown",
      "source": [
        "# Data preprocessing"
      ],
      "metadata": {
        "id": "XZnSngY1J3EY"
      }
    },
    {
      "cell_type": "markdown",
      "source": [
        "> 텍스트 데이터에는 도움이 되지 않을 수 있는 구성요소가 존재합니다. 이 섹션의 주요 목표는 보다 원활한 분석을 위해 이러한 구성 요소를 제거하는 것입니다. 제공된 데이터에서 불용어(Stopwords)를 제거하는 기능을 만들 계획입니다. 분석 및 예측 중에 필요한 경우 이 기능을 사용할 것입니다."
      ],
      "metadata": {
        "id": "URK4uCPYKH-u"
      }
    },
    {
      "cell_type": "code",
      "source": [
        "import nltk\n",
        "from nltk.corpus import stopwords\n",
        "nltk.download('stopwords')\n",
        "stop_words = stopwords.words('english')\n",
        "stop_words.extend(['from', 'subject', 're', 'edu', 'use'])\n",
        "# 텍스트 전처리 함수\n",
        "def preprocess(text):\n",
        "    result = []\n",
        "    for token in gensim.utils.simple_preprocess(text):\n",
        "        if token not in gensim.parsing.preprocessing.STOPWORDS and len(token) > 2 and token not in stop_words:\n",
        "            result.append(token)            \n",
        "    return result\n",
        "# 일치하지 않는 제목을 동일한 표기법으로 변환합니다\n",
        "df.subject=df.subject.replace({'politics':'PoliticsNews','politicsNews':'PoliticsNews'})"
      ],
      "metadata": {
        "colab": {
          "base_uri": "https://localhost:8080/"
        },
        "id": "g391pqZuOYFO",
        "outputId": "7dcdc012-a8e3-4415-d499-a675fab79e40"
      },
      "execution_count": 27,
      "outputs": [
        {
          "output_type": "stream",
          "name": "stderr",
          "text": [
            "[nltk_data] Downloading package stopwords to /root/nltk_data...\n",
            "[nltk_data]   Package stopwords is already up-to-date!\n"
          ]
        }
      ]
    },
    {
      "cell_type": "markdown",
      "source": [
        "# Exploratory Data Analysis"
      ],
      "metadata": {
        "id": "fZuu1TsiVj7Y"
      }
    },
    {
      "cell_type": "markdown",
      "source": [
        "> 진짜 뉴스와 가짜 뉴스 분포 확인"
      ],
      "metadata": {
        "id": "Z0qBcbOPW1Zp"
      }
    },
    {
      "cell_type": "code",
      "source": [
        "import plotly.express as px\n",
        "sub_tf_df=df.groupby('target').apply(lambda x:x['title'].count()).reset_index(name='Counts')\n",
        "sub_tf_df.target.replace({0:'False',1:'True'},inplace=True)\n",
        "fig = px.bar(sub_tf_df, x=\"target\", y=\"Counts\",\n",
        "             color='Counts', barmode='group',\n",
        "             height=400)\n",
        "fig.show()"
      ],
      "metadata": {
        "colab": {
          "base_uri": "https://localhost:8080/",
          "height": 417
        },
        "id": "Q_aQ8y56lcQI",
        "outputId": "25ed05de-5402-4a6c-dfd9-1260083b5ab2"
      },
      "execution_count": 28,
      "outputs": [
        {
          "output_type": "display_data",
          "data": {
            "text/html": [
              "<html>\n",
              "<head><meta charset=\"utf-8\" /></head>\n",
              "<body>\n",
              "    <div>            <script src=\"https://cdnjs.cloudflare.com/ajax/libs/mathjax/2.7.5/MathJax.js?config=TeX-AMS-MML_SVG\"></script><script type=\"text/javascript\">if (window.MathJax) {MathJax.Hub.Config({SVG: {font: \"STIX-Web\"}});}</script>                <script type=\"text/javascript\">window.PlotlyConfig = {MathJaxConfig: 'local'};</script>\n",
              "        <script src=\"https://cdn.plot.ly/plotly-2.8.3.min.js\"></script>                <div id=\"15c18207-884a-46b1-b099-2d5ee807fe3b\" class=\"plotly-graph-div\" style=\"height:400px; width:100%;\"></div>            <script type=\"text/javascript\">                                    window.PLOTLYENV=window.PLOTLYENV || {};                                    if (document.getElementById(\"15c18207-884a-46b1-b099-2d5ee807fe3b\")) {                    Plotly.newPlot(                        \"15c18207-884a-46b1-b099-2d5ee807fe3b\",                        [{\"alignmentgroup\":\"True\",\"hovertemplate\":\"target=%{x}<br>Counts=%{marker.color}<extra></extra>\",\"legendgroup\":\"\",\"marker\":{\"color\":[23481,21417],\"coloraxis\":\"coloraxis\",\"pattern\":{\"shape\":\"\"}},\"name\":\"\",\"offsetgroup\":\"\",\"orientation\":\"v\",\"showlegend\":false,\"textposition\":\"auto\",\"x\":[\"False\",\"True\"],\"xaxis\":\"x\",\"y\":[23481,21417],\"yaxis\":\"y\",\"type\":\"bar\"}],                        {\"template\":{\"data\":{\"bar\":[{\"error_x\":{\"color\":\"#2a3f5f\"},\"error_y\":{\"color\":\"#2a3f5f\"},\"marker\":{\"line\":{\"color\":\"#E5ECF6\",\"width\":0.5},\"pattern\":{\"fillmode\":\"overlay\",\"size\":10,\"solidity\":0.2}},\"type\":\"bar\"}],\"barpolar\":[{\"marker\":{\"line\":{\"color\":\"#E5ECF6\",\"width\":0.5},\"pattern\":{\"fillmode\":\"overlay\",\"size\":10,\"solidity\":0.2}},\"type\":\"barpolar\"}],\"carpet\":[{\"aaxis\":{\"endlinecolor\":\"#2a3f5f\",\"gridcolor\":\"white\",\"linecolor\":\"white\",\"minorgridcolor\":\"white\",\"startlinecolor\":\"#2a3f5f\"},\"baxis\":{\"endlinecolor\":\"#2a3f5f\",\"gridcolor\":\"white\",\"linecolor\":\"white\",\"minorgridcolor\":\"white\",\"startlinecolor\":\"#2a3f5f\"},\"type\":\"carpet\"}],\"choropleth\":[{\"colorbar\":{\"outlinewidth\":0,\"ticks\":\"\"},\"type\":\"choropleth\"}],\"contour\":[{\"colorbar\":{\"outlinewidth\":0,\"ticks\":\"\"},\"colorscale\":[[0.0,\"#0d0887\"],[0.1111111111111111,\"#46039f\"],[0.2222222222222222,\"#7201a8\"],[0.3333333333333333,\"#9c179e\"],[0.4444444444444444,\"#bd3786\"],[0.5555555555555556,\"#d8576b\"],[0.6666666666666666,\"#ed7953\"],[0.7777777777777778,\"#fb9f3a\"],[0.8888888888888888,\"#fdca26\"],[1.0,\"#f0f921\"]],\"type\":\"contour\"}],\"contourcarpet\":[{\"colorbar\":{\"outlinewidth\":0,\"ticks\":\"\"},\"type\":\"contourcarpet\"}],\"heatmap\":[{\"colorbar\":{\"outlinewidth\":0,\"ticks\":\"\"},\"colorscale\":[[0.0,\"#0d0887\"],[0.1111111111111111,\"#46039f\"],[0.2222222222222222,\"#7201a8\"],[0.3333333333333333,\"#9c179e\"],[0.4444444444444444,\"#bd3786\"],[0.5555555555555556,\"#d8576b\"],[0.6666666666666666,\"#ed7953\"],[0.7777777777777778,\"#fb9f3a\"],[0.8888888888888888,\"#fdca26\"],[1.0,\"#f0f921\"]],\"type\":\"heatmap\"}],\"heatmapgl\":[{\"colorbar\":{\"outlinewidth\":0,\"ticks\":\"\"},\"colorscale\":[[0.0,\"#0d0887\"],[0.1111111111111111,\"#46039f\"],[0.2222222222222222,\"#7201a8\"],[0.3333333333333333,\"#9c179e\"],[0.4444444444444444,\"#bd3786\"],[0.5555555555555556,\"#d8576b\"],[0.6666666666666666,\"#ed7953\"],[0.7777777777777778,\"#fb9f3a\"],[0.8888888888888888,\"#fdca26\"],[1.0,\"#f0f921\"]],\"type\":\"heatmapgl\"}],\"histogram\":[{\"marker\":{\"pattern\":{\"fillmode\":\"overlay\",\"size\":10,\"solidity\":0.2}},\"type\":\"histogram\"}],\"histogram2d\":[{\"colorbar\":{\"outlinewidth\":0,\"ticks\":\"\"},\"colorscale\":[[0.0,\"#0d0887\"],[0.1111111111111111,\"#46039f\"],[0.2222222222222222,\"#7201a8\"],[0.3333333333333333,\"#9c179e\"],[0.4444444444444444,\"#bd3786\"],[0.5555555555555556,\"#d8576b\"],[0.6666666666666666,\"#ed7953\"],[0.7777777777777778,\"#fb9f3a\"],[0.8888888888888888,\"#fdca26\"],[1.0,\"#f0f921\"]],\"type\":\"histogram2d\"}],\"histogram2dcontour\":[{\"colorbar\":{\"outlinewidth\":0,\"ticks\":\"\"},\"colorscale\":[[0.0,\"#0d0887\"],[0.1111111111111111,\"#46039f\"],[0.2222222222222222,\"#7201a8\"],[0.3333333333333333,\"#9c179e\"],[0.4444444444444444,\"#bd3786\"],[0.5555555555555556,\"#d8576b\"],[0.6666666666666666,\"#ed7953\"],[0.7777777777777778,\"#fb9f3a\"],[0.8888888888888888,\"#fdca26\"],[1.0,\"#f0f921\"]],\"type\":\"histogram2dcontour\"}],\"mesh3d\":[{\"colorbar\":{\"outlinewidth\":0,\"ticks\":\"\"},\"type\":\"mesh3d\"}],\"parcoords\":[{\"line\":{\"colorbar\":{\"outlinewidth\":0,\"ticks\":\"\"}},\"type\":\"parcoords\"}],\"pie\":[{\"automargin\":true,\"type\":\"pie\"}],\"scatter\":[{\"marker\":{\"colorbar\":{\"outlinewidth\":0,\"ticks\":\"\"}},\"type\":\"scatter\"}],\"scatter3d\":[{\"line\":{\"colorbar\":{\"outlinewidth\":0,\"ticks\":\"\"}},\"marker\":{\"colorbar\":{\"outlinewidth\":0,\"ticks\":\"\"}},\"type\":\"scatter3d\"}],\"scattercarpet\":[{\"marker\":{\"colorbar\":{\"outlinewidth\":0,\"ticks\":\"\"}},\"type\":\"scattercarpet\"}],\"scattergeo\":[{\"marker\":{\"colorbar\":{\"outlinewidth\":0,\"ticks\":\"\"}},\"type\":\"scattergeo\"}],\"scattergl\":[{\"marker\":{\"colorbar\":{\"outlinewidth\":0,\"ticks\":\"\"}},\"type\":\"scattergl\"}],\"scattermapbox\":[{\"marker\":{\"colorbar\":{\"outlinewidth\":0,\"ticks\":\"\"}},\"type\":\"scattermapbox\"}],\"scatterpolar\":[{\"marker\":{\"colorbar\":{\"outlinewidth\":0,\"ticks\":\"\"}},\"type\":\"scatterpolar\"}],\"scatterpolargl\":[{\"marker\":{\"colorbar\":{\"outlinewidth\":0,\"ticks\":\"\"}},\"type\":\"scatterpolargl\"}],\"scatterternary\":[{\"marker\":{\"colorbar\":{\"outlinewidth\":0,\"ticks\":\"\"}},\"type\":\"scatterternary\"}],\"surface\":[{\"colorbar\":{\"outlinewidth\":0,\"ticks\":\"\"},\"colorscale\":[[0.0,\"#0d0887\"],[0.1111111111111111,\"#46039f\"],[0.2222222222222222,\"#7201a8\"],[0.3333333333333333,\"#9c179e\"],[0.4444444444444444,\"#bd3786\"],[0.5555555555555556,\"#d8576b\"],[0.6666666666666666,\"#ed7953\"],[0.7777777777777778,\"#fb9f3a\"],[0.8888888888888888,\"#fdca26\"],[1.0,\"#f0f921\"]],\"type\":\"surface\"}],\"table\":[{\"cells\":{\"fill\":{\"color\":\"#EBF0F8\"},\"line\":{\"color\":\"white\"}},\"header\":{\"fill\":{\"color\":\"#C8D4E3\"},\"line\":{\"color\":\"white\"}},\"type\":\"table\"}]},\"layout\":{\"annotationdefaults\":{\"arrowcolor\":\"#2a3f5f\",\"arrowhead\":0,\"arrowwidth\":1},\"autotypenumbers\":\"strict\",\"coloraxis\":{\"colorbar\":{\"outlinewidth\":0,\"ticks\":\"\"}},\"colorscale\":{\"diverging\":[[0,\"#8e0152\"],[0.1,\"#c51b7d\"],[0.2,\"#de77ae\"],[0.3,\"#f1b6da\"],[0.4,\"#fde0ef\"],[0.5,\"#f7f7f7\"],[0.6,\"#e6f5d0\"],[0.7,\"#b8e186\"],[0.8,\"#7fbc41\"],[0.9,\"#4d9221\"],[1,\"#276419\"]],\"sequential\":[[0.0,\"#0d0887\"],[0.1111111111111111,\"#46039f\"],[0.2222222222222222,\"#7201a8\"],[0.3333333333333333,\"#9c179e\"],[0.4444444444444444,\"#bd3786\"],[0.5555555555555556,\"#d8576b\"],[0.6666666666666666,\"#ed7953\"],[0.7777777777777778,\"#fb9f3a\"],[0.8888888888888888,\"#fdca26\"],[1.0,\"#f0f921\"]],\"sequentialminus\":[[0.0,\"#0d0887\"],[0.1111111111111111,\"#46039f\"],[0.2222222222222222,\"#7201a8\"],[0.3333333333333333,\"#9c179e\"],[0.4444444444444444,\"#bd3786\"],[0.5555555555555556,\"#d8576b\"],[0.6666666666666666,\"#ed7953\"],[0.7777777777777778,\"#fb9f3a\"],[0.8888888888888888,\"#fdca26\"],[1.0,\"#f0f921\"]]},\"colorway\":[\"#636efa\",\"#EF553B\",\"#00cc96\",\"#ab63fa\",\"#FFA15A\",\"#19d3f3\",\"#FF6692\",\"#B6E880\",\"#FF97FF\",\"#FECB52\"],\"font\":{\"color\":\"#2a3f5f\"},\"geo\":{\"bgcolor\":\"white\",\"lakecolor\":\"white\",\"landcolor\":\"#E5ECF6\",\"showlakes\":true,\"showland\":true,\"subunitcolor\":\"white\"},\"hoverlabel\":{\"align\":\"left\"},\"hovermode\":\"closest\",\"mapbox\":{\"style\":\"light\"},\"paper_bgcolor\":\"white\",\"plot_bgcolor\":\"#E5ECF6\",\"polar\":{\"angularaxis\":{\"gridcolor\":\"white\",\"linecolor\":\"white\",\"ticks\":\"\"},\"bgcolor\":\"#E5ECF6\",\"radialaxis\":{\"gridcolor\":\"white\",\"linecolor\":\"white\",\"ticks\":\"\"}},\"scene\":{\"xaxis\":{\"backgroundcolor\":\"#E5ECF6\",\"gridcolor\":\"white\",\"gridwidth\":2,\"linecolor\":\"white\",\"showbackground\":true,\"ticks\":\"\",\"zerolinecolor\":\"white\"},\"yaxis\":{\"backgroundcolor\":\"#E5ECF6\",\"gridcolor\":\"white\",\"gridwidth\":2,\"linecolor\":\"white\",\"showbackground\":true,\"ticks\":\"\",\"zerolinecolor\":\"white\"},\"zaxis\":{\"backgroundcolor\":\"#E5ECF6\",\"gridcolor\":\"white\",\"gridwidth\":2,\"linecolor\":\"white\",\"showbackground\":true,\"ticks\":\"\",\"zerolinecolor\":\"white\"}},\"shapedefaults\":{\"line\":{\"color\":\"#2a3f5f\"}},\"ternary\":{\"aaxis\":{\"gridcolor\":\"white\",\"linecolor\":\"white\",\"ticks\":\"\"},\"baxis\":{\"gridcolor\":\"white\",\"linecolor\":\"white\",\"ticks\":\"\"},\"bgcolor\":\"#E5ECF6\",\"caxis\":{\"gridcolor\":\"white\",\"linecolor\":\"white\",\"ticks\":\"\"}},\"title\":{\"x\":0.05},\"xaxis\":{\"automargin\":true,\"gridcolor\":\"white\",\"linecolor\":\"white\",\"ticks\":\"\",\"title\":{\"standoff\":15},\"zerolinecolor\":\"white\",\"zerolinewidth\":2},\"yaxis\":{\"automargin\":true,\"gridcolor\":\"white\",\"linecolor\":\"white\",\"ticks\":\"\",\"title\":{\"standoff\":15},\"zerolinecolor\":\"white\",\"zerolinewidth\":2}}},\"xaxis\":{\"anchor\":\"y\",\"domain\":[0.0,1.0],\"title\":{\"text\":\"target\"}},\"yaxis\":{\"anchor\":\"x\",\"domain\":[0.0,1.0],\"title\":{\"text\":\"Counts\"}},\"coloraxis\":{\"colorbar\":{\"title\":{\"text\":\"Counts\"}},\"colorscale\":[[0.0,\"#0d0887\"],[0.1111111111111111,\"#46039f\"],[0.2222222222222222,\"#7201a8\"],[0.3333333333333333,\"#9c179e\"],[0.4444444444444444,\"#bd3786\"],[0.5555555555555556,\"#d8576b\"],[0.6666666666666666,\"#ed7953\"],[0.7777777777777778,\"#fb9f3a\"],[0.8888888888888888,\"#fdca26\"],[1.0,\"#f0f921\"]]},\"legend\":{\"tracegroupgap\":0},\"margin\":{\"t\":60},\"barmode\":\"group\",\"height\":400},                        {\"responsive\": true}                    ).then(function(){\n",
              "                            \n",
              "var gd = document.getElementById('15c18207-884a-46b1-b099-2d5ee807fe3b');\n",
              "var x = new MutationObserver(function (mutations, observer) {{\n",
              "        var display = window.getComputedStyle(gd).display;\n",
              "        if (!display || display === 'none') {{\n",
              "            console.log([gd, 'removed!']);\n",
              "            Plotly.purge(gd);\n",
              "            observer.disconnect();\n",
              "        }}\n",
              "}});\n",
              "\n",
              "// Listen for the removal of the full notebook cells\n",
              "var notebookContainer = gd.closest('#notebook-container');\n",
              "if (notebookContainer) {{\n",
              "    x.observe(notebookContainer, {childList: true});\n",
              "}}\n",
              "\n",
              "// Listen for the clearing of the current output cell\n",
              "var outputEl = gd.closest('.output');\n",
              "if (outputEl) {{\n",
              "    x.observe(outputEl, {childList: true});\n",
              "}}\n",
              "\n",
              "                        })                };                            </script>        </div>\n",
              "</body>\n",
              "</html>"
            ]
          },
          "metadata": {}
        }
      ]
    },
    {
      "cell_type": "markdown",
      "source": [
        "> 데이터 셋이 균형 잡힌 것처럼 보이기 때문에 균형 있게 만들기 위해 노력할 필요가 없습니다."
      ],
      "metadata": {
        "id": "Js33hPNyl0fr"
      }
    },
    {
      "cell_type": "markdown",
      "source": [
        "> 어떤 주제가 많나 확인해보겠습니다."
      ],
      "metadata": {
        "id": "0Q8yBYtAnnkx"
      }
    },
    {
      "cell_type": "code",
      "source": [
        "sub_check=df.groupby('subject').apply(lambda x:x['title'].count()).reset_index(name='Counts')\n",
        "fig=px.bar(sub_check,x='subject',y='Counts',color='Counts',title='Count of News Articles by Subject')\n",
        "fig.show()"
      ],
      "metadata": {
        "colab": {
          "base_uri": "https://localhost:8080/",
          "height": 542
        },
        "id": "OMIfpH9Xn5lj",
        "outputId": "6b98783c-3992-40a4-bc5d-0e49e3a3737b"
      },
      "execution_count": 29,
      "outputs": [
        {
          "output_type": "display_data",
          "data": {
            "text/html": [
              "<html>\n",
              "<head><meta charset=\"utf-8\" /></head>\n",
              "<body>\n",
              "    <div>            <script src=\"https://cdnjs.cloudflare.com/ajax/libs/mathjax/2.7.5/MathJax.js?config=TeX-AMS-MML_SVG\"></script><script type=\"text/javascript\">if (window.MathJax) {MathJax.Hub.Config({SVG: {font: \"STIX-Web\"}});}</script>                <script type=\"text/javascript\">window.PlotlyConfig = {MathJaxConfig: 'local'};</script>\n",
              "        <script src=\"https://cdn.plot.ly/plotly-2.8.3.min.js\"></script>                <div id=\"ea25767b-b5c4-4308-b1d3-8c1c406d7f3c\" class=\"plotly-graph-div\" style=\"height:525px; width:100%;\"></div>            <script type=\"text/javascript\">                                    window.PLOTLYENV=window.PLOTLYENV || {};                                    if (document.getElementById(\"ea25767b-b5c4-4308-b1d3-8c1c406d7f3c\")) {                    Plotly.newPlot(                        \"ea25767b-b5c4-4308-b1d3-8c1c406d7f3c\",                        [{\"alignmentgroup\":\"True\",\"hovertemplate\":\"subject=%{x}<br>Counts=%{marker.color}<extra></extra>\",\"legendgroup\":\"\",\"marker\":{\"color\":[1570,778,9050,18113,783,4459,10145],\"coloraxis\":\"coloraxis\",\"pattern\":{\"shape\":\"\"}},\"name\":\"\",\"offsetgroup\":\"\",\"orientation\":\"v\",\"showlegend\":false,\"textposition\":\"auto\",\"x\":[\"Government News\",\"Middle-east\",\"News\",\"PoliticsNews\",\"US_News\",\"left-news\",\"worldnews\"],\"xaxis\":\"x\",\"y\":[1570,778,9050,18113,783,4459,10145],\"yaxis\":\"y\",\"type\":\"bar\"}],                        {\"template\":{\"data\":{\"bar\":[{\"error_x\":{\"color\":\"#2a3f5f\"},\"error_y\":{\"color\":\"#2a3f5f\"},\"marker\":{\"line\":{\"color\":\"#E5ECF6\",\"width\":0.5},\"pattern\":{\"fillmode\":\"overlay\",\"size\":10,\"solidity\":0.2}},\"type\":\"bar\"}],\"barpolar\":[{\"marker\":{\"line\":{\"color\":\"#E5ECF6\",\"width\":0.5},\"pattern\":{\"fillmode\":\"overlay\",\"size\":10,\"solidity\":0.2}},\"type\":\"barpolar\"}],\"carpet\":[{\"aaxis\":{\"endlinecolor\":\"#2a3f5f\",\"gridcolor\":\"white\",\"linecolor\":\"white\",\"minorgridcolor\":\"white\",\"startlinecolor\":\"#2a3f5f\"},\"baxis\":{\"endlinecolor\":\"#2a3f5f\",\"gridcolor\":\"white\",\"linecolor\":\"white\",\"minorgridcolor\":\"white\",\"startlinecolor\":\"#2a3f5f\"},\"type\":\"carpet\"}],\"choropleth\":[{\"colorbar\":{\"outlinewidth\":0,\"ticks\":\"\"},\"type\":\"choropleth\"}],\"contour\":[{\"colorbar\":{\"outlinewidth\":0,\"ticks\":\"\"},\"colorscale\":[[0.0,\"#0d0887\"],[0.1111111111111111,\"#46039f\"],[0.2222222222222222,\"#7201a8\"],[0.3333333333333333,\"#9c179e\"],[0.4444444444444444,\"#bd3786\"],[0.5555555555555556,\"#d8576b\"],[0.6666666666666666,\"#ed7953\"],[0.7777777777777778,\"#fb9f3a\"],[0.8888888888888888,\"#fdca26\"],[1.0,\"#f0f921\"]],\"type\":\"contour\"}],\"contourcarpet\":[{\"colorbar\":{\"outlinewidth\":0,\"ticks\":\"\"},\"type\":\"contourcarpet\"}],\"heatmap\":[{\"colorbar\":{\"outlinewidth\":0,\"ticks\":\"\"},\"colorscale\":[[0.0,\"#0d0887\"],[0.1111111111111111,\"#46039f\"],[0.2222222222222222,\"#7201a8\"],[0.3333333333333333,\"#9c179e\"],[0.4444444444444444,\"#bd3786\"],[0.5555555555555556,\"#d8576b\"],[0.6666666666666666,\"#ed7953\"],[0.7777777777777778,\"#fb9f3a\"],[0.8888888888888888,\"#fdca26\"],[1.0,\"#f0f921\"]],\"type\":\"heatmap\"}],\"heatmapgl\":[{\"colorbar\":{\"outlinewidth\":0,\"ticks\":\"\"},\"colorscale\":[[0.0,\"#0d0887\"],[0.1111111111111111,\"#46039f\"],[0.2222222222222222,\"#7201a8\"],[0.3333333333333333,\"#9c179e\"],[0.4444444444444444,\"#bd3786\"],[0.5555555555555556,\"#d8576b\"],[0.6666666666666666,\"#ed7953\"],[0.7777777777777778,\"#fb9f3a\"],[0.8888888888888888,\"#fdca26\"],[1.0,\"#f0f921\"]],\"type\":\"heatmapgl\"}],\"histogram\":[{\"marker\":{\"pattern\":{\"fillmode\":\"overlay\",\"size\":10,\"solidity\":0.2}},\"type\":\"histogram\"}],\"histogram2d\":[{\"colorbar\":{\"outlinewidth\":0,\"ticks\":\"\"},\"colorscale\":[[0.0,\"#0d0887\"],[0.1111111111111111,\"#46039f\"],[0.2222222222222222,\"#7201a8\"],[0.3333333333333333,\"#9c179e\"],[0.4444444444444444,\"#bd3786\"],[0.5555555555555556,\"#d8576b\"],[0.6666666666666666,\"#ed7953\"],[0.7777777777777778,\"#fb9f3a\"],[0.8888888888888888,\"#fdca26\"],[1.0,\"#f0f921\"]],\"type\":\"histogram2d\"}],\"histogram2dcontour\":[{\"colorbar\":{\"outlinewidth\":0,\"ticks\":\"\"},\"colorscale\":[[0.0,\"#0d0887\"],[0.1111111111111111,\"#46039f\"],[0.2222222222222222,\"#7201a8\"],[0.3333333333333333,\"#9c179e\"],[0.4444444444444444,\"#bd3786\"],[0.5555555555555556,\"#d8576b\"],[0.6666666666666666,\"#ed7953\"],[0.7777777777777778,\"#fb9f3a\"],[0.8888888888888888,\"#fdca26\"],[1.0,\"#f0f921\"]],\"type\":\"histogram2dcontour\"}],\"mesh3d\":[{\"colorbar\":{\"outlinewidth\":0,\"ticks\":\"\"},\"type\":\"mesh3d\"}],\"parcoords\":[{\"line\":{\"colorbar\":{\"outlinewidth\":0,\"ticks\":\"\"}},\"type\":\"parcoords\"}],\"pie\":[{\"automargin\":true,\"type\":\"pie\"}],\"scatter\":[{\"marker\":{\"colorbar\":{\"outlinewidth\":0,\"ticks\":\"\"}},\"type\":\"scatter\"}],\"scatter3d\":[{\"line\":{\"colorbar\":{\"outlinewidth\":0,\"ticks\":\"\"}},\"marker\":{\"colorbar\":{\"outlinewidth\":0,\"ticks\":\"\"}},\"type\":\"scatter3d\"}],\"scattercarpet\":[{\"marker\":{\"colorbar\":{\"outlinewidth\":0,\"ticks\":\"\"}},\"type\":\"scattercarpet\"}],\"scattergeo\":[{\"marker\":{\"colorbar\":{\"outlinewidth\":0,\"ticks\":\"\"}},\"type\":\"scattergeo\"}],\"scattergl\":[{\"marker\":{\"colorbar\":{\"outlinewidth\":0,\"ticks\":\"\"}},\"type\":\"scattergl\"}],\"scattermapbox\":[{\"marker\":{\"colorbar\":{\"outlinewidth\":0,\"ticks\":\"\"}},\"type\":\"scattermapbox\"}],\"scatterpolar\":[{\"marker\":{\"colorbar\":{\"outlinewidth\":0,\"ticks\":\"\"}},\"type\":\"scatterpolar\"}],\"scatterpolargl\":[{\"marker\":{\"colorbar\":{\"outlinewidth\":0,\"ticks\":\"\"}},\"type\":\"scatterpolargl\"}],\"scatterternary\":[{\"marker\":{\"colorbar\":{\"outlinewidth\":0,\"ticks\":\"\"}},\"type\":\"scatterternary\"}],\"surface\":[{\"colorbar\":{\"outlinewidth\":0,\"ticks\":\"\"},\"colorscale\":[[0.0,\"#0d0887\"],[0.1111111111111111,\"#46039f\"],[0.2222222222222222,\"#7201a8\"],[0.3333333333333333,\"#9c179e\"],[0.4444444444444444,\"#bd3786\"],[0.5555555555555556,\"#d8576b\"],[0.6666666666666666,\"#ed7953\"],[0.7777777777777778,\"#fb9f3a\"],[0.8888888888888888,\"#fdca26\"],[1.0,\"#f0f921\"]],\"type\":\"surface\"}],\"table\":[{\"cells\":{\"fill\":{\"color\":\"#EBF0F8\"},\"line\":{\"color\":\"white\"}},\"header\":{\"fill\":{\"color\":\"#C8D4E3\"},\"line\":{\"color\":\"white\"}},\"type\":\"table\"}]},\"layout\":{\"annotationdefaults\":{\"arrowcolor\":\"#2a3f5f\",\"arrowhead\":0,\"arrowwidth\":1},\"autotypenumbers\":\"strict\",\"coloraxis\":{\"colorbar\":{\"outlinewidth\":0,\"ticks\":\"\"}},\"colorscale\":{\"diverging\":[[0,\"#8e0152\"],[0.1,\"#c51b7d\"],[0.2,\"#de77ae\"],[0.3,\"#f1b6da\"],[0.4,\"#fde0ef\"],[0.5,\"#f7f7f7\"],[0.6,\"#e6f5d0\"],[0.7,\"#b8e186\"],[0.8,\"#7fbc41\"],[0.9,\"#4d9221\"],[1,\"#276419\"]],\"sequential\":[[0.0,\"#0d0887\"],[0.1111111111111111,\"#46039f\"],[0.2222222222222222,\"#7201a8\"],[0.3333333333333333,\"#9c179e\"],[0.4444444444444444,\"#bd3786\"],[0.5555555555555556,\"#d8576b\"],[0.6666666666666666,\"#ed7953\"],[0.7777777777777778,\"#fb9f3a\"],[0.8888888888888888,\"#fdca26\"],[1.0,\"#f0f921\"]],\"sequentialminus\":[[0.0,\"#0d0887\"],[0.1111111111111111,\"#46039f\"],[0.2222222222222222,\"#7201a8\"],[0.3333333333333333,\"#9c179e\"],[0.4444444444444444,\"#bd3786\"],[0.5555555555555556,\"#d8576b\"],[0.6666666666666666,\"#ed7953\"],[0.7777777777777778,\"#fb9f3a\"],[0.8888888888888888,\"#fdca26\"],[1.0,\"#f0f921\"]]},\"colorway\":[\"#636efa\",\"#EF553B\",\"#00cc96\",\"#ab63fa\",\"#FFA15A\",\"#19d3f3\",\"#FF6692\",\"#B6E880\",\"#FF97FF\",\"#FECB52\"],\"font\":{\"color\":\"#2a3f5f\"},\"geo\":{\"bgcolor\":\"white\",\"lakecolor\":\"white\",\"landcolor\":\"#E5ECF6\",\"showlakes\":true,\"showland\":true,\"subunitcolor\":\"white\"},\"hoverlabel\":{\"align\":\"left\"},\"hovermode\":\"closest\",\"mapbox\":{\"style\":\"light\"},\"paper_bgcolor\":\"white\",\"plot_bgcolor\":\"#E5ECF6\",\"polar\":{\"angularaxis\":{\"gridcolor\":\"white\",\"linecolor\":\"white\",\"ticks\":\"\"},\"bgcolor\":\"#E5ECF6\",\"radialaxis\":{\"gridcolor\":\"white\",\"linecolor\":\"white\",\"ticks\":\"\"}},\"scene\":{\"xaxis\":{\"backgroundcolor\":\"#E5ECF6\",\"gridcolor\":\"white\",\"gridwidth\":2,\"linecolor\":\"white\",\"showbackground\":true,\"ticks\":\"\",\"zerolinecolor\":\"white\"},\"yaxis\":{\"backgroundcolor\":\"#E5ECF6\",\"gridcolor\":\"white\",\"gridwidth\":2,\"linecolor\":\"white\",\"showbackground\":true,\"ticks\":\"\",\"zerolinecolor\":\"white\"},\"zaxis\":{\"backgroundcolor\":\"#E5ECF6\",\"gridcolor\":\"white\",\"gridwidth\":2,\"linecolor\":\"white\",\"showbackground\":true,\"ticks\":\"\",\"zerolinecolor\":\"white\"}},\"shapedefaults\":{\"line\":{\"color\":\"#2a3f5f\"}},\"ternary\":{\"aaxis\":{\"gridcolor\":\"white\",\"linecolor\":\"white\",\"ticks\":\"\"},\"baxis\":{\"gridcolor\":\"white\",\"linecolor\":\"white\",\"ticks\":\"\"},\"bgcolor\":\"#E5ECF6\",\"caxis\":{\"gridcolor\":\"white\",\"linecolor\":\"white\",\"ticks\":\"\"}},\"title\":{\"x\":0.05},\"xaxis\":{\"automargin\":true,\"gridcolor\":\"white\",\"linecolor\":\"white\",\"ticks\":\"\",\"title\":{\"standoff\":15},\"zerolinecolor\":\"white\",\"zerolinewidth\":2},\"yaxis\":{\"automargin\":true,\"gridcolor\":\"white\",\"linecolor\":\"white\",\"ticks\":\"\",\"title\":{\"standoff\":15},\"zerolinecolor\":\"white\",\"zerolinewidth\":2}}},\"xaxis\":{\"anchor\":\"y\",\"domain\":[0.0,1.0],\"title\":{\"text\":\"subject\"}},\"yaxis\":{\"anchor\":\"x\",\"domain\":[0.0,1.0],\"title\":{\"text\":\"Counts\"}},\"coloraxis\":{\"colorbar\":{\"title\":{\"text\":\"Counts\"}},\"colorscale\":[[0.0,\"#0d0887\"],[0.1111111111111111,\"#46039f\"],[0.2222222222222222,\"#7201a8\"],[0.3333333333333333,\"#9c179e\"],[0.4444444444444444,\"#bd3786\"],[0.5555555555555556,\"#d8576b\"],[0.6666666666666666,\"#ed7953\"],[0.7777777777777778,\"#fb9f3a\"],[0.8888888888888888,\"#fdca26\"],[1.0,\"#f0f921\"]]},\"legend\":{\"tracegroupgap\":0},\"title\":{\"text\":\"Count of News Articles by Subject\"},\"barmode\":\"relative\"},                        {\"responsive\": true}                    ).then(function(){\n",
              "                            \n",
              "var gd = document.getElementById('ea25767b-b5c4-4308-b1d3-8c1c406d7f3c');\n",
              "var x = new MutationObserver(function (mutations, observer) {{\n",
              "        var display = window.getComputedStyle(gd).display;\n",
              "        if (!display || display === 'none') {{\n",
              "            console.log([gd, 'removed!']);\n",
              "            Plotly.purge(gd);\n",
              "            observer.disconnect();\n",
              "        }}\n",
              "}});\n",
              "\n",
              "// Listen for the removal of the full notebook cells\n",
              "var notebookContainer = gd.closest('#notebook-container');\n",
              "if (notebookContainer) {{\n",
              "    x.observe(notebookContainer, {childList: true});\n",
              "}}\n",
              "\n",
              "// Listen for the clearing of the current output cell\n",
              "var outputEl = gd.closest('.output');\n",
              "if (outputEl) {{\n",
              "    x.observe(outputEl, {childList: true});\n",
              "}}\n",
              "\n",
              "                        })                };                            </script>        </div>\n",
              "</body>\n",
              "</html>"
            ]
          },
          "metadata": {}
        }
      ]
    },
    {
      "cell_type": "markdown",
      "source": [
        "> PoliticalNews와 WorldNews가 데이터 셋에서 가장 많은 지배적인 카운트를 보유하고 있습니다."
      ],
      "metadata": {
        "id": "UuGU-W18pozu"
      }
    },
    {
      "cell_type": "markdown",
      "source": [
        "> 뉴스 헤드라인이 뉴스가 가짜인지 아닌지를 예측하기에 충분할까? 다음 분석에서 확인할 수 있습니다."
      ],
      "metadata": {
        "id": "Gr-ecgdFtH7V"
      }
    },
    {
      "cell_type": "code",
      "source": [
        "import gensim\n",
        "df['clean_title'] = df['title'].apply(preprocess)\n",
        "df['clean_title'][0]"
      ],
      "metadata": {
        "colab": {
          "base_uri": "https://localhost:8080/"
        },
        "id": "WkXKyLGQt5M0",
        "outputId": "37dc973b-91c9-4e7b-e993-b255f8f2f286"
      },
      "execution_count": 30,
      "outputs": [
        {
          "output_type": "execute_result",
          "data": {
            "text/plain": [
              "['budget', 'fight', 'looms', 'republicans', 'flip', 'fiscal', 'script']"
            ]
          },
          "metadata": {},
          "execution_count": 30
        }
      ]
    },
    {
      "cell_type": "code",
      "source": [
        "df['clean_joined_title']=df['clean_title'].apply(lambda x:\" \".join(x))"
      ],
      "metadata": {
        "id": "ThGoGinBy6qF"
      },
      "execution_count": 31,
      "outputs": []
    },
    {
      "cell_type": "markdown",
      "source": [
        "> 제목에 대한 Word Cloud를 살펴보도록 하겠습니다.\n",
        "진짜 뉴스 헤드라인을 사용하여 Word Cloud를 확인합니다."
      ],
      "metadata": {
        "id": "SwW8qPqCzEWD"
      }
    },
    {
      "cell_type": "code",
      "source": [
        "import matplotlib.pyplot as plt\n",
        "from wordcloud import WordCloud, STOPWORDS\n",
        "plt.figure(figsize = (20,20)) \n",
        "wc = WordCloud(max_words = 2000 , width = 1600 , height = 800 , stopwords = stop_words).generate(\" \".join(df[df.target == 1].clean_joined_title))\n",
        "# plt.imshow(wc, interpolation = 'bilinear')"
      ],
      "metadata": {
        "colab": {
          "base_uri": "https://localhost:8080/",
          "height": 36
        },
        "id": "HIoL94Llzezv",
        "outputId": "2fbd1df2-019e-4087-8a06-f2c51369b5e7"
      },
      "execution_count": 32,
      "outputs": [
        {
          "output_type": "display_data",
          "data": {
            "text/plain": [
              "<Figure size 1440x1440 with 0 Axes>"
            ]
          },
          "metadata": {}
        }
      ]
    },
    {
      "cell_type": "markdown",
      "source": [
        "> 가짜 뉴스 헤드라인을 사용하여 Word Cloud를 확인합니다."
      ],
      "metadata": {
        "id": "PIMie-DKzyjO"
      }
    },
    {
      "cell_type": "code",
      "source": [
        "plt.figure(figsize = (20,20)) \n",
        "wc = WordCloud(max_words = 2000 , width = 1600 , height = 800 , stopwords = stop_words).generate(\" \".join(df[df.target == 0].clean_joined_title))\n",
        "# plt.imshow(wc, interpolation = 'bilinear')"
      ],
      "metadata": {
        "colab": {
          "base_uri": "https://localhost:8080/",
          "height": 36
        },
        "id": "gVCUQhL8z-a4",
        "outputId": "cf03e00e-96e8-4113-9a56-735545951860"
      },
      "execution_count": 33,
      "outputs": [
        {
          "output_type": "display_data",
          "data": {
            "text/plain": [
              "<Figure size 1440x1440 with 0 Axes>"
            ]
          },
          "metadata": {}
        }
      ]
    },
    {
      "cell_type": "markdown",
      "source": [
        "> 제목에 있는 단어 수 분포를 살펴보겠습니다."
      ],
      "metadata": {
        "id": "f5NqGydv0Egz"
      }
    },
    {
      "cell_type": "code",
      "source": [
        "nltk.download('punkt')\n",
        "maxlen = -1\n",
        "for doc in df.clean_joined_title:\n",
        "    tokens = nltk.word_tokenize(doc)\n",
        "    if(maxlen<len(tokens)):\n",
        "        maxlen = len(tokens)\n",
        "print(\"The maximum number of words in a title is =\", maxlen)\n",
        "fig = px.histogram(x = [len(nltk.word_tokenize(x)) for x in df.clean_joined_title], nbins = 50)\n",
        "fig.show()"
      ],
      "metadata": {
        "colab": {
          "base_uri": "https://localhost:8080/",
          "height": 598
        },
        "id": "3vpBP98E0HBI",
        "outputId": "8a568007-663f-4746-cbbd-f836c2c84893"
      },
      "execution_count": 34,
      "outputs": [
        {
          "output_type": "stream",
          "name": "stderr",
          "text": [
            "[nltk_data] Downloading package punkt to /root/nltk_data...\n",
            "[nltk_data]   Package punkt is already up-to-date!\n"
          ]
        },
        {
          "output_type": "stream",
          "name": "stdout",
          "text": [
            "The maximum number of words in a title is = 34\n"
          ]
        },
        {
          "output_type": "display_data",
          "data": {
            "text/html": [
              "<html>\n",
              "<head><meta charset=\"utf-8\" /></head>\n",
              "<body>\n",
              "    <div>            <script src=\"https://cdnjs.cloudflare.com/ajax/libs/mathjax/2.7.5/MathJax.js?config=TeX-AMS-MML_SVG\"></script><script type=\"text/javascript\">if (window.MathJax) {MathJax.Hub.Config({SVG: {font: \"STIX-Web\"}});}</script>                <script type=\"text/javascript\">window.PlotlyConfig = {MathJaxConfig: 'local'};</script>\n",
              "        <script src=\"https://cdn.plot.ly/plotly-2.8.3.min.js\"></script>                <div id=\"dd244e0e-479a-4108-b388-bd7b1d05da6d\" class=\"plotly-graph-div\" style=\"height:525px; width:100%;\"></div>            <script type=\"text/javascript\">                                    window.PLOTLYENV=window.PLOTLYENV || {};                                    if (document.getElementById(\"dd244e0e-479a-4108-b388-bd7b1d05da6d\")) {                    Plotly.newPlot(                        \"dd244e0e-479a-4108-b388-bd7b1d05da6d\",                        [{\"alignmentgroup\":\"True\",\"bingroup\":\"x\",\"hovertemplate\":\"x=%{x}<br>count=%{y}<extra></extra>\",\"legendgroup\":\"\",\"marker\":{\"color\":\"#636efa\",\"pattern\":{\"shape\":\"\"}},\"name\":\"\",\"nbinsx\":50,\"offsetgroup\":\"\",\"orientation\":\"v\",\"showlegend\":false,\"x\":[7,6,6,8,7,7,8,7,5,10,7,7,8,6,9,9,7,7,8,10,8,8,8,9,7,7,6,7,7,5,7,6,8,7,10,8,8,7,7,5,7,8,9,5,7,8,7,7,9,8,7,8,7,7,6,6,5,7,8,7,7,7,6,6,7,7,6,7,8,10,4,3,7,10,7,5,6,8,8,9,7,8,6,9,7,9,6,5,8,8,7,7,6,8,7,7,8,9,8,5,7,9,6,8,6,7,5,6,8,4,9,6,7,6,5,9,7,7,7,8,6,6,5,7,8,8,8,7,9,8,6,8,9,8,7,10,7,7,9,6,8,9,6,5,7,5,7,8,7,12,8,10,7,8,5,6,9,9,8,7,9,8,8,7,8,3,4,6,6,9,6,8,5,7,7,6,9,6,7,7,7,7,8,7,10,8,8,7,9,7,9,7,9,9,7,10,6,8,7,8,8,6,7,9,8,9,7,7,8,6,8,8,8,8,7,9,7,7,6,9,9,6,7,7,10,8,7,6,7,10,8,11,8,8,8,6,10,7,7,8,6,8,5,8,7,7,8,9,7,7,9,8,7,4,9,8,8,8,7,7,7,7,6,8,10,8,7,9,8,10,5,4,7,10,7,8,7,8,4,8,8,6,8,9,7,7,8,6,6,9,7,9,9,6,10,6,7,7,7,9,5,5,8,6,5,8,6,7,7,8,7,7,8,9,6,7,7,7,7,9,6,9,8,6,8,8,7,5,6,11,8,5,6,8,7,8,8,7,8,8,8,8,7,5,6,6,8,7,7,7,9,10,8,9,8,8,7,7,7,6,7,7,8,7,7,7,8,5,6,7,9,11,9,10,5,7,7,7,5,7,7,6,7,10,10,9,7,7,8,7,9,8,7,7,9,7,7,7,9,6,8,10,7,6,6,7,7,7,7,8,6,8,7,10,5,9,6,7,7,5,9,7,8,7,7,8,6,6,9,8,3,7,7,7,8,6,6,9,7,7,5,7,7,8,7,6,7,8,6,6,7,8,10,5,7,7,7,8,8,10,7,4,8,7,8,6,6,7,6,8,6,8,9,10,4,8,9,9,5,6,6,6,8,6,6,6,7,8,8,7,6,6,8,7,7,6,7,8,7,6,5,6,5,10,7,7,5,8,6,11,5,8,6,7,6,7,6,7,6,7,7,10,5,6,7,7,7,8,8,7,8,5,5,8,9,8,8,7,8,11,9,11,8,8,10,7,7,8,9,6,8,6,6,7,8,9,6,7,7,7,8,7,9,9,7,6,10,8,8,7,7,10,10,8,5,8,7,10,8,8,6,5,7,7,8,8,8,8,7,8,9,7,7,8,6,9,7,8,7,7,9,8,7,8,7,7,10,7,8,10,8,7,5,8,10,7,8,7,6,7,9,8,5,8,8,6,11,9,7,10,7,9,8,9,9,9,6,7,8,7,7,7,7,9,6,8,6,7,11,9,5,8,8,7,9,8,8,8,6,8,7,6,8,6,8,8,9,7,9,6,5,8,8,8,7,10,7,8,6,6,7,8,9,7,11,7,7,9,6,9,9,7,8,6,11,8,7,7,9,7,6,10,7,9,7,5,7,11,9,7,8,7,7,6,9,8,8,7,10,5,5,8,9,8,7,6,7,9,9,7,12,6,7,5,8,6,7,5,10,6,7,8,8,5,11,7,8,7,7,9,6,7,8,8,8,8,6,6,6,9,6,10,8,8,9,8,10,9,9,7,7,11,6,8,5,7,9,7,8,8,10,8,7,7,6,7,7,10,9,7,9,9,6,8,7,9,10,7,8,8,8,10,11,8,7,6,7,7,8,9,7,7,9,8,8,6,7,9,10,11,6,9,8,7,9,8,10,9,8,7,8,9,8,7,10,7,6,8,7,6,9,7,7,7,6,7,8,7,10,9,7,6,9,9,9,8,9,7,7,5,7,6,7,8,9,7,6,7,8,8,7,9,8,8,8,6,7,6,7,10,8,6,6,9,5,9,9,10,5,8,6,5,7,8,8,7,8,7,7,7,6,8,7,4,8,7,7,7,7,7,7,8,6,7,11,8,7,7,8,7,7,8,5,8,7,6,6,5,5,7,8,10,8,5,6,8,6,7,8,6,9,6,8,8,7,7,8,7,9,7,9,9,10,8,9,6,8,7,8,8,7,7,7,4,6,9,9,7,9,6,7,7,8,7,7,8,6,7,7,7,9,8,8,10,7,9,7,7,9,10,9,9,6,6,9,8,6,8,10,7,5,7,9,7,8,8,7,8,5,8,7,9,8,8,6,6,6,8,10,7,7,10,6,8,5,10,10,8,8,6,6,7,10,7,10,6,7,7,7,8,6,6,8,10,8,9,9,7,6,7,9,9,8,7,9,7,6,9,6,7,7,7,7,5,8,7,8,7,8,7,8,7,7,6,7,5,8,6,8,7,8,8,6,7,8,8,8,9,8,7,6,8,7,9,8,9,5,6,7,8,5,8,8,9,8,11,6,8,7,7,10,7,8,7,8,9,8,7,8,8,9,7,8,7,8,9,8,8,10,8,10,7,9,7,6,7,8,6,7,6,7,7,9,7,7,8,6,6,10,10,8,7,8,9,10,7,6,8,6,6,9,7,7,7,9,7,7,9,6,6,8,7,7,6,6,10,8,8,8,10,6,6,9,5,8,7,8,7,7,9,8,8,7,7,9,6,7,7,7,7,7,9,7,6,8,6,7,10,8,8,7,6,9,8,5,7,6,6,6,7,8,8,8,7,4,10,7,8,7,9,9,8,7,7,8,6,8,6,8,9,8,7,8,7,10,9,7,6,8,7,7,8,8,10,9,8,8,10,6,6,8,6,9,7,6,7,9,8,6,8,7,5,6,6,8,7,9,9,7,8,9,7,7,8,9,9,6,8,7,8,8,7,8,8,8,7,7,5,6,6,9,10,6,8,5,8,8,9,8,7,10,7,8,8,6,6,7,8,9,5,8,7,9,7,9,7,8,8,11,6,6,7,9,7,7,8,7,6,9,8,8,9,6,6,6,8,9,7,9,8,4,6,9,9,9,8,11,7,9,9,8,9,8,8,6,9,8,6,6,6,7,7,6,7,7,8,6,7,6,8,8,10,8,10,7,7,9,7,8,7,6,5,5,11,9,9,8,8,8,7,8,9,6,8,5,8,7,8,4,6,8,7,8,7,8,9,6,7,7,7,6,8,6,8,6,8,8,9,6,5,5,9,7,7,9,4,7,7,8,7,10,8,7,7,6,9,7,6,7,10,9,8,7,5,6,6,5,7,7,5,6,9,8,5,6,7,4,8,10,7,7,9,9,5,6,7,7,8,9,7,8,10,8,9,7,9,5,8,6,7,7,7,7,8,9,8,7,5,7,10,8,6,7,7,9,8,7,8,7,9,7,7,8,5,7,8,7,8,9,7,9,7,6,8,7,8,8,8,9,8,10,7,8,8,8,5,5,7,11,9,6,6,6,5,6,8,8,9,7,7,9,8,7,5,6,7,6,7,8,8,8,7,9,6,7,4,7,8,8,7,13,4,8,8,6,9,8,6,6,6,7,6,9,7,8,5,8,9,5,5,5,6,8,8,7,8,7,8,8,8,6,8,6,8,7,7,6,6,6,6,7,10,6,6,6,4,9,7,10,11,8,7,7,6,9,8,9,6,6,7,8,8,11,9,7,6,6,6,8,9,7,6,7,5,6,10,8,11,7,11,8,7,6,8,7,5,8,10,7,8,7,9,8,8,10,7,10,5,8,7,9,6,9,7,9,9,7,9,9,8,6,10,9,8,7,6,8,6,7,7,8,6,4,8,6,7,7,6,9,6,8,7,8,8,7,8,6,7,7,8,7,10,8,8,7,6,7,10,8,8,9,6,9,9,7,8,9,7,6,8,8,6,8,6,7,7,9,7,7,9,8,6,7,8,7,7,7,7,8,7,7,5,7,7,6,7,8,5,8,8,9,6,8,7,6,8,7,8,7,7,8,9,7,6,8,8,8,7,6,6,7,7,6,7,7,8,7,8,8,9,6,7,10,8,6,8,6,7,6,4,9,9,8,8,7,6,5,8,8,7,8,7,7,8,7,8,7,8,7,8,7,6,7,8,8,9,9,9,6,8,8,7,8,6,8,6,8,9,9,7,8,8,8,8,8,8,8,6,8,7,9,9,5,5,6,7,8,10,7,7,5,8,6,7,7,10,9,8,7,7,8,9,7,9,8,10,8,8,7,6,10,7,6,7,8,8,9,9,7,7,10,6,9,7,7,7,5,8,7,6,8,6,8,8,8,9,7,7,7,8,5,7,7,8,6,8,7,8,8,9,6,8,7,8,7,7,7,7,7,9,8,8,7,8,7,6,7,6,7,7,7,8,8,8,8,7,7,9,7,7,7,7,5,9,7,8,8,8,6,7,7,6,7,7,8,4,9,10,9,7,8,8,7,9,7,8,9,9,8,9,10,7,7,5,7,7,7,8,7,8,7,5,7,7,7,8,6,7,11,8,6,7,7,8,9,8,7,8,7,7,10,7,9,6,7,6,8,6,10,4,9,10,7,12,8,5,8,7,7,9,8,6,8,8,6,7,7,7,5,8,7,8,6,7,8,5,8,7,8,6,8,8,6,7,8,7,6,8,6,10,9,8,6,7,7,8,9,9,6,6,7,9,6,7,6,8,8,7,8,11,6,7,8,7,7,6,8,8,7,6,6,8,6,10,7,8,5,9,5,8,9,8,7,9,5,7,6,9,8,7,6,7,8,4,8,8,8,6,5,8,10,8,6,5,6,9,6,7,9,8,7,9,7,7,7,7,6,7,8,7,7,7,7,7,6,8,7,7,8,7,7,5,7,7,7,7,8,6,7,8,7,6,7,7,7,5,7,9,5,6,6,8,7,7,7,8,7,5,8,8,10,7,5,7,7,6,9,8,7,7,8,7,7,7,8,8,8,8,7,7,6,6,8,6,10,6,8,8,8,9,10,7,6,6,8,7,5,6,7,6,8,7,6,8,8,6,9,7,8,7,8,8,6,9,9,8,8,8,6,7,10,6,7,5,6,9,7,5,8,6,7,6,9,8,8,9,8,8,7,7,7,8,7,8,8,8,6,9,8,8,8,6,9,7,9,8,6,7,6,6,6,8,8,7,9,7,6,6,6,8,9,5,8,11,8,9,7,7,7,7,6,7,7,9,8,10,9,10,7,5,7,7,7,8,7,7,7,6,7,8,6,6,8,9,11,4,8,10,7,7,8,6,8,6,8,6,7,8,10,4,6,8,8,8,5,8,8,8,6,5,9,6,7,7,7,7,7,7,7,8,7,9,7,5,6,7,5,8,6,9,6,8,12,8,7,6,7,9,9,8,7,9,7,8,6,7,9,5,6,10,7,6,9,7,9,7,9,5,7,7,9,6,9,6,7,7,6,6,6,9,7,10,4,8,7,6,8,7,8,6,10,8,4,6,6,7,7,7,5,7,8,5,9,7,8,5,8,7,7,5,5,8,7,8,7,5,9,6,6,7,10,8,5,7,6,7,7,8,6,7,4,7,8,8,6,7,7,4,7,10,9,6,8,7,8,7,6,7,7,6,8,8,9,7,8,7,8,7,8,7,7,8,7,8,5,7,7,7,6,7,8,10,6,8,7,7,8,6,9,6,5,8,7,7,6,7,7,6,7,7,7,7,7,8,7,9,7,6,7,7,9,6,7,9,9,8,8,8,7,5,5,8,6,7,9,7,7,8,9,6,7,8,7,8,7,5,7,9,4,6,6,8,9,7,8,7,6,8,8,7,6,6,9,7,8,6,5,8,5,7,7,6,8,7,7,6,7,7,8,7,8,6,8,8,6,5,9,7,12,9,5,6,9,6,7,6,8,7,7,7,8,6,8,7,8,5,8,7,9,8,10,10,7,6,6,8,9,6,7,7,7,7,9,8,7,8,7,7,6,8,6,6,9,6,8,7,8,8,7,8,9,7,7,7,8,8,8,6,8,7,8,6,6,9,6,8,8,8,6,8,7,6,6,10,7,8,7,7,9,8,6,8,7,8,9,7,6,8,7,5,7,8,7,8,7,8,6,8,9,6,5,7,5,6,6,7,7,7,7,5,9,7,7,8,6,9,7,7,8,8,7,6,5,6,8,8,7,8,8,4,7,8,6,7,10,9,5,7,8,9,7,6,7,6,8,8,9,8,7,6,7,6,6,8,8,7,7,6,8,6,8,5,7,9,5,5,8,8,5,7,8,7,7,8,4,6,9,6,5,8,7,8,7,8,8,11,6,8,6,7,6,4,7,8,10,9,7,9,7,9,8,7,6,6,6,8,7,7,8,7,9,8,6,6,5,6,7,6,7,8,6,7,8,8,8,6,6,5,7,8,7,8,9,8,7,9,9,9,6,9,7,7,8,6,8,8,9,8,7,7,9,7,10,7,8,6,6,8,7,7,7,6,8,6,8,6,6,8,9,9,8,5,7,8,7,9,6,7,8,8,8,9,8,8,8,7,9,6,6,4,8,8,7,7,7,7,6,6,7,5,7,8,10,6,7,5,7,6,7,7,8,6,7,7,8,6,9,8,8,9,9,7,8,8,7,8,7,7,8,9,7,6,11,7,6,8,8,8,8,6,8,8,8,7,7,9,8,9,6,6,7,10,7,7,4,7,6,10,7,6,8,8,6,6,6,8,7,8,7,8,5,8,6,6,8,6,9,8,8,8,7,8,10,6,8,7,6,6,7,6,6,7,8,7,10,7,7,9,7,8,7,9,9,7,7,8,5,6,7,7,9,8,9,7,5,8,9,7,8,8,8,7,6,9,7,9,9,7,7,7,7,7,7,7,9,5,7,6,6,8,7,8,9,5,5,10,6,8,6,6,8,6,7,9,6,7,10,7,5,9,9,4,6,7,5,5,8,7,7,9,7,8,7,7,9,7,5,8,6,8,7,7,8,7,8,6,6,6,8,8,5,9,6,5,6,8,8,6,8,7,8,8,9,8,7,6,6,6,8,7,6,8,7,6,7,9,6,7,9,7,8,7,6,8,6,7,9,9,7,8,9,8,7,6,6,6,6,8,8,5,6,8,5,6,8,7,9,7,6,8,5,8,6,6,6,7,7,9,10,7,8,7,6,9,5,7,5,5,7,7,9,7,7,7,8,7,7,8,7,8,8,8,7,4,9,5,5,9,6,8,7,7,8,8,9,8,6,7,7,7,7,8,10,6,4,5,7,7,7,8,8,9,7,7,8,7,6,8,7,9,9,8,8,8,7,9,6,7,6,7,8,7,6,7,6,5,7,8,9,7,8,7,7,6,7,8,7,8,8,9,7,7,8,7,7,8,7,8,8,6,6,7,8,8,6,8,9,7,8,6,9,9,7,7,8,5,6,9,7,9,7,8,10,6,7,7,8,9,8,9,6,7,7,9,8,6,6,8,7,5,7,7,8,7,7,5,8,7,7,8,7,10,8,8,7,8,7,8,9,8,8,7,7,8,7,9,8,10,7,8,7,7,8,8,6,4,5,8,8,8,6,6,9,7,7,8,9,8,8,6,6,8,7,6,8,7,6,8,8,7,6,8,7,7,9,7,7,8,8,7,7,7,9,7,7,7,8,7,8,7,6,8,8,6,9,7,9,7,8,9,7,7,6,8,6,7,7,8,8,8,6,7,8,5,9,8,8,11,9,7,6,10,7,7,7,8,6,8,9,10,8,6,9,8,8,9,8,7,7,7,7,8,8,7,8,7,7,5,6,8,7,8,6,10,9,7,7,9,8,7,7,8,8,9,9,8,8,4,8,8,8,7,7,7,6,8,8,9,6,8,7,8,8,6,8,8,5,7,9,7,8,7,7,7,8,10,5,6,8,7,10,7,6,8,9,6,7,10,7,8,9,7,6,7,7,8,4,6,6,8,8,6,7,5,9,7,5,8,7,9,9,9,6,8,9,7,8,8,6,7,8,7,4,6,9,9,5,8,7,7,8,5,9,8,9,4,6,8,8,6,10,8,9,9,6,5,7,7,7,11,5,7,6,7,9,8,6,8,6,7,7,7,6,6,7,7,8,8,6,7,8,7,8,6,6,7,7,6,5,7,6,9,8,10,7,8,7,9,8,8,7,7,7,6,8,8,9,7,7,7,9,10,8,7,6,7,7,6,7,9,9,10,9,8,7,7,7,8,8,6,7,7,10,8,7,7,7,7,9,8,6,9,7,9,9,7,6,9,7,6,9,8,7,8,6,8,9,11,6,6,8,6,7,8,8,7,7,6,7,7,6,7,6,6,7,9,8,9,6,8,5,7,9,8,8,10,11,7,7,8,8,6,7,5,7,5,9,7,7,9,7,8,6,8,7,7,6,6,5,7,8,8,9,7,7,8,7,7,8,7,7,8,5,9,7,5,7,7,5,9,9,10,7,7,8,7,9,7,6,8,9,6,6,9,7,7,5,8,9,8,9,8,6,9,6,8,8,5,7,8,9,7,9,5,6,6,8,7,8,12,6,8,10,9,7,8,8,8,7,7,9,8,7,10,8,6,7,7,8,9,7,6,6,7,7,8,6,5,9,9,7,10,8,8,9,9,6,8,7,7,8,10,8,8,5,9,8,8,5,7,8,7,5,7,8,6,9,7,7,6,10,8,8,8,8,8,9,8,7,7,9,7,9,8,7,7,5,8,8,8,7,8,9,9,7,7,7,9,8,8,8,9,7,6,8,7,6,5,8,8,8,6,6,8,6,9,7,5,7,7,9,8,7,7,9,6,7,7,8,7,6,6,6,5,7,5,5,8,7,6,10,7,7,6,6,8,7,8,7,9,7,7,8,8,7,6,5,7,5,8,8,7,6,7,6,7,5,9,9,7,6,8,8,10,6,8,5,8,8,6,8,8,8,8,6,7,6,9,7,7,7,8,8,8,7,7,6,7,8,6,10,8,6,8,8,5,10,8,9,7,9,5,8,8,8,9,8,8,7,9,9,9,7,5,6,8,8,9,6,8,6,6,7,6,7,8,9,6,7,9,7,7,6,8,4,6,8,8,11,5,6,12,7,6,9,4,4,7,6,6,7,8,6,9,8,6,6,7,7,8,7,7,9,7,9,8,6,10,8,7,7,7,7,8,9,7,7,7,8,7,8,5,9,8,8,8,4,5,7,8,7,7,8,6,8,12,6,7,9,7,8,7,8,9,7,8,8,7,8,7,6,6,7,9,7,5,6,6,5,10,8,9,6,8,10,7,7,8,9,8,9,9,7,6,5,8,8,7,6,7,8,8,7,5,7,7,7,7,9,7,8,7,7,9,7,7,8,9,8,9,4,8,6,8,6,7,6,7,8,8,9,10,8,8,9,8,4,6,9,6,7,8,10,9,7,8,8,9,10,7,6,7,5,7,6,8,8,6,7,7,8,7,10,8,8,8,6,8,7,8,8,8,7,6,7,6,7,6,7,7,10,8,6,6,10,8,8,8,7,7,7,7,6,8,8,7,8,6,5,9,8,7,6,7,9,7,8,7,8,9,8,6,9,9,7,9,8,6,8,9,8,8,8,8,7,10,8,7,7,9,7,7,7,8,7,8,8,10,9,4,7,8,8,6,6,7,8,7,8,6,5,8,7,6,8,8,7,7,8,8,6,7,7,8,5,7,9,5,8,7,6,10,9,5,6,8,7,8,8,7,11,9,6,9,5,8,10,7,7,7,7,7,8,7,10,6,9,7,8,7,9,8,7,7,8,7,8,8,6,7,7,9,7,5,8,7,7,8,10,7,9,8,7,5,9,6,6,9,4,8,6,6,7,6,8,8,8,7,8,8,7,6,8,8,7,7,7,6,8,8,6,6,6,8,5,7,8,7,4,8,5,8,7,8,6,5,8,10,6,7,8,6,7,7,7,8,7,8,6,5,9,7,8,7,8,8,5,6,7,9,7,7,7,7,8,6,6,9,7,7,7,6,6,7,6,12,9,7,8,7,7,8,5,9,7,8,8,5,6,10,8,9,8,9,7,6,7,9,7,6,8,8,9,7,7,8,8,6,7,8,7,7,6,7,6,7,7,9,8,6,8,8,7,8,8,6,6,9,7,6,8,9,7,7,8,6,9,8,7,7,7,8,7,7,7,8,6,7,8,7,8,8,8,6,5,7,7,7,6,7,8,4,6,8,8,8,6,7,9,8,7,7,7,6,7,8,7,8,6,7,7,7,10,9,10,7,8,7,8,8,8,8,7,7,7,6,5,8,8,6,8,6,7,9,7,7,8,7,9,8,9,6,8,8,6,7,6,8,9,7,9,7,5,7,8,5,7,7,6,9,7,8,8,9,8,6,8,7,8,8,8,8,9,8,5,7,8,8,8,8,6,6,9,8,8,11,10,10,6,8,8,6,5,7,6,6,6,6,7,8,7,6,7,7,9,8,7,9,8,7,4,9,8,5,8,5,8,7,6,5,7,6,8,7,8,7,6,8,6,9,5,6,7,7,6,9,6,9,6,9,7,5,9,9,9,7,9,10,7,7,6,8,8,9,9,7,8,7,7,8,6,8,8,8,4,8,8,8,8,7,7,6,6,5,6,6,7,7,7,10,4,7,5,9,5,9,6,6,7,6,7,6,6,5,7,9,9,8,5,8,9,7,7,7,8,6,6,7,6,9,8,7,8,5,6,8,6,8,8,8,8,7,4,6,5,7,6,7,7,6,8,6,5,8,7,9,7,7,7,7,6,9,6,7,8,9,7,7,8,8,5,8,5,7,6,8,7,8,7,9,6,7,7,7,8,8,6,7,6,8,8,7,8,9,8,6,7,7,9,8,6,8,5,5,7,9,10,8,6,7,8,7,7,7,10,6,5,8,5,8,6,5,7,8,5,10,6,7,9,8,6,8,7,6,8,7,10,9,5,8,8,7,7,8,7,7,7,8,8,8,6,8,7,11,5,9,5,8,7,7,8,6,7,6,7,7,6,7,7,7,5,8,6,9,8,5,8,9,7,8,6,9,8,6,9,9,10,6,9,8,10,7,7,5,9,6,8,8,8,8,8,8,7,7,8,10,7,9,7,10,8,7,8,6,7,9,8,6,8,9,9,10,7,5,8,7,7,9,8,6,7,7,6,7,9,6,7,8,7,7,8,9,8,9,10,8,7,10,8,8,9,7,11,9,9,6,5,9,9,9,8,7,6,7,4,6,7,10,8,10,8,7,8,7,6,8,7,7,6,7,5,7,8,9,8,10,8,5,7,8,7,6,7,9,6,9,7,8,7,8,8,6,6,7,5,6,7,5,6,8,6,8,8,8,6,6,8,5,9,9,8,6,7,7,7,9,7,10,8,7,7,9,7,6,7,6,7,6,8,5,7,7,7,7,10,7,6,7,7,8,8,8,6,7,6,9,7,9,7,7,9,5,6,7,5,9,5,6,9,7,7,7,7,9,10,8,9,8,5,7,4,9,8,5,8,7,8,8,6,5,9,8,7,7,6,9,5,8,6,8,7,6,8,8,8,9,8,7,5,7,7,7,6,5,7,8,8,8,8,7,8,8,9,10,9,7,8,9,7,8,8,5,6,5,5,7,7,8,7,7,6,9,5,8,10,10,8,7,7,8,5,7,3,9,10,6,8,7,8,5,9,6,6,6,6,9,8,4,8,7,8,8,7,7,7,7,7,7,8,5,8,7,7,7,8,8,8,7,6,8,9,6,9,8,10,8,5,7,8,9,8,8,9,9,7,6,6,7,7,7,8,8,7,8,6,10,7,8,7,7,9,9,7,7,7,8,7,7,4,9,10,9,8,7,6,8,5,8,8,9,9,8,7,7,8,9,7,7,9,8,7,7,7,8,7,5,6,7,9,5,7,6,8,7,7,10,7,6,7,7,8,7,6,10,9,7,7,6,8,7,6,8,7,7,6,6,8,8,7,8,6,6,8,8,7,7,7,5,7,9,5,6,7,6,8,8,4,8,7,6,6,7,4,7,8,6,7,8,7,6,8,8,6,7,5,8,8,8,6,7,5,6,7,7,8,8,7,6,7,9,9,7,4,5,6,6,7,5,5,6,7,10,6,7,9,10,7,6,9,6,6,7,6,6,9,7,7,7,6,9,6,7,7,8,5,5,9,6,7,4,7,9,10,7,8,7,5,10,7,7,9,7,8,6,7,5,7,8,7,4,7,8,8,8,7,7,7,8,4,7,7,9,8,8,9,8,7,9,7,6,4,8,9,7,8,9,7,8,7,7,10,4,8,7,5,6,9,6,8,7,8,10,8,6,6,8,8,6,6,8,8,8,8,6,8,8,7,7,8,9,7,7,5,6,8,8,9,7,8,8,8,8,8,6,7,9,8,7,8,8,9,9,6,8,9,5,8,8,8,4,5,9,6,9,8,7,8,8,8,7,6,7,6,5,7,8,5,7,6,7,7,6,8,9,7,7,4,7,8,7,9,8,9,7,7,6,7,9,9,6,8,9,10,9,6,7,6,6,6,6,8,7,8,10,7,7,7,5,9,7,8,10,9,7,9,7,7,7,9,6,7,11,8,8,10,8,6,8,7,8,8,8,9,7,7,8,7,6,4,8,9,6,6,9,8,6,7,8,6,8,8,5,7,7,7,7,10,7,6,10,8,6,8,7,7,4,6,7,7,7,9,7,8,6,8,7,8,8,11,10,7,8,6,6,5,7,6,9,7,5,8,7,7,8,7,7,6,7,7,5,7,4,9,8,7,8,9,8,7,7,7,8,6,6,8,7,9,8,6,7,7,4,8,8,5,9,6,8,9,5,7,7,7,10,7,6,8,7,8,8,6,7,8,5,7,10,8,8,6,7,8,8,5,7,9,9,8,6,8,7,8,8,8,5,8,6,7,5,7,7,7,10,7,8,7,5,7,8,7,7,8,8,9,8,5,7,8,7,7,8,8,11,6,8,9,9,6,7,8,8,8,6,7,7,9,8,5,10,6,7,6,9,7,6,9,6,7,7,8,5,9,8,5,7,9,9,7,7,7,6,8,8,6,8,8,8,8,7,8,6,7,7,6,6,8,9,6,7,7,8,7,6,8,9,8,8,8,7,6,8,9,8,7,7,6,7,7,5,10,8,7,8,9,8,7,9,8,6,9,6,6,8,8,7,7,8,6,6,7,8,7,6,6,7,7,7,8,7,7,7,6,9,7,6,7,10,8,7,6,8,6,9,9,6,8,8,7,10,8,9,8,6,6,7,7,7,7,11,8,7,6,9,8,7,8,6,8,7,7,8,9,8,7,8,7,8,8,7,11,9,8,8,5,6,7,8,9,7,7,9,6,8,8,8,7,7,8,7,6,8,6,7,7,7,8,7,6,7,9,6,9,10,7,7,7,8,9,4,7,6,7,7,6,6,7,7,8,7,7,5,7,9,6,7,7,7,7,9,8,7,6,8,6,9,6,7,7,3,6,8,6,7,8,9,10,7,8,6,6,6,6,8,8,6,8,10,7,9,5,8,8,9,7,8,8,7,10,7,8,7,7,9,7,7,7,9,7,8,8,9,9,8,7,10,8,9,6,8,7,5,6,10,8,8,6,8,7,5,7,7,9,5,8,8,7,8,7,6,6,7,7,7,8,9,8,6,11,8,8,7,7,10,8,8,8,7,8,6,5,9,8,9,8,8,9,8,3,8,6,7,10,10,6,8,4,6,10,6,8,5,7,8,8,7,7,6,7,6,8,6,8,8,7,6,7,5,6,10,8,10,8,7,8,7,6,5,8,8,9,6,7,8,4,6,6,9,7,7,5,8,7,9,9,7,9,9,9,7,7,6,7,7,8,6,7,8,6,7,8,7,8,7,7,8,7,7,8,7,6,7,7,8,6,8,8,5,9,9,9,6,7,7,6,7,5,6,6,8,8,6,10,7,5,5,6,6,9,8,8,8,7,8,7,7,7,8,8,7,8,6,9,8,8,4,7,5,6,6,5,6,6,6,5,8,8,7,8,6,6,6,7,8,6,7,7,7,7,9,9,7,7,8,6,9,7,6,7,9,6,7,6,8,8,10,8,8,7,6,8,6,5,7,7,7,5,6,8,10,9,7,8,8,8,7,5,6,10,6,6,11,7,8,8,9,8,5,9,7,6,6,6,5,7,6,8,7,8,7,6,7,9,8,8,9,9,8,9,8,7,7,9,8,8,7,6,10,5,8,6,9,5,7,7,10,7,9,8,7,7,9,8,8,7,7,8,6,8,7,5,9,5,7,6,7,10,8,6,8,8,8,9,8,6,7,7,6,6,8,7,7,5,7,7,8,8,8,7,7,7,6,9,5,8,7,8,7,6,7,5,5,7,9,5,8,8,7,7,9,5,8,9,8,7,8,7,6,7,7,6,5,6,10,8,5,9,7,6,6,8,8,9,8,9,6,8,4,8,9,6,6,8,9,7,6,7,9,8,8,8,8,8,6,8,8,5,8,7,7,5,8,8,9,7,8,7,8,6,8,7,7,8,8,6,6,7,5,8,7,7,7,8,10,6,6,6,9,6,9,7,5,7,10,9,10,8,8,7,6,6,6,8,9,8,9,10,7,7,8,9,7,8,6,8,7,6,10,9,7,7,7,7,7,7,7,7,8,5,8,6,7,9,6,8,8,8,7,7,7,7,6,10,9,6,7,6,8,6,8,8,8,9,7,7,7,8,8,7,6,7,7,6,6,8,8,7,7,6,10,7,7,6,8,7,8,5,4,9,7,8,8,6,8,6,9,9,5,8,7,6,6,6,7,7,7,8,7,9,7,6,6,8,7,6,7,8,7,7,7,7,9,6,6,7,5,9,7,7,7,7,9,5,7,7,6,8,7,6,10,10,7,7,6,10,6,8,7,7,8,7,5,9,7,8,10,7,7,9,8,6,7,7,8,8,7,5,8,7,6,7,9,7,7,7,8,6,7,6,7,7,8,7,8,8,7,9,5,7,8,8,8,7,6,8,7,8,7,7,6,6,8,7,8,5,8,6,9,8,5,8,7,7,7,7,5,5,6,8,6,8,7,5,8,6,6,6,5,9,9,7,7,6,8,7,8,8,7,3,9,9,7,8,6,9,7,6,9,6,6,7,9,9,7,8,6,8,6,5,8,6,7,5,8,8,7,6,6,10,9,8,8,8,6,6,9,8,5,9,8,7,7,6,9,8,8,5,8,9,8,8,9,7,5,9,8,9,5,8,9,7,8,6,7,5,6,8,6,6,10,6,5,10,8,9,8,7,6,8,7,9,8,9,6,9,8,6,5,6,9,9,6,9,8,6,8,8,8,6,6,7,9,4,7,8,7,6,8,7,7,6,7,7,8,7,6,8,8,6,7,7,5,8,7,5,11,6,9,9,7,7,9,10,8,7,7,7,6,8,5,5,7,9,7,10,6,7,6,5,9,5,5,7,8,7,8,6,5,8,8,7,9,7,5,6,6,7,8,7,6,6,6,7,7,8,7,9,9,8,7,7,5,9,6,9,7,8,7,9,9,8,8,8,7,8,8,8,8,6,6,7,8,8,7,6,6,7,6,8,6,7,4,8,7,6,6,7,7,7,8,8,6,6,9,8,7,6,6,7,6,8,5,8,6,7,8,8,9,6,8,8,7,8,7,7,7,8,5,7,4,7,7,7,6,6,9,8,6,6,8,9,7,7,6,8,6,8,6,6,9,6,7,7,7,10,7,5,9,5,5,7,7,6,7,10,7,7,10,8,6,8,8,4,6,8,7,8,7,8,11,8,6,9,6,7,6,6,5,8,9,6,9,9,9,7,7,7,7,6,6,8,8,6,6,7,8,7,7,9,6,7,5,7,9,8,7,8,7,8,10,5,4,8,7,6,7,6,7,7,7,6,6,7,6,8,10,8,8,9,7,10,7,7,9,7,8,6,8,9,8,7,8,7,8,9,6,7,7,7,8,8,9,6,9,5,5,7,8,6,9,5,8,6,6,6,6,5,8,9,5,7,7,7,6,8,9,8,7,8,6,7,6,7,6,6,6,8,9,8,6,6,9,7,8,7,7,7,7,8,6,6,7,6,8,8,9,7,7,5,8,9,9,9,10,8,8,6,5,5,8,4,6,7,5,6,7,7,7,8,8,7,7,8,6,9,8,10,11,8,10,7,8,9,8,5,6,11,7,4,7,6,6,8,6,8,9,9,7,9,5,8,7,8,9,11,7,9,9,4,8,6,6,7,7,6,6,6,7,8,9,7,8,7,5,8,7,8,11,5,8,7,7,7,7,8,7,8,6,6,8,8,8,7,7,8,6,7,5,7,7,7,7,8,10,9,5,7,5,7,8,9,7,7,9,7,5,8,7,6,8,8,8,5,7,6,8,7,6,8,8,8,7,6,9,6,6,6,7,7,7,7,11,8,7,7,6,7,7,7,7,11,6,8,6,5,9,7,9,10,6,7,7,7,9,6,8,9,7,6,6,7,8,8,6,9,7,7,7,8,7,7,9,7,9,8,7,9,8,6,9,5,6,6,6,8,7,7,7,6,4,6,7,9,6,7,9,8,7,6,7,6,6,7,6,7,11,7,6,7,7,8,10,7,7,5,7,9,7,7,7,6,7,8,4,6,7,10,7,8,7,7,8,8,5,6,5,6,7,9,5,8,7,4,8,5,7,8,9,6,8,5,6,8,8,7,10,7,6,9,5,4,6,7,5,6,8,7,7,8,5,8,8,4,7,7,6,6,8,6,7,8,7,7,9,7,6,5,6,6,8,7,8,10,6,7,7,6,5,7,5,6,9,8,7,4,6,8,6,7,6,8,7,7,7,7,5,6,4,9,8,8,8,5,7,6,7,7,6,5,9,5,9,8,8,6,7,9,6,8,8,7,9,5,7,9,7,8,7,10,9,7,8,6,6,7,7,7,7,6,8,7,10,7,8,8,6,5,8,8,10,7,6,6,7,8,8,7,6,9,8,7,8,6,6,7,8,6,6,8,6,10,5,6,7,7,7,6,9,6,5,6,7,6,9,8,5,11,10,11,8,8,6,9,6,7,7,8,7,9,7,8,9,9,6,8,7,9,7,6,6,8,8,7,7,7,6,5,5,6,11,8,8,8,6,10,7,9,7,7,8,9,5,4,8,7,8,8,8,7,6,8,9,8,6,6,7,10,9,6,7,9,5,8,8,8,9,10,7,7,7,6,6,9,8,9,7,7,6,8,8,8,8,6,8,7,11,9,9,5,8,9,10,9,7,8,8,7,9,8,8,6,8,10,9,8,6,7,7,7,8,9,6,8,7,8,5,7,7,7,9,7,9,9,8,7,6,6,7,8,9,8,8,7,5,8,6,7,7,8,9,7,7,7,6,7,6,7,8,8,7,7,7,6,8,8,6,9,9,6,6,6,5,6,7,8,9,5,7,6,7,10,5,9,6,6,7,9,9,9,8,6,6,6,7,7,5,6,7,7,8,8,8,6,11,6,6,5,8,7,8,9,9,5,8,6,8,9,8,7,9,5,7,8,5,6,7,8,7,9,9,10,6,9,6,7,6,8,7,9,6,9,7,5,9,9,8,9,8,9,9,8,8,10,6,8,7,4,6,6,7,8,6,8,9,8,5,7,5,10,9,6,8,9,7,6,6,7,7,7,8,7,7,7,6,9,7,5,7,7,7,7,8,8,8,8,10,8,8,6,8,6,8,6,7,6,9,8,9,9,7,7,8,5,7,9,8,8,6,6,8,8,5,10,9,7,6,8,6,11,7,8,7,7,8,6,7,8,7,9,9,8,6,8,6,6,9,8,7,7,9,9,7,9,7,9,7,7,7,5,10,4,6,9,7,9,9,8,5,5,7,6,7,7,7,9,7,7,8,7,7,5,8,5,7,7,7,7,6,7,6,9,7,7,7,6,6,7,7,6,6,7,5,8,7,9,7,8,9,9,6,7,8,5,5,7,6,5,7,8,6,7,8,6,7,7,7,8,7,4,6,8,6,10,7,7,7,8,9,8,4,7,6,7,7,6,9,7,8,7,6,8,8,8,5,7,5,7,6,6,9,11,6,5,7,7,7,7,7,8,9,8,8,6,6,10,6,6,9,7,6,7,9,5,7,8,5,9,8,4,9,7,7,7,7,6,6,5,6,7,6,7,8,7,7,7,8,7,6,6,6,8,7,8,5,6,7,6,7,6,6,7,7,8,7,7,8,10,7,5,5,8,10,8,6,7,6,7,6,7,7,5,6,7,8,7,6,9,6,8,7,8,6,7,6,5,6,6,7,7,9,8,8,7,9,8,8,9,8,8,6,7,10,6,8,8,7,8,5,10,6,8,9,8,8,8,5,7,8,10,7,6,6,8,7,8,10,7,5,6,8,8,8,8,6,8,6,6,6,6,7,6,8,8,6,9,7,6,7,7,6,7,8,5,6,8,6,7,8,6,6,8,6,7,9,7,7,10,9,7,8,7,8,8,6,7,6,7,9,6,8,6,7,6,7,10,9,6,7,6,9,8,8,6,7,8,7,8,8,7,8,7,6,7,8,8,7,5,5,9,9,7,7,6,7,6,5,9,8,7,8,5,8,8,8,6,10,8,8,7,10,6,7,8,7,9,7,8,7,8,8,8,7,5,7,8,8,7,7,6,9,9,6,5,8,7,8,7,4,7,6,6,6,4,6,8,7,6,6,6,6,6,7,10,7,8,7,5,10,7,11,6,8,6,6,8,8,7,9,6,7,9,8,6,8,10,7,10,8,7,6,7,5,6,7,8,8,6,8,5,6,9,7,6,6,6,7,8,7,6,6,9,9,9,8,7,5,7,6,6,7,8,7,8,8,6,8,6,6,7,8,10,6,6,7,7,9,10,6,7,7,7,7,5,8,8,6,7,7,6,8,6,7,6,6,6,8,9,5,8,5,7,5,7,5,7,7,7,6,8,6,7,6,8,7,8,8,8,5,7,7,6,7,8,6,6,7,7,6,8,7,7,7,9,8,6,7,6,11,7,7,8,7,7,8,8,6,6,7,8,6,7,8,6,7,12,7,6,7,7,7,8,7,10,6,7,7,7,7,8,8,9,10,8,7,6,7,8,9,6,5,8,9,7,8,8,7,8,8,6,6,5,9,5,5,7,7,8,8,7,8,6,6,5,6,6,5,8,4,9,7,8,9,8,6,9,9,6,9,8,9,7,6,6,5,5,7,7,7,7,8,7,8,7,8,7,8,7,9,8,8,7,7,7,5,8,9,7,5,5,10,8,10,5,7,6,7,8,7,7,7,8,6,4,7,7,7,8,8,7,7,10,9,7,8,7,8,7,7,6,5,9,8,7,7,8,6,6,7,7,7,9,8,8,7,5,6,8,9,8,7,7,10,7,10,7,5,9,8,6,9,7,7,8,6,7,8,7,6,3,7,8,9,6,6,5,4,7,7,8,7,8,8,7,9,7,6,8,8,9,7,6,7,8,7,3,7,6,8,6,9,8,8,8,8,7,7,7,9,6,8,7,8,7,7,6,6,8,9,8,6,9,6,4,8,6,6,7,8,7,6,8,8,9,8,7,7,9,5,6,9,8,9,8,9,9,8,6,8,8,7,6,6,7,6,8,5,6,6,6,9,8,8,8,7,6,6,8,7,8,7,7,6,10,7,6,8,10,7,9,8,6,7,6,9,10,10,8,6,8,6,7,8,7,8,9,6,9,8,7,6,6,8,10,8,8,7,6,8,3,6,7,9,8,7,5,8,6,9,8,9,7,5,7,7,9,5,6,7,8,8,8,10,7,7,7,7,8,9,9,6,9,6,8,7,8,7,9,9,7,5,8,7,3,8,8,7,8,7,6,7,6,7,7,6,7,5,7,6,8,8,7,5,8,6,6,7,9,7,5,7,5,7,6,7,7,7,6,8,7,5,6,7,7,8,7,7,9,7,5,5,7,6,7,9,8,7,7,7,7,7,6,7,9,7,7,7,5,8,7,7,6,9,5,5,8,7,10,5,6,8,9,8,6,8,6,9,7,8,7,8,7,6,6,7,9,7,8,8,7,7,5,8,8,5,6,7,6,7,7,6,7,8,8,6,6,9,5,8,5,8,7,8,8,7,9,8,8,5,6,9,6,7,8,9,8,6,8,7,8,9,7,8,7,7,5,9,8,9,7,8,7,9,8,8,6,8,7,6,8,6,8,7,7,7,5,8,9,8,6,4,7,6,5,6,8,9,8,8,5,10,8,6,8,6,8,8,8,6,7,8,6,7,8,7,5,6,6,5,9,7,7,8,8,9,6,7,9,8,7,7,8,8,4,6,8,8,7,7,9,8,6,5,6,8,6,8,7,5,6,7,6,8,5,7,8,7,8,7,5,5,6,7,6,8,9,5,8,7,8,8,5,5,9,8,6,9,7,7,8,8,6,5,6,6,8,7,10,8,6,8,7,4,7,7,6,8,5,7,6,8,7,7,6,9,8,8,7,7,8,6,8,8,7,8,8,10,8,7,6,7,7,10,5,9,8,8,8,8,8,7,11,8,9,6,7,7,6,7,7,6,7,9,8,8,8,9,6,8,8,6,7,7,9,6,7,7,8,7,7,5,8,6,8,6,7,9,7,5,6,6,7,8,9,7,8,9,6,7,7,6,7,7,6,7,7,8,9,7,6,5,7,6,7,7,9,7,7,5,7,8,6,6,8,7,7,5,5,8,6,7,10,8,7,8,6,7,7,8,7,6,7,7,6,6,9,7,7,8,9,9,8,7,9,7,8,7,5,8,6,8,6,7,7,7,6,8,7,5,6,10,7,7,7,8,7,8,6,7,6,8,5,4,6,9,8,5,9,7,8,7,6,7,6,7,7,8,9,8,6,10,6,8,6,7,8,7,8,9,6,7,9,7,9,6,7,6,8,7,6,7,7,7,7,6,6,7,6,6,4,6,6,8,8,9,7,5,8,7,9,6,9,5,7,5,5,6,9,9,6,7,8,8,6,10,9,8,7,5,7,7,10,8,6,8,7,7,6,8,7,8,6,7,7,8,8,9,8,8,7,6,8,7,7,7,7,6,5,6,7,6,8,8,7,8,7,9,9,6,7,8,7,7,7,7,7,6,8,7,8,10,7,7,5,8,8,7,9,7,5,8,9,8,8,7,7,10,7,8,8,8,8,7,6,5,8,6,7,7,7,5,6,8,7,7,9,7,9,7,8,7,8,8,7,8,6,7,6,6,8,7,8,7,6,9,7,7,8,5,5,5,8,6,7,6,6,8,7,7,6,5,5,7,8,10,5,9,6,10,8,7,7,7,8,7,8,7,8,6,8,7,8,8,7,9,8,7,7,6,7,6,6,7,7,7,8,7,8,7,8,7,8,6,5,6,8,8,9,7,7,6,7,8,6,4,5,6,7,9,8,7,6,7,8,5,6,8,5,6,6,7,6,7,7,7,7,7,8,7,10,6,6,6,5,6,8,7,7,8,6,6,7,7,6,8,8,7,10,8,8,7,9,10,5,8,8,9,7,6,8,6,7,8,8,7,8,7,7,7,6,7,8,7,7,8,6,6,6,8,10,8,8,7,7,6,6,5,9,9,6,9,7,6,7,7,6,6,9,4,8,6,7,9,10,10,7,6,7,7,6,7,6,8,7,7,7,7,8,7,7,8,8,6,7,7,6,9,7,6,6,7,6,7,9,5,9,6,8,6,6,8,4,8,9,7,7,7,7,7,9,7,6,7,7,7,7,8,10,8,7,9,8,6,7,7,7,7,9,8,8,6,8,7,8,6,8,6,6,5,8,7,9,7,7,9,8,8,4,7,7,8,6,6,8,8,8,6,8,6,7,7,7,6,6,8,6,5,5,7,8,7,8,10,11,8,9,7,8,8,6,8,7,8,9,8,8,9,6,10,8,7,7,8,5,8,6,7,8,7,7,7,8,8,7,8,7,7,6,6,6,6,6,8,7,7,8,6,8,8,6,8,7,5,11,7,7,10,9,7,8,5,5,9,7,8,8,7,8,6,6,6,7,9,8,7,6,5,7,6,7,6,8,5,8,7,4,7,8,7,9,6,8,6,8,7,8,8,8,6,8,8,6,8,6,8,7,7,8,7,8,8,5,7,7,5,8,7,7,8,7,7,9,7,5,6,6,9,7,7,8,6,9,7,5,7,8,6,7,7,6,7,7,7,8,8,7,7,7,7,7,7,8,7,7,6,7,9,4,7,6,8,5,5,8,7,8,8,8,8,6,6,4,7,8,7,5,8,7,7,7,6,8,7,8,8,9,7,9,8,5,8,8,8,9,7,7,9,9,7,5,8,6,10,6,8,7,7,7,7,5,7,7,5,8,7,8,8,8,7,7,7,5,6,6,7,6,7,8,7,9,6,7,6,8,5,8,7,7,5,8,8,6,9,7,6,7,5,8,10,7,7,6,7,8,8,6,6,7,5,7,8,9,6,8,6,8,8,6,9,10,7,8,8,7,7,5,8,6,8,6,7,6,8,7,9,7,8,7,8,9,8,7,7,8,4,6,8,8,6,7,8,6,8,6,8,9,8,6,10,6,7,8,6,8,8,8,5,8,6,6,7,8,8,7,7,6,7,7,6,8,3,8,9,6,8,6,7,7,9,7,6,7,7,7,6,9,7,8,6,7,5,7,8,6,7,9,6,7,7,8,6,4,8,6,10,7,8,5,7,8,7,5,8,8,7,8,6,10,7,7,6,7,7,6,7,8,6,7,6,7,8,7,7,7,6,6,8,6,8,8,7,9,6,8,6,5,7,7,7,8,7,7,7,6,6,8,7,5,6,5,6,8,7,8,8,6,9,12,8,7,6,4,7,4,6,9,8,6,7,7,6,6,6,6,8,7,7,8,7,7,7,6,6,7,6,6,6,8,7,6,7,8,8,8,6,7,7,8,9,7,7,7,10,5,7,6,7,6,5,7,8,6,8,6,7,7,8,8,10,5,7,6,9,7,8,9,9,7,6,7,8,8,9,6,7,8,7,7,7,7,8,8,10,8,10,8,7,8,7,6,6,7,9,5,6,7,7,9,5,7,8,7,10,7,8,8,6,7,7,4,6,8,5,7,7,6,5,7,8,6,9,6,7,4,8,6,5,6,8,5,7,7,6,7,8,6,6,10,7,8,7,6,7,7,7,9,7,6,7,5,8,8,8,9,4,7,6,9,4,6,8,4,6,8,8,6,5,6,9,7,6,6,7,7,6,8,8,6,7,8,7,8,9,7,7,5,7,7,7,7,8,7,7,7,8,7,7,9,7,8,6,9,8,9,9,8,6,8,7,7,6,6,6,7,6,9,9,8,7,7,8,7,7,5,8,7,7,7,9,9,11,6,7,6,8,7,9,7,8,8,6,8,9,6,8,6,9,5,7,6,5,9,7,6,9,6,7,8,8,7,7,8,8,6,6,7,7,6,9,8,8,8,8,8,7,7,7,8,7,6,7,6,6,8,6,8,7,5,10,7,8,8,8,8,8,7,8,8,6,8,7,8,6,8,6,6,7,6,8,9,5,10,8,5,7,8,7,6,6,7,7,5,7,5,8,8,6,7,6,8,6,6,7,8,7,9,7,9,7,4,6,9,6,7,7,7,8,5,7,7,8,6,7,8,8,5,6,7,6,8,7,8,8,6,6,7,5,7,7,7,7,10,8,6,7,6,7,9,8,8,8,6,8,7,7,8,8,6,8,9,6,6,6,8,7,9,7,5,7,8,7,7,7,7,6,8,7,7,9,7,6,8,7,9,7,8,10,8,7,8,9,9,5,5,8,8,9,7,6,9,9,9,7,8,7,6,8,7,9,7,9,7,9,6,8,7,6,7,6,10,8,7,8,7,8,6,9,8,6,9,8,7,7,9,5,8,8,6,7,8,7,9,6,9,7,7,4,7,7,8,8,6,7,9,9,8,7,6,6,8,6,6,7,7,5,8,8,7,9,7,6,7,8,8,10,7,7,7,8,5,9,9,7,8,8,7,9,8,8,7,7,7,6,10,7,8,10,8,9,8,7,5,8,6,7,7,7,8,8,8,7,8,7,8,8,7,8,6,8,6,8,8,7,10,8,9,5,6,8,7,6,8,7,7,7,7,8,6,7,9,8,9,8,8,9,9,7,7,9,6,5,7,7,6,7,7,7,6,7,8,9,6,8,8,7,10,8,7,6,7,5,7,6,7,10,8,7,7,7,8,7,7,7,9,8,8,7,8,8,6,7,6,8,7,7,6,8,7,5,8,7,7,8,7,8,7,7,7,10,7,6,7,5,7,7,8,8,8,6,9,9,8,8,6,8,8,9,5,6,9,8,6,7,4,7,9,8,10,8,9,7,8,9,7,7,8,8,7,7,8,8,7,8,7,7,8,8,6,8,7,6,7,9,7,7,8,9,8,7,9,9,6,7,8,8,8,6,8,8,8,8,6,9,10,10,11,7,9,10,8,7,8,10,8,7,7,7,8,7,9,9,7,8,7,9,10,8,8,8,9,7,9,9,7,4,7,6,8,8,7,8,8,6,7,7,7,8,8,7,7,5,7,8,7,7,8,7,7,8,8,5,7,9,8,7,7,8,5,7,8,6,6,7,10,10,8,7,7,7,7,8,7,9,7,8,8,10,7,9,9,7,6,8,10,8,8,7,8,7,8,7,7,7,9,5,8,6,5,6,8,8,6,7,7,7,7,7,9,6,9,4,8,8,7,8,8,7,6,8,7,8,9,7,7,8,10,7,5,7,7,8,7,7,6,7,7,9,7,9,9,8,9,9,9,6,6,7,8,8,7,9,8,8,4,8,8,9,9,6,8,9,8,6,7,8,8,9,8,6,7,7,8,6,8,8,8,7,7,7,7,6,8,6,8,7,8,7,7,6,6,7,6,5,7,8,7,7,10,6,8,8,9,6,6,7,5,7,8,8,7,7,5,6,7,7,10,7,7,5,7,7,6,7,5,8,7,6,4,9,7,5,8,6,6,7,9,8,8,9,8,8,8,8,6,8,7,10,8,5,6,7,8,7,7,8,7,8,6,8,7,8,7,6,5,6,8,8,7,7,9,8,11,8,7,7,5,8,10,8,5,8,7,9,6,8,6,8,6,6,8,7,6,9,7,8,7,7,6,8,8,8,8,8,7,8,8,6,9,7,7,6,9,7,7,7,8,8,7,9,7,7,4,7,8,7,8,8,8,9,7,6,7,6,9,8,8,7,7,7,9,6,7,8,8,8,7,9,8,7,7,6,7,6,7,6,5,6,7,7,6,7,8,7,8,8,8,9,6,7,8,5,8,9,8,8,6,10,7,6,9,5,7,5,7,10,10,8,7,4,6,7,7,8,6,8,8,7,7,8,6,7,6,7,8,6,8,9,7,8,8,8,7,8,8,8,9,8,8,7,8,8,8,9,8,7,6,8,7,7,8,7,7,6,7,6,7,9,7,8,6,8,8,5,7,5,7,7,8,6,5,9,9,8,9,7,8,11,9,7,6,7,9,7,6,8,7,7,8,7,8,7,5,8,9,10,7,7,8,7,8,7,5,8,9,10,7,7,9,6,9,7,7,7,7,10,8,6,7,5,7,7,7,7,8,7,7,5,7,7,8,6,6,7,6,10,8,8,6,10,5,7,8,9,8,8,8,8,7,8,8,8,7,6,7,7,10,8,7,6,10,4,6,11,6,9,7,9,8,8,8,10,8,7,7,7,7,8,10,7,9,10,9,7,8,7,6,5,9,4,9,8,7,6,10,7,7,8,9,9,7,7,6,7,8,8,5,8,9,7,9,9,8,8,5,8,7,7,8,9,7,8,6,8,7,9,7,9,7,8,7,5,8,8,8,8,8,7,8,8,8,9,5,7,8,7,8,6,7,6,9,5,6,4,8,8,7,7,7,7,7,6,7,7,5,5,6,9,8,8,6,5,7,7,7,8,7,7,6,6,7,8,7,9,8,9,6,6,6,8,7,7,7,5,8,7,8,4,8,7,5,8,7,7,10,7,6,8,5,8,7,8,8,7,8,5,8,8,8,7,9,9,7,7,7,7,8,7,8,6,9,7,7,6,7,7,5,8,7,7,6,7,8,7,6,9,5,6,5,7,10,6,6,5,6,10,5,8,7,7,5,8,9,8,7,6,9,7,6,8,8,11,6,7,6,8,9,5,7,9,7,7,8,4,5,7,7,7,6,8,8,10,8,8,8,8,7,6,6,8,5,7,8,5,7,8,9,8,8,8,7,10,7,6,8,9,9,7,6,10,7,6,7,9,9,7,6,10,8,7,6,7,9,6,6,7,8,8,6,8,7,8,7,8,8,7,9,8,7,7,11,7,7,8,5,7,9,5,6,9,6,7,9,9,8,6,7,8,8,5,6,8,7,7,8,11,10,8,8,7,7,12,9,6,7,7,6,7,5,7,5,5,6,7,9,5,9,7,8,9,8,7,9,9,9,8,12,7,9,6,7,9,9,6,7,7,6,6,8,8,9,7,7,9,6,7,7,8,5,6,9,8,8,10,6,9,9,9,5,7,8,7,7,9,6,6,6,7,7,8,5,7,9,5,6,9,6,7,9,9,8,6,7,8,8,5,6,8,7,7,8,11,10,8,8,7,7,12,9,6,7,7,6,7,5,7,5,5,6,7,9,5,9,7,8,9,8,7,9,9,9,8,12,7,9,6,7,9,9,6,7,7,6,6,8,8,9,7,7,9,6,7,7,8,5,6,9,8,8,10,6,9,9,9,5,7,8,7,7,9,6,6,6,8,5,9,7,6,9,7,8,9,7,8,9,11,7,9,8,5,7,8,6,8,6,9,9,11,9,8,8,8,6,6,7,9,7,10,7,9,7,8,5,8,7,8,7,8,7,6,7,6,10,7,7,9,6,9,8,9,9,5,9,9,9,7,6,11,7,8,9,7,2,6,11,8,6,10,7,6,6,7,10,6,7,7,6,9,8,7,7,7,6,7,7,7,8,7,9,7,8,8,7,7,7,8,5,6,6,8,7,9,7,8,8,6,8,6,8,6,11,5,9,7,7,9,11,9,8,7,9,9,9,4,9,7,11,9,8,5,6,7,9,7,7,7,7,7,7,7,10,9,8,9,7,6,8,8,8,5,9,8,9,9,10,9,8,7,7,6,8,8,7,6,5,9,9,7,7,8,8,6,8,8,6,8,4,8,8,8,7,7,10,7,8,7,7,11,7,7,6,7,8,7,8,8,6,7,9,7,8,8,7,9,8,6,8,6,7,6,10,6,9,6,7,6,7,8,6,9,6,5,10,7,7,5,8,8,8,8,7,8,9,8,11,9,5,7,5,7,8,8,8,6,7,10,8,7,5,6,9,8,5,7,6,7,7,7,7,10,7,8,10,5,5,8,7,5,5,6,6,6,8,7,7,6,7,8,9,10,6,6,8,8,7,6,7,5,8,6,8,8,7,7,6,6,8,6,6,10,9,10,8,7,9,7,9,9,8,7,6,7,7,6,7,8,8,7,7,8,6,8,7,6,7,8,8,10,8,7,6,9,7,7,6,5,6,7,6,7,7,8,5,9,7,7,6,8,7,7,8,6,7,6,10,9,8,7,7,7,7,7,11,8,7,8,9,9,7,6,8,8,6,6,6,9,9,7,6,6,10,6,7,10,6,8,7,8,11,6,7,8,7,9,8,6,6,8,9,7,7,9,5,8,6,6,7,7,7,7,8,7,7,7,6,6,7,7,6,6,5,8,9,6,6,4,8,6,6,8,7,6,6,4,9,7,7,6,9,6,8,10,8,7,9,6,9,6,6,9,7,4,9,7,7,9,10,6,4,7,7,8,9,8,5,7,8,7,6,7,10,7,9,8,6,6,9,7,10,8,9,8,8,6,5,7,7,9,6,7,9,8,8,7,8,9,9,9,11,6,6,8,7,10,6,6,8,9,7,8,7,8,5,5,7,7,8,11,8,8,8,6,8,9,7,6,6,7,7,6,6,7,9,7,7,9,9,10,4,8,5,9,8,8,7,8,9,8,7,7,8,7,8,9,8,7,9,6,10,5,8,8,7,9,9,6,8,8,6,7,6,8,8,7,7,7,6,8,10,10,6,9,6,8,7,7,6,10,7,5,8,10,10,9,8,6,7,8,8,7,7,7,8,7,7,8,10,8,9,7,8,8,6,6,7,11,10,8,6,7,8,7,6,6,5,7,10,9,7,7,8,8,6,8,6,7,5,3,7,8,8,7,7,6,9,8,6,8,9,9,7,8,8,8,7,9,7,8,8,6,8,8,7,7,10,8,9,9,7,6,4,7,5,8,5,8,8,10,8,8,6,10,7,7,8,6,6,6,9,6,5,9,6,7,9,5,5,7,8,9,8,6,5,9,5,8,9,6,7,9,6,9,8,6,6,7,6,6,9,7,6,8,11,6,5,9,8,6,9,7,7,7,6,6,5,7,6,10,10,7,6,7,8,8,7,4,9,10,8,3,8,6,7,10,7,8,5,5,7,4,6,9,7,10,7,12,9,7,11,8,9,9,9,7,8,7,6,11,7,8,7,7,8,9,8,7,7,7,6,7,7,9,8,7,10,6,6,6,7,6,5,7,4,7,8,8,8,5,8,11,5,6,9,7,7,10,7,9,7,6,6,6,9,7,7,9,8,8,7,8,7,7,7,8,9,6,8,5,7,7,8,7,6,8,8,7,8,9,8,7,7,8,7,8,6,8,5,7,8,6,8,8,8,8,6,9,7,9,9,4,7,8,6,7,7,8,4,5,7,6,7,8,8,6,6,8,6,9,7,9,7,8,7,8,3,10,5,7,8,6,8,7,9,7,7,5,8,8,6,6,7,6,7,7,8,8,6,10,8,9,8,7,9,8,6,7,6,6,6,7,6,6,5,8,9,6,7,9,9,9,7,10,6,7,8,9,7,8,8,9,9,7,6,10,9,9,9,10,6,7,9,6,9,8,8,6,8,6,7,8,5,6,9,9,4,7,8,8,7,8,9,9,7,5,7,7,9,8,8,8,9,8,7,7,7,6,8,5,10,8,8,7,8,8,6,10,7,8,7,7,6,7,6,6,5,7,10,7,7,7,7,6,8,8,10,6,7,5,9,8,8,8,7,6,8,8,6,8,8,7,9,7,10,8,6,9,7,7,8,5,6,6,5,6,5,9,6,8,8,9,7,8,7,7,6,8,9,7,9,9,7,8,9,8,9,6,7,6,7,6,8,6,6,8,8,6,8,5,7,7,5,7,7,6,5,6,8,6,8,8,6,9,6,5,6,7,7,9,5,6,8,10,9,5,6,9,11,10,7,5,6,6,7,7,4,7,10,7,6,6,4,7,8,6,9,7,10,8,6,8,8,6,9,7,6,6,8,7,9,8,7,5,7,9,7,5,7,10,7,6,7,8,7,8,8,8,7,6,12,9,7,8,6,5,8,7,8,7,8,7,10,8,6,9,7,8,7,6,8,7,7,5,9,9,6,6,7,8,9,6,7,7,7,8,7,7,5,6,11,10,7,6,6,10,8,9,9,8,8,8,6,6,8,8,6,6,8,5,6,8,8,9,8,8,6,6,3,8,7,9,8,4,11,7,7,8,7,8,10,8,9,6,6,8,7,9,8,9,8,7,10,6,6,7,8,6,6,8,7,7,9,7,9,7,7,7,7,5,10,8,6,7,7,8,7,9,8,8,6,9,7,11,8,7,6,8,7,8,7,7,9,5,9,7,10,8,9,10,7,7,8,8,7,8,6,6,6,7,10,11,8,7,9,6,6,6,9,9,7,7,9,9,9,7,8,8,7,4,10,5,7,7,9,7,7,9,6,8,7,8,3,7,8,5,5,8,8,6,7,9,5,7,6,7,9,9,7,8,10,9,8,8,8,8,6,5,8,8,7,7,8,9,8,7,6,8,6,8,6,7,7,9,8,10,9,11,7,6,7,6,6,8,6,6,9,7,7,7,8,6,8,8,7,6,8,5,7,9,8,6,6,6,9,7,7,9,8,7,5,6,4,6,9,7,10,7,7,7,9,6,7,6,6,9,6,6,9,7,6,8,5,6,6,8,9,9,8,9,6,8,7,6,7,8,8,10,10,6,7,9,9,10,6,8,9,9,7,6,7,8,8,7,9,8,10,7,6,8,7,8,5,11,8,10,8,6,7,8,8,8,6,6,8,8,6,7,6,8,8,10,4,7,9,8,6,6,7,9,7,8,8,9,7,8,6,5,8,7,8,9,5,10,8,9,6,9,8,7,6,6,8,7,8,8,9,7,10,5,6,7,8,9,7,9,7,7,6,7,8,9,8,9,8,8,8,6,6,9,8,8,5,6,9,7,11,6,8,7,5,6,7,9,8,7,7,7,7,8,8,7,5,7,8,8,10,8,8,8,6,6,7,8,8,8,6,7,4,6,8,7,9,8,8,9,7,7,8,7,6,5,6,8,6,8,8,8,7,10,7,8,7,6,9,7,7,8,8,7,8,6,7,7,9,7,6,8,8,4,3,7,7,8,8,10,8,8,5,6,7,7,6,8,8,7,6,7,7,8,7,8,7,7,9,7,7,4,6,8,8,8,8,6,8,6,9,9,8,7,8,7,8,7,7,9,8,5,9,7,9,7,7,8,7,7,9,9,10,8,7,9,6,9,5,7,7,6,8,6,7,8,8,8,8,6,10,8,7,6,8,6,8,7,9,9,5,5,10,8,6,8,10,7,6,8,9,7,7,7,4,6,6,12,8,8,7,7,6,5,10,6,5,7,9,8,7,6,9,6,5,8,7,8,6,6,10,6,8,8,7,6,8,8,8,5,8,8,9,10,12,7,9,9,10,7,4,9,8,9,8,10,7,9,9,9,9,7,8,7,7,6,7,7,7,8,9,11,9,7,7,7,7,8,7,6,9,7,8,9,8,7,7,6,7,8,7,9,7,6,8,8,6,7,8,6,10,9,7,9,5,6,8,6,8,7,8,8,6,11,7,9,6,7,7,7,8,9,8,8,6,7,8,7,7,6,8,8,6,9,6,9,8,8,10,11,7,10,6,9,11,8,8,9,7,7,8,7,8,6,6,8,8,7,7,7,7,8,6,7,6,9,8,10,7,7,9,6,7,9,5,8,6,11,9,9,8,9,7,8,6,8,10,8,8,8,9,6,7,6,7,7,10,9,9,7,7,7,7,10,8,9,7,9,9,6,8,6,8,7,8,8,8,6,6,8,7,7,9,7,6,8,10,8,6,10,7,6,7,6,8,7,8,7,7,7,7,7,10,7,5,8,10,4,7,7,7,10,9,8,8,9,7,6,7,9,8,9,6,10,9,6,6,10,7,8,6,8,7,6,6,7,8,5,7,7,7,8,10,7,7,8,7,7,7,6,8,7,10,10,6,9,9,10,6,5,6,7,9,9,8,7,6,6,7,9,7,7,9,10,8,7,6,5,6,10,5,7,7,7,9,7,9,6,7,6,8,6,6,8,5,8,8,11,9,6,10,5,6,6,8,10,8,6,7,6,11,9,9,6,6,7,5,8,6,6,9,13,10,9,6,7,6,9,7,7,7,10,11,6,9,8,7,7,6,7,6,7,8,9,6,14,5,7,5,6,10,5,7,7,8,6,8,8,6,9,7,8,8,8,5,11,6,10,8,10,5,6,7,7,9,7,6,8,10,7,9,9,6,7,9,7,6,7,6,8,7,8,5,8,8,7,6,6,7,8,7,5,6,6,8,8,5,9,9,7,8,4,10,4,8,10,6,8,6,7,7,9,9,9,8,6,10,9,6,10,7,11,6,8,8,6,5,8,8,7,5,7,7,5,6,9,6,7,7,10,9,4,10,8,5,9,9,8,8,7,7,7,8,8,8,8,8,8,8,9,6,7,9,6,7,7,7,9,6,7,7,4,9,7,7,8,9,6,7,6,7,6,8,7,7,9,6,6,10,9,7,7,7,6,6,9,8,8,9,7,8,7,10,9,9,6,8,8,8,6,7,9,8,7,7,7,7,9,7,9,6,5,6,8,8,7,6,7,4,7,4,8,6,7,6,7,5,6,9,6,6,10,5,5,10,7,5,10,7,7,7,7,8,8,7,6,9,6,7,5,8,6,7,10,8,7,7,7,8,7,7,7,8,7,8,9,8,7,7,7,8,4,8,10,9,7,5,8,9,5,9,6,6,5,8,7,9,7,9,9,8,8,7,9,6,8,5,6,6,10,9,9,8,8,8,8,8,5,8,8,4,6,7,8,9,9,7,7,7,7,5,8,7,6,7,10,7,7,7,11,6,8,10,6,9,10,7,8,10,7,7,7,8,7,8,7,7,8,7,8,10,8,8,4,8,8,8,6,8,7,9,7,7,6,8,5,6,9,9,8,10,7,9,7,9,7,4,6,8,7,7,7,8,7,9,8,8,8,8,6,8,6,7,8,6,6,8,9,7,8,7,8,7,6,8,6,8,8,6,8,9,9,6,7,5,7,7,6,7,7,8,8,7,6,7,8,5,8,7,6,8,9,6,5,7,6,8,8,5,9,7,5,5,10,8,8,7,6,9,7,9,7,9,9,8,8,8,6,8,6,8,11,8,7,6,9,7,7,7,6,7,7,6,8,7,7,10,7,7,9,10,7,7,5,7,6,7,6,8,6,9,6,6,7,6,7,7,7,6,7,6,7,7,7,5,8,7,6,10,8,9,8,7,8,9,8,8,6,7,8,5,6,7,9,6,6,7,8,7,6,7,8,6,6,7,7,6,7,9,7,8,8,9,9,6,9,7,10,9,5,7,8,7,8,7,7,7,9,6,7,6,8,7,7,7,7,6,4,5,10,9,7,7,6,8,7,9,7,6,7,7,8,10,10,7,7,7,6,9,8,8,6,8,9,7,6,8,7,9,7,9,6,7,8,7,10,7,7,9,9,6,7,6,8,7,9,8,8,8,6,8,4,5,9,8,6,8,7,6,7,7,10,7,7,8,6,9,9,7,10,9,12,6,7,8,8,7,8,6,7,9,6,7,6,5,8,10,7,7,6,9,8,7,6,8,8,6,7,7,5,8,8,6,7,5,7,10,7,8,9,11,5,6,7,8,10,5,6,6,9,6,8,9,7,9,8,10,7,9,7,7,9,6,6,8,8,7,8,5,8,7,8,6,7,8,7,9,8,10,8,6,6,7,7,8,7,8,6,9,8,8,8,7,11,10,6,7,7,6,6,7,8,11,9,6,7,10,8,10,7,6,9,6,6,6,9,8,7,7,8,7,8,7,6,5,7,9,6,8,6,7,9,7,7,6,6,7,5,8,7,8,6,5,6,6,7,9,10,8,7,7,7,4,7,5,9,8,8,10,9,5,8,8,8,9,7,9,8,7,6,7,8,7,4,6,6,7,9,7,7,7,9,8,6,5,6,10,5,8,10,9,7,8,9,7,6,8,6,8,7,9,9,7,8,9,9,8,5,6,10,8,9,8,7,7,9,7,10,8,6,9,6,8,8,8,6,7,8,10,6,7,10,8,10,8,10,8,7,7,8,8,6,7,6,8,6,7,6,9,8,4,9,7,7,7,9,8,8,7,8,7,7,6,11,7,6,9,8,10,7,9,9,7,8,8,10,9,6,6,9,8,10,7,6,5,7,8,9,7,5,9,11,9,9,9,7,8,8,8,8,9,8,7,7,9,6,7,8,8,8,6,7,9,6,11,8,9,10,7,6,6,6,7,9,6,8,6,6,5,8,5,7,7,5,6,5,6,7,8,9,9,7,8,7,6,7,8,8,6,6,9,6,6,5,6,6,6,9,6,7,7,8,6,7,7,7,7,7,8,7,8,7,9,8,9,9,7,6,8,7,7,10,8,8,7,5,9,8,10,6,7,13,7,6,8,11,9,6,7,7,6,10,5,8,8,8,8,8,7,7,7,8,7,9,8,8,10,8,9,7,7,6,9,7,5,5,8,6,8,7,6,6,3,5,6,7,11,8,6,5,6,7,6,8,7,8,8,7,7,8,7,7,10,8,9,6,6,7,7,7,7,8,10,10,8,7,9,7,8,6,10,6,8,8,6,6,7,7,6,8,6,7,7,9,7,7,9,6,7,6,9,7,7,7,7,8,8,11,8,8,8,7,7,8,8,8,8,8,9,9,6,7,6,7,11,8,8,8,7,8,8,8,8,8,7,7,7,6,7,7,8,8,8,9,11,8,8,6,10,8,9,7,7,7,9,4,8,7,8,7,8,7,7,8,7,4,8,7,7,9,6,9,8,5,5,8,8,8,6,9,7,5,7,9,8,6,7,7,10,9,7,8,7,11,9,8,6,6,7,9,10,7,9,7,5,7,7,8,7,7,8,7,9,9,8,8,8,8,9,6,10,9,7,7,7,7,6,8,8,6,9,6,7,8,8,9,8,8,8,7,6,7,7,10,9,8,9,6,10,8,6,8,5,7,8,7,5,8,6,9,10,9,7,7,9,7,9,4,7,7,9,7,6,6,9,9,5,6,5,7,9,7,8,6,9,6,7,9,7,6,9,7,5,8,7,7,8,9,8,6,6,7,8,7,8,7,6,8,7,7,6,9,6,7,5,7,6,8,7,7,6,7,7,9,9,9,7,7,7,8,12,9,7,6,7,6,6,5,8,7,8,6,12,6,7,8,8,7,7,6,8,7,7,8,7,9,7,8,6,7,8,4,7,6,6,7,6,7,7,7,7,7,7,7,8,5,6,8,8,8,7,7,7,8,8,11,6,9,7,7,7,6,5,6,8,10,7,8,9,7,8,8,9,5,7,7,8,8,7,7,8,8,6,8,9,7,7,7,6,7,9,9,7,7,7,7,7,9,9,6,8,8,9,8,10,7,9,5,9,9,7,4,9,7,11,7,5,9,5,7,11,7,8,10,9,6,7,8,5,6,5,7,8,8,7,7,8,8,7,8,7,8,6,8,8,9,8,10,10,7,8,9,7,9,9,9,6,8,8,9,7,8,11,9,6,6,7,8,7,7,5,8,10,7,10,9,6,9,7,5,9,8,7,8,7,9,8,10,8,8,8,9,7,8,8,6,7,5,8,8,8,7,8,8,8,8,8,6,11,8,6,8,9,6,7,9,8,10,8,7,8,7,8,9,7,7,7,4,9,8,6,10,9,7,10,8,9,6,7,6,7,7,9,6,7,7,9,6,9,9,6,10,4,7,6,8,8,8,7,10,7,6,6,7,8,8,5,7,6,7,8,6,10,6,8,8,8,6,8,7,7,7,8,6,6,8,6,12,6,8,8,9,8,8,6,8,8,10,7,6,7,6,5,8,9,7,9,7,7,5,7,9,8,10,10,9,8,8,6,6,8,9,9,9,8,5,8,7,7,8,7,11,9,7,5,7,9,9,9,8,7,9,8,8,8,8,8,6,8,6,8,6,6,7,10,7,6,9,7,7,8,7,8,8,9,7,8,7,8,8,7,11,6,5,9,6,7,8,7,8,10,8,9,5,8,8,9,6,7,7,9,7,7,7,9,9,7,8,6,7,5,7,8,9,7,8,8,7,7,8,7,6,8,7,7,8,7,7,8,8,9,7,8,7,9,10,6,7,7,5,10,5,6,4,9,8,7,9,8,9,7,8,8,7,6,7,5,7,8,6,7,8,5,7,9,8,9,8,6,8,11,8,9,9,8,8,6,7,5,7,10,7,10,9,4,7,7,9,10,11,7,8,8,8,5,8,10,9,9,9,9,5,8,8,9,9,7,8,9,7,7,8,8,9,7,9,10,8,6,7,6,6,8,7,9,8,5,9,7,9,7,7,9,7,7,8,6,8,8,7,6,7,5,6,8,8,9,8,7,8,7,7,7,9,7,8,7,6,8,8,9,6,6,10,7,6,8,7,8,9,9,9,8,9,7,8,7,11,7,9,9,7,6,8,9,7,8,8,8,7,8,7,6,6,8,9,4,8,9,7,8,7,7,7,6,8,7,5,8,8,9,8,7,10,10,9,7,6,7,6,9,6,4,6,7,9,8,8,8,8,10,9,7,8,7,7,6,10,8,7,6,7,8,6,9,7,11,8,8,10,9,8,6,7,7,8,9,7,9,7,6,7,7,8,8,7,8,7,8,6,6,9,7,7,10,6,6,7,11,9,8,6,9,7,5,12,9,8,6,7,7,6,6,3,8,6,6,6,7,7,8,7,6,7,11,8,7,7,10,8,10,7,7,7,10,6,8,8,9,6,7,8,9,10,6,10,7,10,7,8,6,8,6,6,8,9,7,6,7,12,6,9,6,9,8,7,7,7,7,6,6,8,9,5,10,7,8,10,9,8,8,9,7,6,8,7,9,8,6,6,8,7,7,8,9,7,9,6,5,11,9,10,6,6,6,7,8,10,10,7,7,7,7,8,7,7,7,7,5,8,7,5,5,7,9,5,9,8,8,6,6,6,7,10,6,7,8,8,7,7,7,6,7,8,7,7,6,8,7,5,8,9,9,8,5,7,8,9,6,7,9,6,8,9,8,6,8,7,7,8,8,8,6,7,8,7,7,9,5,8,8,9,7,8,7,8,7,8,3,9,8,9,10,10,7,9,9,8,10,10,5,8,6,6,7,6,6,6,9,7,8,7,5,6,7,7,9,7,6,10,6,8,6,8,7,11,7,8,7,9,6,8,6,7,9,6,7,8,7,5,7,6,9,5,7,8,7,9,7,6,7,6,8,9,5,5,6,6,6,8,6,6,5,7,7,9,6,9,7,6,8,8,5,8,3,5,8,7,6,7,7,8,6,7,7,8,6,8,9,6,9,8,8,7,9,7,7,9,8,6,8,7,8,6,6,7,8,7,5,7,8,7,7,6,8,8,7,7,5,7,6,6,8,5,7,7,9,9,8,8,6,7,8,8,6,8,7,7,7,7,7,6,9,6,7,7,9,7,6,8,8,6,9,7,6,9,7,7,7,8,8,8,9,9,9,7,9,6,10,10,7,9,4,11,8,8,7,6,9,6,8,8,11,8,6,6,7,5,7,9,6,8,8,6,7,7,8,7,6,7,8,6,7,6,8,7,7,10,7,6,9,6,7,9,7,7,7,6,7,7,5,8,7,8,7,10,7,8,7,7,6,6,8,9,6,6,8,10,8,10,7,7,4,8,6,6,8,6,9,9,6,7,6,9,4,8,8,6,7,8,7,7,10,7,7,9,9,9,9,8,6,6,9,9,8,7,7,8,6,4,5,6,6,6,10,8,7,11,9,10,10,7,9,8,8,10,7,8,9,10,8,9,7,7,5,8,9,6,7,7,8,7,7,7,7,7,7,10,7,8,6,6,6,8,7,4,7,7,8,5,9,8,9,7,7,8,9,8,8,7,7,10,7,8,7,6,7,7,8,7,7,6,8,7,8,8,8,8,8,7,9,7,8,5,6,7,9,6,7,6,6,10,8,6,8,6,7,8,9,7,5,9,7,5,7,6,8,8,9,7,7,8,7,7,4,6,6,8,7,8,8,8,9,9,6,7,10,9,4,6,7,6,7,6,7,8,6,6,9,7,7,7,7,7,7,8,7,7,8,6,8,8,9,8,8,8,7,7,9,7,8,8,7,10,7,8,5,8,8,6,8,8,7,9,7,7,5,9,6,7,6,7,7,8,9,6,8,7,7,6,7,7,8,8,7,8,7,9,6,10,9,9,7,7,7,5,7,9,8,8,10,9,4,9,7,8,10,11,8,7,8,8,11,7,6,10,9,8,8,6,7,11,6,9,5,9,8,9,7,8,6,7,8,8,8,8,8,8,5,7,9,6,8,7,7,7,8,8,6,8,7,7,6,8,8,8,5,7,7,6,7,9,7,7,7,6,7,5,10,6,7,5,5,8,7,6,8,6,7,9,8,10,9,9,7,9,7,8,6,7,6,9,9,7,8,7,6,5,7,8,7,6,7,8,7,9,7,9,6,9,6,6,8,8,9,9,9,9,7,8,7,8,7,6,6,8,8,9,5,7,8,7,5,8,8,10,7,9,6,7,7,6,6,8,9,8,7,8,8,7,8,6,8,8,8,6,6,10,8,8,9,7,10,7,8,8,9,7,7,8,6,6,7,8,10,5,10,8,7,7,9,7,8,8,7,7,8,7,8,8,7,7,6,10,8,6,7,6,6,8,10,7,8,8,7,6,5,4,8,8,8,7,9,7,8,7,9,6,7,8,7,9,9,7,9,10,5,6,8,9,8,9,7,6,9,9,8,8,7,7,5,7,6,9,8,7,9,10,4,5,9,7,6,6,9,6,8,7,9,8,6,8,3,9,8,9,8,6,4,8,7,9,9,10,8,5,7,7,7,8,9,9,7,7,8,8,6,7,8,11,6,9,8,7,7,9,7,7,8,7,7,8,7,6,9,9,9,6,6,7,9,6,7,4,7,5,8,8,9,6,7,8,5,6,8,4,8,9,8,8,8,8,7,10,7,8,8,7,7,7,7,8,7,8,7,8,8,8,6,7,10,8,10,5,6,7,9,6,9,5,8,6,8,8,8,5,9,10,8,7,10,8,6,8,8,5,6,8,6,7,6,5,8,5,8,8,5,8,8,9,8,5,8,7,8,7,11,7,6,7,8,8,6,8,6,9,6,7,6,10,8,7,8,9,8,8,6,7,6,8,6,7,8,5,7,7,7,8,7,9,7,8,6,8,7,6,8,5,7,7,9,6,7,7,6,8,7,6,7,7,7,8,7,6,6,6,4,7,7,7,7,8,8,8,7,9,8,8,8,8,6,6,6,9,7,8,10,7,6,4,7,9,8,7,7,8,8,7,6,5,8,9,9,10,9,8,8,9,9,7,8,9,6,8,8,6,10,6,8,6,8,9,8,7,7,7,6,9,4,7,11,6,8,5,8,6,7,7,7,6,6,5,8,9,7,7,7,9,5,8,7,9,9,6,8,7,8,8,8,7,6,7,6,6,7,9,11,9,7,8,6,7,5,5,9,7,7,8,5,8,6,6,10,11,8,7,7,7,4,6,5,9,9,8,7,11,8,7,8,7,7,7,5,7,9,9,5,7,6,6,6,7,8,11,10,8,9,7,7,6,9,9,6,8,10,6,9,9,8,7,7,9,8,8,6,7,9,9,4,6,5,8,7,6,8,4,6,8,8,6,8,6,8,5,8,6,7,7,8,7,10,6,8,6,8,6,11,8,7,7,5,9,7,8,8,7,10,6,6,4,7,8,7,9,8,6,10,7,5,9,4,8,9,10,8,9,9,7,6,9,6,8,9,9,8,8,6,7,7,10,7,8,7,8,7,7,8,8,10,8,11,7,3,5,7,8,8,7,10,8,6,7,7,7,7,7,9,6,8,8,7,8,7,8,8,7,9,9,8,12,9,7,7,10,9,9,8,9,7,7,6,6,8,6,7,5,7,9,6,6,12,7,7,7,8,8,8,8,8,6,6,8,9,9,11,8,7,7,6,11,8,8,7,8,8,6,8,7,9,8,9,7,6,6,5,8,6,7,9,9,6,11,7,6,8,8,8,11,9,8,8,7,8,7,9,8,6,9,6,7,7,9,7,9,7,8,9,6,9,5,8,7,7,7,8,10,7,7,8,6,7,8,8,9,9,7,8,8,7,9,7,7,6,8,7,7,8,8,8,8,5,4,6,9,8,6,9,8,10,6,6,9,8,7,6,7,6,9,7,9,7,6,9,6,9,8,7,5,9,9,7,6,8,9,7,7,7,10,6,7,7,9,7,6,7,7,9,6,10,8,5,8,6,6,7,6,8,7,9,9,7,7,4,6,8,4,7,6,8,8,7,10,8,10,9,5,7,6,8,11,9,11,7,10,9,6,10,9,7,9,7,6,8,7,8,7,8,8,7,9,8,9,9,7,6,7,6,6,6,11,7,8,6,9,6,5,8,7,7,9,8,9,9,7,7,9,8,9,7,7,10,6,9,8,8,4,8,8,8,6,8,7,7,8,9,8,7,6,9,6,4,7,5,7,7,8,8,9,6,7,8,7,6,8,8,9,10,10,8,7,7,6,10,6,9,7,10,8,8,8,9,8,7,8,8,9,8,9,7,7,9,7,6,7,6,8,8,7,8,7,11,7,6,7,6,8,8,9,8,8,6,6,5,7,5,6,10,8,7,8,8,8,11,9,5,9,7,7,7,7,8,8,6,8,5,8,8,9,8,8,8,9,7,9,7,8,9,8,8,7,7,9,7,9,8,7,7,6,8,7,7,4,6,8,9,5,11,13,8,5,8,7,10,7,7,10,6,9,7,7,6,9,7,9,6,10,9,7,7,6,7,10,9,8,8,8,5,9,10,8,8,7,6,7,6,7,6,9,6,6,6,9,5,6,7,6,9,7,8,8,7,5,8,6,7,7,7,8,9,6,7,7,5,9,8,9,7,5,7,8,10,6,7,6,8,8,7,9,5,7,8,5,8,7,7,8,8,7,9,4,7,6,8,8,4,4,7,7,8,6,8,6,7,8,8,7,10,9,9,5,8,10,5,9,6,9,4,5,5,6,7,7,4,7,8,8,7,6,8,7,10,8,6,8,7,7,6,5,5,8,7,6,7,8,7,7,7,8,7,9,7,9,5,8,10,6,7,4,6,7,4,6,8,12,8,5,9,7,6,6,10,8,8,7,10,6,7,8,7,7,9,7,9,5,7,7,6,7,7,8,9,8,6,7,8,10,4,5,6,9,8,7,7,7,7,7,6,8,7,6,8,7,6,8,10,8,9,6,6,8,6,11,10,5,6,9,7,6,6,6,7,8,7,5,8,12,7,7,10,6,4,7,8,7,7,8,10,8,8,7,6,8,5,7,10,6,9,9,7,8,6,8,7,8,5,5,6,8,7,8,7,7,7,8,6,8,6,11,6,8,6,7,9,9,9,8,7,6,7,6,9,6,8,9,9,6,11,7,7,8,7,10,9,5,6,7,7,10,9,10,7,5,7,7,9,7,8,9,7,7,7,7,7,7,8,8,7,8,7,7,6,7,7,7,6,7,9,8,7,10,8,7,8,8,9,7,10,8,9,7,6,9,5,8,8,8,9,7,10,8,7,7,5,7,6,8,8,5,7,8,6,9,8,7,7,8,7,10,8,7,8,8,8,7,7,8,8,5,7,7,7,7,8,12,7,6,7,8,9,10,10,9,8,7,7,10,9,7,7,9,6,6,7,6,9,6,8,9,6,6,6,7,7,6,7,8,9,5,7,8,5,7,8,7,8,7,8,9,6,5,8,9,7,7,7,7,7,9,10,5,7,9,9,8,7,8,6,8,9,5,6,11,6,8,8,9,7,8,10,8,5,6,7,7,10,8,9,8,5,9,7,8,8,7,5,8,8,8,7,9,8,6,8,6,9,7,9,7,8,8,8,8,7,6,7,9,6,8,8,9,7,7,6,9,7,8,7,7,7,5,8,7,7,6,8,7,9,8,6,8,8,9,7,8,9,6,8,7,7,6,7,5,6,9,5,8,8,10,7,9,7,7,7,6,10,7,8,8,7,8,7,8,9,8,8,6,6,9,7,6,8,7,3,6,6,6,7,5,7,10,9,6,7,9,7,7,8,8,9,8,7,6,6,6,8,7,7,7,6,8,7,7,5,9,8,8,7,8,7,7,5,7,7,8,10,8,4,7,7,10,7,8,7,8,6,8,8,9,7,8,5,7,5,8,7,8,8,6,9,4,6,8,6,7,7,7,9,9,7,8,6,9,8,7,8,9,5,8,7,7,7,11,9,6,6,6,10,7,9,10,7,8,9,8,7,7,6,6,9,7,8,7,7,7,9,8,8,8,5,7,6,5,7,7,7,5,7,9,8,8,7,7,8,7,5,7,8,6,9,10,6,7,8,6,7,8,7,5,8,8,8,7,5,6,9,7,9,6,9,7,7,7,6,5,6,7,7,7,9,7,8,9,8,8,8,6,7,7,8,6,6,7,8,9,6,8,7,7,8,8,8,7,8,8,9,8,8,9,7,7,7,8,7,7,7,6,8,8,7,8,8,5,5,6,7,5,8,6,7,6,7,8,8,6,8,9,8,7,5,7,5,4,8,6,6,7,8,9,7,7,4,6,5,8,9,8,8,7,7,7,9,7,9,9,7,8,9,9,6,9,7,9,7,8,9,5,8,8,7,7,8,6,6,8,7,6,6,8,8,7,7,9,5,8,6,9,7,8,7,8,9,9,7,9,7,8,8,7,7,10,8,6,7,7,6,6,8,7,7,8,10,7,7,9,9,8,8,8,7,8,7,9,8,8,6,5,6,9,7,7,7,8,7,4,8,6,8,7,5,9,6,9,9,8,6,9,6,8,8,8,9,9,6,9,9,9,5,5,10,6,6,9,8,10,10,7,6,5,7,7,8,9,10,5,7,10,9,8,8,8,10,7,9,9,9,6,8,7,7,6,9,11,8,8,9,7,7,8,8,8,11,9,9,9,7,7,7,5,7,5,7,5,7,7,7,8,6,7,8,6,6,8,10,9,6,9,9,13,9,8,6,10,8,9,7,7,7,8,6,7,8,9,6,7,8,6,7,7,9,9,9,9,9,8,7,7,9,7,8,7,9,9,9,9,6,8,6,10,7,8,6,9,8,9,7,8,9,7,7,6,10,8,6,10,7,9,9,7,7,6,11,6,7,7,6,7,10,8,6,6,8,8,7,7,5,9,10,10,7,7,7,7,9,8,8,10,7,8,7,9,6,6,7,7,7,8,7,7,6,4,8,6,7,7,9,7,7,9,5,8,9,6,10,8,7,9,6,10,9,6,8,7,7,6,6,6,7,7,9,8,7,7,8,7,8,8,7,9,7,9,7,9,10,8,7,10,8,8,7,8,9,6,7,6,10,7,8,9,9,6,7,7,7,9,6,8,9,9,8,8,6,6,8,8,6,8,7,7,8,9,8,8,6,7,7,8,10,6,7,6,6,10,6,7,7,7,7,8,9,9,9,11,6,7,8,5,9,5,6,8,6,9,7,8,6,9,9,7,8,8,9,6,7,8,7,9,5,9,8,9,8,9,7,7,6,7,7,9,10,6,7,9,7,8,10,7,8,7,6,7,7,8,8,8,10,8,6,8,9,7,9,9,7,8,7,7,5,9,8,6,6,7,8,8,10,6,6,9,7,7,8,7,9,8,7,6,6,9,8,8,7,9,8,9,6,8,7,9,9,6,9,8,8,8,9,8,6,7,7,7,6,9,9,6,8,6,8,6,7,8,5,8,8,10,9,7,7,7,10,6,9,8,8,9,8,8,8,8,8,8,6,10,7,8,6,6,8,8,9,8,9,8,8,9,9,9,8,10,6,9,7,7,5,7,7,7,8,7,7,7,7,10,8,7,7,9,6,8,8,10,8,7,12,9,9,7,8,5,7,7,8,7,7,8,9,7,8,6,7,5,9,6,9,8,8,10,7,7,7,9,7,7,7,10,7,7,9,6,10,8,9,8,8,11,7,7,4,8,9,7,8,8,8,6,7,8,8,9,7,9,7,8,7,7,7,8,10,10,9,6,7,8,6,8,11,8,9,8,7,7,6,5,8,7,10,8,7,7,8,9,10,7,7,7,7,12,8,11,10,9,10,9,6,9,8,6,10,7,8,7,7,10,10,7,7,9,8,8,8,8,7,7,5,8,8,7,7,5,6,9,8,6,8,7,9,7,8,8,6,6,7,7,8,6,9,6,8,7,6,7,6,7,8,7,8,4,8,6,6,7,8,8,6,9,6,7,6,4,7,10,6,6,8,5,6,7,6,8,7,10,6,6,5,8,9,6,6,6,9,3,8,7,10,8,8,8,8,11,10,8,8,9,7,9,9,7,8,7,6,8,9,5,9,7,8,8,7,7,6,8,9,9,8,7,8,6,7,6,7,5,7,9,7,8,7,11,6,7,10,6,9,8,6,8,6,7,7,6,6,6,10,8,7,6,9,7,5,5,6,5,7,8,7,10,7,7,8,5,8,8,8,10,8,8,6,6,8,9,8,8,12,6,7,7,8,7,7,7,8,7,6,8,6,6,8,4,6,11,5,6,7,9,7,7,7,7,8,8,7,8,8,8,8,9,8,5,7,7,7,11,8,7,8,10,12,6,7,6,11,8,7,7,8,9,9,8,9,11,9,6,10,8,9,8,7,9,6,9,7,7,7,8,7,7,7,8,8,8,8,8,8,7,5,5,7,8,9,4,9,7,7,8,7,7,7,9,6,6,9,4,7,8,8,8,7,6,8,10,8,7,7,7,8,9,7,7,7,8,7,7,7,7,7,8,11,6,4,6,7,8,10,8,6,7,9,8,10,7,9,7,7,6,6,7,7,7,7,7,8,4,7,10,7,8,7,9,8,10,7,7,7,6,7,8,6,8,8,8,7,6,6,10,9,4,5,6,7,7,4,7,8,7,9,9,7,7,9,7,8,6,9,8,8,5,6,7,10,9,7,7,9,11,7,6,5,7,7,9,9,8,8,9,8,8,8,8,6,6,7,8,6,6,6,6,8,7,8,7,7,9,6,8,8,8,6,8,9,8,10,7,6,11,9,4,8,7,7,12,8,6,7,8,8,4,8,8,9,7,8,8,7,7,7,7,6,7,8,9,9,8,8,8,6,7,7,7,8,8,7,8,9,6,8,7,8,8,4,4,6,8,6,6,8,9,8,8,9,8,7,8,10,7,9,8,7,9,6,8,7,8,8,8,7,7,8,5,7,9,6,9,7,6,8,7,7,6,8,5,9,9,6,7,8,8,6,6,8,6,8,9,6,6,9,6,9,8,9,10,7,7,7,8,8,7,8,6,7,8,6,7,6,11,8,7,6,8,8,8,7,8,9,7,8,8,8,7,7,7,6,6,5,8,7,7,7,8,8,10,8,6,7,9,7,8,5,8,8,7,7,7,9,8,5,11,7,7,11,8,8,8,5,7,6,9,6,8,8,8,8,7,9,7,7,9,8,7,5,5,9,7,7,9,5,8,8,8,9,9,6,7,7,9,7,9,6,8,8,6,8,6,8,9,8,7,9,5,7,7,8,7,7,9,7,5,7,7,7,8,9,8,7,8,10,6,6,7,7,8,7,9,7,9,6,8,8,5,8,8,8,8,7,7,7,7,7,6,8,9,8,5,7,7,7,8,8,7,8,7,9,7,6,6,8,6,9,7,8,8,5,8,8,10,6,6,8,8,9,9,5,10,8,7,8,11,7,9,9,7,8,8,8,8,9,9,7,7,6,7,8,8,10,9,7,8,8,9,10,8,7,8,4,6,7,8,7,9,6,7,7,8,8,7,9,7,11,8,8,8,10,9,7,9,8,8,8,6,8,6,7,8,8,6,10,8,10,8,9,7,8,8,7,6,7,8,8,8,8,7,8,5,9,6,7,7,8,8,12,8,8,7,6,7,7,7,8,7,9,8,7,7,8,6,8,6,7,7,6,9,7,7,8,6,6,10,8,8,7,6,7,9,7,7,7,6,7,6,8,8,9,7,8,6,6,7,6,8,7,7,9,8,7,6,10,7,9,8,8,5,7,5,9,7,7,11,5,6,7,8,7,7,7,8,6,7,8,9,12,5,8,6,6,9,7,5,7,9,8,8,6,8,7,8,8,8,8,8,8,6,9,9,7,7,9,7,7,8,7,8,9,7,6,5,6,6,8,7,6,9,5,8,8,8,6,5,5,7,7,7,7,8,8,9,7,5,6,7,6,8,8,8,7,8,6,8,10,7,6,7,5,10,8,5,10,11,7,5,9,9,6,9,8,9,7,8,9,8,7,8,5,8,6,6,7,8,7,8,8,8,7,7,4,7,8,7,6,8,7,7,7,8,7,7,9,6,7,8,8,8,7,7,6,8,8,6,6,10,6,9,9,7,8,5,7,8,7,11,9,8,7,8,6,8,9,8,7,9,9,5,8,8,7,7,7,8,6,7,9,5,8,3,8,8,7,7,9,5,4,8,8,9,6,6,8,8,7,8,9,8,8,5,7,5,6,8,8,6,7,12,7,6,10,7,7,6,9,10,8,7,5,8,6,9,9,6,8,9,9,8,7,8,11,10,5,7,7,11,7,6,8,6,7,7,7,9,6,4,6,6,8,9,7,4,6,8,7,10,8,8,6,7,5,7,7,7,8,8,7,7,6,9,7,7,6,6,6,4,7,5,7,9,7,8,7,6,8,9,7,7,8,9,6,9,6,7,7,6,8,7,8,9,9,7,7,11,8,10,7,9,8,8,7,7,8,8,6,6,8,5,7,9,5,9,9,8,8,8,8,6,5,7,7,6,6,6,5,7,8,6,6,7,7,6,5,6,7,9,7,6,8,7,7,8,5,8,8,9,7,8,9,8,7,8,6,5,10,10,7,6,6,8,7,9,6,7,10,10,6,7,9,6,7,7,6,8,8,8,7,7,8,7,8,8,8,8,7,10,7,7,8,8,7,6,7,7,7,7,9,10,8,6,7,11,7,7,5,9,8,6,6,7,9,8,6,7,9,9,7,8,8,9,11,10,7,8,5,7,8,8,7,9,8,6,7,7,5,8,7,8,9,6,6,7,6,8,8,5,6,7,7,7,7,7,7,9,5,7,5,9,8,10,8,9,7,7,3,9,7,8,7,6,8,7,7,5,7,7,9,8,8,7,6,9,7,6,7,6,9,7,7,7,10,8,8,8,8,9,5,6,8,7,7,10,8,6,8,7,7,8,7,6,9,7,7,8,10,7,9,7,10,7,7,9,6,9,7,6,7,6,9,7,7,7,6,8,8,7,7,8,7,6,8,6,7,7,8,8,8,10,8,7,8,7,9,5,9,7,7,8,7,9,5,6,8,8,9,6,8,6,9,7,9,8,8,7,8,5,7,7,7,6,5,7,6,6,7,9,9,7,8,7,11,8,8,6,8,7,5,8,8,7,8,6,9,6,7,8,6,8,7,6,6,10,8,7,8,6,6,7,7,5,8,8,8,7,6,8,9,8,9,8,8,8,9,6,8,7,8,6,8,8,7,7,7,7,10,8,8,7,4,10,5,9,6,10,9,7,6,10,5,8,6,8,9,7,7,8,7,8,8,10,9,6,6,7,8,7,7,7,8,6,6,7,8,9,6,9,9,7,7,4,9,8,6,7,9,4,8,7,6,7,9,8,7,7,6,8,6,6,8,8,7,8,8,6,7,8,6,7,7,8,6,7,7,6,5,7,8,6,8,6,5,9,7,7,6,9,8,8,7,8,8,7,10,7,10,7,5,6,8,10,7,6,6,7,7,8,8,8,8,9,5,12,7,9,8,9,10,7,8,7,8,8,6,5,11,9,7,7,9,7,7,5,6,7,9,7,6,7,6,10,5,5,7,7,8,10,8,7,9,8,9,8,6,6,6,7,9,9,8,6,8,7,9,10,12,6,7,6,9,9,6,6,9,8,6,7,10,6,9,7,8,8,7,6,6,7,8,7,8,8,5,5,6,7,8,8,6,6,8,7,8,8,7,8,8,7,8,9,6,7,8,5,7,11,7,10,9,7,9,9,9,7,7,9,7,7,8,11,8,10,9,9,11,8,8,10,9,8,8,10,8,9,10,6,7,7,9,7,6,9,8,7,6,8,7,7,7,8,8,9,5,11,8,8,6,9,6,7,8,7,8,5,7,6,7,7,8,7,7,6,7,7,8,6,10,6,9,7,7,9,7,7,8,8,8,11,7,8,11,11,10,8,7,10,9,9,5,7,8,8,6,6,6,7,8,8,9,7,8,7,6,7,8,10,8,7,6,9,8,8,9,6,9,8,11,7,8,7,10,9,7,8,5,7,6,7,8,8,7,10,7,8,7,7,8,5,7,8,7,10,8,9,7,8,7,9,6,9,7,7,7,8,8,7,10,8,3,8,7,9,9,6,7,5,7,5,8,6,8,7,6,8,9,8,8,6,9,10,9,8,7,9,9,5,6,7,7,8,8,8,7,8,8,8,6,7,8,8,7,8,7,9,7,10,6,10,8,8,6,9,6,9,7,7,9,5,8,6,7,9,10,8,6,8,7,9,6,6,7,9,9,7,7,7,9,7,11,8,8,8,8,7,8,6,8,9,8,8,6,11,7,8,11,7,6,10,7,7,7,9,7,7,6,10,8,7,6,8,10,6,6,8,7,9,8,7,10,9,7,6,8,10,7,6,6,7,7,8,5,7,7,8,8,5,8,8,8,7,7,7,8,8,8,10,9,6,10,9,8,7,7,8,7,7,8,6,9,7,7,8,7,8,8,8,9,7,6,7,9,6,8,5,8,7,9,6,7,7,8,8,7,9,9,6,9,6,8,8,6,5,7,8,6,10,7,8,8,8,5,5,6,7,8,7,8,6,10,6,8,9,10,8,8,5,9,6,8,6,8,6,6,6,9,7,8,7,9,7,8,7,6,8,8,6,5,8,6,8,6,7,7,9,7,5,4,7,6,9,8,9,6,7,9,10,9,11,8,8,10,8,10,8,9,9,6,12,7,11,10,11,8,10,8,11,9,11,6,10,5,8,6,12,8,7,8,9,7,9,12,11,10,11,6,7,7,8,7,10,11,8,9,8,9,7,9,10,11,9,12,8,5,8,7,6,8,10,6,11,9,13,11,9,9,9,10,7,11,5,9,12,6,9,10,9,10,8,7,11,9,11,10,11,7,8,9,10,11,7,10,11,8,9,9,11,9,7,5,5,7,7,8,11,7,9,8,6,11,9,6,9,9,7,7,10,7,8,9,11,9,7,7,7,9,9,11,6,10,6,9,11,10,11,6,7,8,8,6,13,10,9,9,8,7,8,7,10,10,8,9,7,5,4,14,9,7,7,8,7,8,9,9,5,11,8,6,6,8,9,6,6,9,6,9,10,12,9,11,8,11,10,9,8,10,7,10,10,10,9,10,11,9,10,10,12,10,8,8,9,8,10,8,11,6,10,11,9,11,8,8,11,7,9,8,11,10,9,9,8,8,10,8,8,8,8,11,7,12,7,12,11,7,10,11,10,11,10,8,8,11,10,11,9,7,8,5,7,9,9,9,6,7,8,11,8,9,9,10,10,11,8,11,10,10,9,9,7,12,7,10,11,9,10,11,9,10,7,11,10,8,7,8,7,7,11,10,10,8,6,12,8,6,8,9,8,5,8,7,10,9,9,10,10,7,10,10,11,8,12,9,8,12,8,7,10,8,10,8,9,9,11,9,6,12,9,11,9,9,9,8,10,8,12,8,8,11,6,11,8,8,8,8,8,7,9,8,9,10,10,9,8,9,9,8,14,6,9,14,9,7,9,10,7,8,7,7,8,9,10,7,12,9,7,8,7,9,10,8,9,9,8,7,10,8,7,8,11,10,10,11,9,13,8,10,9,11,6,11,8,8,8,10,7,7,10,7,7,8,11,5,7,8,7,9,10,10,7,10,7,8,11,6,10,9,11,9,9,7,9,10,6,8,8,9,11,8,8,8,9,6,7,6,8,8,12,10,7,6,6,10,11,9,7,9,6,7,9,11,7,6,10,9,11,10,8,6,9,7,5,11,9,8,5,9,9,10,9,12,13,6,9,8,10,10,8,9,10,11,9,8,10,10,9,7,7,10,9,7,10,9,8,8,9,11,9,8,10,8,8,8,5,7,7,11,11,6,8,12,7,6,7,7,11,9,8,7,10,12,6,8,9,9,8,8,8,9,10,9,7,9,8,7,7,7,7,9,12,8,8,12,10,11,11,8,11,9,6,9,11,6,10,7,7,8,10,9,7,7,10,9,5,8,7,8,9,5,7,7,11,10,9,7,12,7,9,10,8,9,7,5,8,10,9,10,8,7,8,7,9,7,10,7,9,9,7,11,13,7,8,9,10,10,7,10,7,9,8,10,7,7,7,7,6,12,11,11,9,11,10,10,10,10,9,12,8,8,7,7,8,6,9,8,7,10,9,7,9,10,9,10,8,7,7,7,8,7,8,8,8,7,7,8,9,7,10,7,7,8,12,10,9,7,8,7,10,8,8,9,9,6,8,7,12,9,8,9,5,6,8,8,8,8,7,10,9,9,8,9,10,7,8,10,8,8,7,8,6,10,9,6,8,10,7,8,8,6,7,10,8,11,7,4,6,11,10,7,11,5,10,8,9,7,10,9,6,9,9,11,8,10,9,9,8,9,9,11,7,6,9,6,8,10,10,6,9,9,8,9,8,7,10,8,6,12,9,7,7,11,10,9,6,7,9,9,7,6,7,8,6,7,7,6,13,10,8,9,8,7,9,6,8,9,7,6,7,7,7,9,8,10,9,5,8,7,11,9,7,11,6,8,9,8,6,10,5,10,7,10,10,8,8,5,10,11,10,8,7,10,7,7,7,10,5,10,7,10,9,9,13,7,9,6,12,8,11,8,11,9,12,11,8,9,10,8,11,8,9,8,12,8,10,4,8,7,8,8,8,9,5,7,10,11,8,8,10,9,8,11,10,8,9,9,8,8,8,4,8,9,9,7,7,8,8,8,8,6,9,12,11,10,10,10,6,6,9,11,7,7,9,9,9,7,10,4,9,7,9,11,7,7,8,12,10,11,8,13,8,8,9,10,9,9,8,11,10,7,9,7,7,9,8,12,13,12,10,11,7,10,9,9,10,8,8,10,11,9,9,8,12,7,7,7,10,9,10,11,13,9,10,8,7,12,7,9,6,5,8,8,10,10,8,8,9,9,7,5,9,9,10,9,11,8,4,10,9,10,7,9,10,6,10,4,8,11,6,7,12,11,6,5,9,11,13,9,8,10,8,9,8,9,11,9,10,9,8,9,9,10,9,10,10,6,10,9,8,7,10,11,9,7,9,11,10,12,8,8,11,8,11,6,11,8,7,10,9,11,8,11,8,11,8,10,9,9,9,7,8,7,10,7,9,7,8,9,10,5,10,7,4,12,5,11,11,5,10,13,9,12,9,8,6,9,9,7,11,9,8,9,8,11,9,7,10,9,6,9,9,10,6,7,9,8,11,7,7,6,11,7,8,11,10,9,9,10,7,8,10,8,8,10,10,10,10,8,9,10,11,10,10,9,8,7,7,8,10,6,12,11,7,9,6,11,7,9,10,5,8,9,10,7,7,10,10,10,8,11,10,8,9,8,8,9,11,7,9,8,3,10,7,7,10,9,8,11,7,9,9,7,8,9,9,9,9,7,12,6,9,8,8,6,11,7,9,8,8,6,7,8,7,7,7,11,9,10,10,9,10,10,7,9,7,11,9,10,7,7,4,9,8,10,10,10,8,9,12,7,10,5,7,9,7,10,7,9,8,7,6,9,11,6,7,9,12,5,9,11,8,9,11,9,10,8,11,7,12,12,11,9,10,10,6,8,8,8,7,8,8,7,6,10,8,9,10,12,12,10,9,6,10,8,8,8,8,9,10,6,8,6,9,11,9,9,13,8,8,9,8,8,6,8,9,9,8,8,10,12,7,8,8,7,11,8,10,11,10,9,9,10,10,8,8,7,8,8,6,10,9,7,7,9,8,11,6,8,9,9,7,8,9,7,8,7,10,12,8,9,7,8,9,8,10,11,9,9,7,9,11,11,11,9,9,6,13,5,11,9,14,9,7,4,11,6,8,8,8,11,9,8,9,8,8,8,8,7,10,8,11,6,9,7,11,7,9,6,9,5,6,7,6,7,10,7,8,7,11,8,10,8,9,8,9,9,9,9,9,9,9,8,11,10,6,6,13,9,12,9,10,12,5,10,8,11,11,8,10,11,11,10,8,9,9,6,9,7,8,11,11,12,7,7,9,11,11,12,8,9,8,8,9,9,6,7,10,7,8,8,8,7,10,9,10,8,6,9,12,10,10,10,8,5,8,7,8,9,6,9,9,7,10,11,8,7,12,10,10,6,11,10,7,8,8,6,7,7,9,11,11,7,9,9,9,7,10,8,8,6,6,10,9,12,6,10,9,9,10,7,9,4,8,7,9,10,9,8,8,7,8,9,7,11,10,11,7,11,13,9,10,6,10,10,12,5,9,9,6,11,6,8,12,10,8,12,10,10,8,11,9,7,8,11,10,11,11,8,6,7,9,9,9,7,10,5,9,9,6,11,8,10,10,8,9,9,6,7,8,10,12,11,11,10,10,9,8,8,11,6,9,8,9,13,6,9,8,7,7,9,9,10,10,8,8,10,11,10,9,9,7,6,11,10,10,8,11,10,8,8,9,12,11,8,12,11,6,8,11,7,9,10,7,9,12,9,10,7,7,5,6,8,10,8,6,9,10,11,9,3,9,8,11,10,10,7,8,7,7,10,8,10,7,12,9,8,8,8,9,10,11,6,10,10,12,7,10,10,9,8,10,11,10,9,10,10,12,10,8,7,8,12,11,7,11,12,7,8,9,11,8,10,9,11,12,11,6,10,11,7,6,10,7,11,7,10,12,10,11,7,8,10,8,7,9,12,10,11,9,11,13,10,13,10,10,10,7,12,9,9,9,8,10,5,7,11,11,11,7,8,8,10,7,7,9,11,10,7,7,6,10,11,12,8,8,10,7,10,7,11,9,9,9,9,8,12,8,7,9,11,10,9,10,12,7,11,9,9,7,8,8,12,6,8,10,8,6,8,9,12,7,8,9,9,9,11,11,8,8,8,9,9,11,8,7,11,9,8,7,10,10,8,9,9,12,7,10,8,8,10,9,8,11,8,10,9,10,7,9,12,9,7,7,6,10,9,12,11,7,8,9,10,8,8,8,9,8,9,8,11,13,9,9,9,13,9,9,9,7,10,10,10,7,10,10,9,10,7,6,9,10,10,6,11,8,9,9,6,8,10,9,10,9,12,9,10,6,8,10,9,9,10,8,9,11,10,11,9,11,8,10,11,9,9,10,11,9,10,10,8,10,8,9,9,7,9,11,9,10,9,10,8,10,10,9,11,8,8,10,11,8,10,9,7,9,7,8,10,10,10,7,6,10,11,9,8,9,12,7,10,9,10,10,9,11,15,12,6,10,8,8,8,10,9,10,12,8,11,9,10,7,11,12,5,10,9,10,9,10,10,9,8,11,8,9,12,7,10,8,9,8,7,11,6,10,11,8,9,7,6,8,13,9,12,9,11,8,12,12,8,11,7,9,9,9,8,8,8,6,9,10,12,9,10,10,8,10,11,8,5,7,8,12,8,8,9,10,9,9,7,8,9,5,7,9,7,10,10,9,10,8,6,7,9,8,11,9,9,8,7,7,9,8,10,10,11,11,7,9,8,9,12,10,9,11,9,6,13,10,10,10,7,11,8,4,11,8,7,9,10,12,11,11,10,11,9,10,8,10,10,8,10,9,10,12,10,9,10,11,10,8,8,8,12,8,13,9,10,9,8,11,9,8,6,10,7,9,10,9,7,11,10,10,12,9,11,10,10,8,5,7,7,8,10,12,8,12,8,6,8,7,7,11,10,11,9,12,7,10,8,10,10,10,9,9,8,10,12,9,10,8,11,4,9,9,5,8,9,8,9,8,11,10,7,9,8,10,10,9,6,8,9,10,10,9,9,10,4,9,12,10,10,11,10,10,8,9,6,9,10,8,10,9,7,11,10,12,8,7,9,11,9,12,9,12,11,9,8,10,9,12,9,9,7,9,9,8,8,10,9,6,5,12,9,10,10,9,9,7,9,7,12,9,10,9,10,8,11,6,9,8,8,12,10,7,7,11,10,11,8,12,10,10,6,9,8,7,9,9,9,10,12,7,6,12,10,10,11,10,8,9,10,9,9,9,5,8,8,9,11,9,9,9,10,13,7,8,10,6,12,9,7,10,12,7,11,10,10,8,9,9,12,9,9,10,7,10,10,10,5,9,7,12,8,10,11,10,7,8,8,8,12,11,11,8,8,9,10,10,9,11,9,6,8,9,10,9,10,10,8,8,8,8,11,7,8,8,9,8,9,11,10,12,10,9,10,11,9,12,9,11,13,12,11,8,5,7,9,11,9,9,9,8,10,8,10,10,12,9,11,6,10,9,10,10,8,8,7,11,9,10,9,9,11,8,8,9,9,10,10,10,7,9,9,8,10,7,12,7,7,10,11,10,10,9,11,8,11,9,8,8,12,8,9,8,9,9,9,12,10,10,8,11,9,10,12,9,7,8,10,7,10,6,6,9,7,10,8,8,8,10,9,9,9,7,11,9,6,11,9,10,11,9,10,9,6,8,9,10,9,8,11,8,7,10,8,10,11,12,9,11,10,9,8,9,7,8,9,10,8,10,10,8,7,8,9,9,9,7,14,9,9,8,9,12,7,10,8,12,6,8,8,7,8,10,9,12,10,12,9,7,10,12,9,11,10,7,9,10,10,10,12,11,10,6,10,11,12,8,10,9,12,7,11,11,11,9,8,7,12,8,11,5,10,12,11,7,7,9,7,10,8,10,8,9,9,10,7,9,6,8,9,10,9,7,7,8,10,9,7,6,9,8,7,9,11,10,8,9,8,12,9,9,7,8,11,10,9,7,10,10,7,8,12,6,9,10,8,7,11,10,7,13,12,12,10,12,9,11,12,9,8,12,8,8,10,11,12,6,5,8,10,8,6,12,8,10,9,8,8,9,12,10,8,9,9,7,9,11,11,9,10,11,10,9,11,10,11,10,11,7,7,10,8,11,8,8,10,8,9,13,9,7,10,9,7,11,9,9,10,11,12,12,12,9,10,11,8,9,13,11,12,7,9,10,11,11,13,8,8,10,11,7,10,9,8,10,10,8,11,10,11,8,11,9,10,6,14,7,8,10,7,10,9,11,11,10,10,12,11,11,10,7,10,8,4,6,9,7,9,8,9,8,9,6,7,9,7,12,6,8,9,10,9,8,8,10,9,5,11,12,8,5,5,9,7,8,9,11,10,8,9,9,8,5,11,9,7,9,11,8,11,10,8,6,14,10,6,9,8,8,11,11,12,8,11,11,7,8,10,6,9,9,8,6,8,7,9,7,6,6,8,8,7,10,10,12,9,8,11,5,12,10,11,9,10,10,9,9,9,9,8,6,10,11,13,8,10,12,6,13,9,10,7,11,11,10,9,9,10,9,11,6,8,7,8,10,11,8,7,6,8,9,8,8,9,13,8,7,4,13,12,6,10,7,10,10,10,9,9,9,7,9,8,9,9,10,8,11,10,8,12,9,13,9,9,12,8,13,7,10,10,11,10,8,10,8,8,10,11,11,6,7,7,10,8,14,10,7,10,7,12,9,9,8,12,10,9,13,6,10,7,10,9,9,10,9,12,10,8,11,11,10,11,10,12,11,11,13,8,10,10,12,7,8,9,8,9,9,7,10,12,11,9,10,12,9,7,7,10,10,9,11,13,8,9,9,11,9,8,10,9,6,8,9,8,6,8,13,10,10,9,10,5,11,11,10,9,9,9,10,10,10,11,7,8,7,10,9,10,7,7,9,11,7,7,11,9,10,9,9,7,11,9,11,11,11,11,9,10,10,9,9,12,11,8,13,8,10,9,11,8,8,9,10,8,8,11,10,5,10,11,11,9,9,5,8,10,9,14,8,11,12,11,9,11,12,9,8,6,10,6,7,10,11,9,10,10,10,7,8,10,7,9,6,10,8,12,9,8,7,8,7,9,11,8,9,13,11,10,9,10,11,10,9,9,10,10,11,10,9,7,10,8,11,8,11,7,7,8,10,10,8,8,10,10,5,7,3,10,11,12,10,10,8,8,12,8,7,11,5,11,7,7,8,5,11,10,11,5,7,8,7,10,11,8,9,9,10,10,9,11,12,10,9,11,8,8,10,10,11,9,3,11,13,10,8,6,9,9,8,10,6,7,6,10,8,7,9,8,9,11,10,9,8,8,9,10,7,8,10,8,7,11,8,10,8,7,9,8,11,9,6,9,7,7,7,9,9,8,11,9,9,6,9,6,11,8,7,8,7,9,7,10,7,8,9,11,8,11,12,7,8,11,10,10,9,7,7,8,6,10,8,8,9,8,9,10,7,8,9,8,9,9,9,9,10,9,13,5,8,9,8,7,9,5,8,8,5,9,8,9,8,8,9,11,10,8,8,10,9,10,8,11,11,9,10,9,8,11,8,8,12,6,10,11,10,7,8,12,8,6,9,9,9,12,9,8,10,9,9,10,7,8,10,9,8,9,10,8,10,8,5,8,9,11,8,10,10,9,7,7,10,8,6,11,9,8,7,8,6,10,10,6,9,7,8,9,10,9,12,10,10,7,9,9,8,11,7,10,9,10,9,9,12,8,9,11,7,6,12,10,7,9,9,8,10,10,9,10,9,8,11,7,9,11,6,11,4,11,4,8,10,9,9,8,10,9,13,6,9,9,8,11,6,8,10,8,10,7,9,12,10,10,9,12,13,8,9,7,8,7,9,12,8,9,9,7,10,9,9,11,8,7,11,8,6,7,9,9,7,8,9,9,5,8,7,9,9,9,8,8,5,9,6,10,8,8,11,8,7,9,8,10,7,8,10,8,8,7,11,10,6,8,7,10,11,8,8,12,10,10,7,8,10,8,14,10,7,8,9,7,8,10,7,10,7,9,9,12,9,6,6,8,7,9,9,6,8,9,8,6,8,8,7,9,10,9,10,5,13,11,8,9,9,8,8,6,8,7,8,7,10,11,11,9,8,10,7,10,9,6,10,8,9,8,9,9,7,10,10,10,8,5,9,7,6,7,7,6,10,7,11,10,10,8,9,10,11,9,7,8,8,9,10,8,10,8,10,11,7,6,9,9,9,7,7,8,11,9,8,9,9,9,7,8,11,9,11,8,10,9,9,8,7,9,10,8,10,9,7,8,10,11,10,10,9,9,11,10,11,11,8,12,8,8,9,11,8,11,9,8,7,11,9,8,9,9,7,12,12,7,7,11,11,8,8,8,10,9,6,10,6,10,9,10,11,7,8,4,8,6,10,10,8,10,8,10,11,9,13,9,10,8,8,11,7,8,8,5,11,10,10,10,9,11,9,12,12,11,8,9,5,8,9,7,8,11,11,8,7,9,6,11,9,9,8,11,9,8,12,9,9,10,10,6,10,8,10,8,8,10,9,7,10,9,10,10,6,11,9,8,9,9,10,8,6,5,8,6,10,11,7,11,8,7,8,10,5,9,8,5,9,8,6,11,10,9,7,7,10,9,9,11,6,8,8,10,9,5,8,9,9,9,8,6,10,8,6,10,8,5,9,10,6,6,6,7,9,10,6,7,4,7,9,10,8,11,8,8,7,11,9,10,9,8,8,10,9,8,8,10,5,8,11,9,9,6,7,7,6,9,11,8,8,9,9,8,10,9,12,9,11,7,10,8,11,7,8,8,9,7,6,7,7,9,9,10,8,10,10,7,10,8,10,9,6,10,10,9,8,7,8,12,10,9,7,5,7,7,9,9,11,10,10,7,9,10,8,9,10,7,8,11,10,10,7,9,11,10,8,7,11,9,8,8,10,10,8,9,12,9,9,7,9,6,10,10,8,7,9,7,8,9,6,12,8,9,7,11,9,11,9,10,10,6,8,5,10,9,8,9,9,9,8,10,7,9,9,12,10,9,4,6,7,7,12,10,9,10,8,11,7,11,10,6,9,9,11,8,10,8,8,10,9,7,10,8,8,8,6,10,12,5,11,6,9,10,8,10,9,9,9,9,8,9,7,8,7,9,8,6,9,8,9,9,8,12,9,9,9,8,9,9,10,9,6,10,8,8,8,8,11,9,10,11,9,11,9,12,6,8,6,6,9,10,6,9,11,10,10,8,8,8,9,8,9,12,7,7,7,10,7,7,7,11,10,11,7,10,8,7,7,8,9,10,8,6,9,11,12,8,11,4,9,10,8,8,9,7,8,8,10,12,9,10,11,8,7,10,10,9,10,9,12,11,8,7,9,12,6,8,11,5,11,7,10,8,8,9,7,10,10,9,14,8,11,9,8,12,6,9,10,9,8,8,6,9,9,10,10,9,12,8,8,7,8,7,10,8,10,8,11,9,6,6,7,9,7,11,8,10,6,8,8,9,8,6,10,9,9,9,10,9,9,10,8,12,11,6,8,11,10,11,9,9,8,6,9,7,9,10,10,10,7,11,11,9,11,7,9,8,9,9,9,9,11,8,10,11,7,8,8,7,9,7,7,8,9,8,8,6,9,7,9,6,10,9,7,9,8,10,10,8,7,8,8,9,10,8,10,10,5,7,9,8,9,8,8,9,6,8,11,7,10,11,6,9,12,9,10,11,8,7,8,7,11,10,7,7,9,10,6,9,6,9,6,9,10,8,9,10,11,6,11,10,9,7,6,8,10,9,9,11,10,9,8,9,9,9,11,5,7,10,9,10,12,9,6,10,8,11,6,11,7,9,9,10,11,10,9,8,11,12,8,10,11,8,8,9,9,7,9,8,11,6,9,11,12,8,10,9,9,7,6,8,9,10,11,9,9,7,5,8,9,10,8,9,7,5,11,8,11,9,9,8,4,10,9,12,8,6,7,8,11,9,9,8,10,9,7,12,9,8,10,7,8,8,7,6,7,11,7,7,11,9,9,7,10,9,9,9,11,9,10,7,9,11,7,8,7,8,8,10,9,8,7,7,11,7,7,5,9,6,7,9,7,8,8,11,7,10,6,8,8,6,9,6,9,12,11,5,9,10,5,8,10,8,11,13,11,10,7,9,10,9,11,10,7,6,8,9,10,9,8,10,8,10,11,10,6,11,9,8,11,9,10,10,7,9,10,7,11,12,7,7,10,6,8,8,8,7,6,9,8,10,5,8,7,9,12,6,10,8,10,10,9,7,10,5,6,11,5,7,6,7,6,9,9,7,10,7,8,5,9,8,6,7,8,8,6,6,11,9,9,7,9,9,11,9,9,9,7,9,8,8,9,7,8,9,10,8,10,10,10,9,8,8,12,10,7,9,12,9,9,8,8,10,7,9,8,7,9,10,9,8,7,7,8,9,9,8,8,6,10,10,9,10,10,9,8,8,11,10,8,9,7,10,9,6,5,8,10,10,11,10,8,8,12,10,6,8,13,7,8,9,8,8,10,7,9,10,8,7,9,11,9,6,8,9,8,10,10,6,9,11,8,11,9,10,4,10,11,9,11,10,10,7,9,10,10,9,8,5,10,11,7,9,11,7,9,7,10,10,9,7,8,10,9,7,6,8,10,9,9,10,11,10,8,8,12,6,9,12,7,9,7,9,9,6,12,9,9,7,9,8,7,8,7,8,8,9,10,5,8,11,10,8,6,9,11,9,9,9,8,10,8,9,12,10,9,6,9,10,9,9,6,8,7,8,9,8,8,7,9,4,5,7,10,10,7,10,8,9,9,8,8,6,8,6,8,10,7,7,10,6,6,9,10,12,9,11,11,9,7,9,10,10,11,11,7,10,8,9,4,9,7,10,9,7,7,9,11,7,10,9,10,8,8,10,4,11,10,7,8,6,8,11,11,10,9,10,10,8,8,11,9,11,9,8,9,11,11,12,9,11,8,9,7,10,9,6,10,10,6,8,10,11,8,10,8,8,8,8,7,8,12,7,10,11,9,9,10,11,10,10,7,10,7,8,10,10,7,9,7,9,11,9,8,8,7,11,7,10,10,8,10,8,9,10,9,6,9,10,7,7,9,7,9,7,10,11,7,6,11,9,7,8,9,9,11,11,9,10,13,9,9,8,9,6,9,10,8,9,9,10,5,9,10,9,9,7,4,7,6,11,12,9,7,7,8,7,8,9,6,9,10,7,10,10,8,6,10,9,8,8,8,7,6,10,9,12,8,8,11,8,12,6,11,11,8,6,10,6,9,10,9,11,7,10,10,6,10,7,7,9,9,8,6,9,7,8,7,9,10,9,6,11,8,8,8,10,8,8,9,11,7,11,7,8,7,9,9,10,11,10,8,11,9,10,7,11,8,8,9,9,9,9,9,9,8,7,11,10,8,6,10,10,8,8,7,9,8,9,6,10,7,10,9,9,8,8,10,8,7,10,8,8,9,6,7,9,9,8,7,7,8,9,6,10,8,9,9,9,6,7,10,9,8,8,9,8,7,10,12,9,9,10,11,8,6,9,7,9,5,8,7,10,9,9,7,9,8,9,9,8,9,10,10,8,8,10,8,9,7,9,11,9,8,9,7,11,7,7,10,8,9,10,6,7,12,8,8,5,9,9,10,10,8,8,6,8,8,8,10,8,7,6,7,9,5,7,10,6,8,10,11,7,8,7,7,11,9,8,9,9,10,8,8,11,6,7,10,11,8,7,8,9,5,8,9,10,8,7,9,7,8,8,8,7,9,6,11,9,7,9,9,9,9,12,9,8,8,9,11,8,8,9,10,11,10,9,8,11,8,9,9,10,9,9,9,9,7,9,7,10,10,9,9,8,8,9,7,8,10,10,11,9,8,10,7,9,8,9,10,11,6,7,9,9,10,8,10,10,9,8,7,12,9,11,6,8,6,10,10,6,7,5,11,8,7,8,8,9,10,10,8,11,9,7,10,7,10,6,9,5,10,10,9,9,9,7,7,10,11,8,8,8,11,8,9,9,6,9,8,8,10,8,10,10,8,7,7,9,8,8,7,9,10,10,7,6,7,10,6,8,9,10,11,11,8,9,9,9,10,9,7,10,8,8,6,8,6,8,9,10,7,9,5,11,9,7,3,8,7,9,7,7,11,8,7,11,8,9,9,7,7,9,9,10,6,8,6,10,9,5,8,11,11,5,12,9,8,9,9,7,8,8,12,6,7,8,8,8,6,8,6,7,6,9,10,6,10,12,8,7,7,9,8,7,9,6,8,9,7,8,8,9,9,7,9,7,9,9,4,8,8,9,6,9,11,10,9,11,8,10,8,7,10,9,8,8,12,10,9,6,6,9,6,9,6,9,11,12,8,7,8,10,10,10,9,9,9,11,9,9,10,8,11,8,10,8,10,4,11,7,10,10,9,8,10,9,5,11,9,10,8,9,10,9,5,8,6,11,11,12,12,10,12,11,9,10,6,12,9,8,8,10,9,10,11,9,9,11,9,9,9,9,10,7,10,9,11,11,11,6,9,6,11,11,10,7,9,8,10,7,8,10,9,10,10,8,8,9,6,9,9,9,9,11,13,10,10,8,8,8,7,9,9,10,8,10,9,8,11,6,8,8,9,7,11,12,11,8,7,7,11,9,5,6,8,11,5,8,11,8,10,10,10,10,11,9,10,9,10,5,8,10,8,9,8,10,13,8,10,10,7,7,6,6,8,8,9,9,8,10,5,12,8,6,9,8,6,9,12,11,7,8,9,8,10,9,7,7,9,12,8,7,12,7,8,5,9,13,10,9,10,10,7,7,6,10,9,9,8,10,11,9,10,10,6,9,11,11,11,7,10,11,6,10,11,11,6,8,7,10,8,6,12,9,9,10,9,9,8,7,7,7,10,7,5,8,7,7,8,8,9,11,9,6,9,9,6,9,6,9,9,9,5,7,7,13,8,8,9,7,9,9,12,6,9,10,6,10,6,8,9,7,10,10,8,7,8,11,10,9,10,11,9,7,9,9,6,7,8,9,9,6,10,7,8,6,8,8,10,10,8,8,9,6,8,8,14,9,7,8,8,9,9,11,6,6,9,9,9,9,12,6,9,8,9,6,11,12,10,9,10,9,8,9,9,10,9,9,7,8,6,9,7,8,6,8,9,9,11,8,10,11,12,9,7,8,8,8,9,9,8,11,7,6,7,7,8,9,8,8,7,6,8,11,9,6,11,11,7,10,8,9,9,9,7,11,9,7,11,7,9,8,6,6,9,10,8,11,9,8,8,9,8,9,7,10,11,6,10,8,7,9,10,7,8,7,8,9,11,6,11,8,10,7,9,5,5,10,7,9,10,7,10,7,9,7,7,10,5,8,10,7,10,10,9,10,9,5,9,11,8,7,8,9,6,9,9,7,10,7,8,9,10,9,5,9,11,10,12,10,7,11,7,7,4,6,9,9,8,6,6,7,7,5,9,10,11,8,11,10,9,10,10,7,9,11,9,8,7,7,8,9,6,8,9,7,8,10,9,7,7,9,10,10,10,11,6,9,9,9,8,7,8,7,6,7,7,7,8,8,6,9,7,8,8,11,9,9,9,8,10,8,10,8,8,10,11,8,12,8,8,10,7,6,10,9,7,9,9,7,7,11,8,8,11,6,7,7,7,13,10,8,9,10,8,10,6,8,8,9,11,8,7,9,9,10,6,9,7,11,9,10,8,5,9,11,8,10,11,6,7,8,9,11,10,11,9,5,7,9,6,9,9,9,7,6,9,8,7,7,6,10,6,6,8,11,10,9,9,9,8,9,10,8,5,10,11,9,8,9,10,8,8,5,10,8,7,7,10,9,8,8,4,8,9,9,8,9,8,9,8,10,7,10,8,10,11,6,7,6,10,9,7,8,8,9,6,8,7,10,10,9,7,6,9,4,8,11,11,7,10,9,7,7,10,7,8,7,9,9,10,8,7,5,6,8,8,11,9,9,11,7,9,10,11,9,6,8,10,9,5,9,8,10,6,9,10,9,8,6,10,8,10,10,10,10,7,6,10,7,9,12,9,8,11,12,7,8,10,5,10,9,8,9,8,6,8,6,7,7,11,9,6,10,6,9,8,8,11,7,7,10,7,8,6,10,11,8,11,9,7,12,8,7,11,7,10,8,8,6,9,8,10,9,10,10,11,13,9,11,10,10,9,6,8,10,9,7,10,11,11,6,7,9,8,7,11,8,9,10,10,5,8,8,7,7,11,8,7,10,10,7,7,8,10,8,7,10,8,10,4,9,8,9,8,10,7,10,11,8,9,9,8,8,9,10,9,9,8,10,7,9,5,11,8,13,11,9,9,10,8,10,9,8,12,9,5,6,10,11,10,10,7,8,11,9,11,7,6,5,7,10,7,9,8,7,9,9,5,9,7,11,8,10,5,10,10,7,8,10,8,11,10,8,8,6,11,9,10,9,10,9,7,11,2,10,10,9,10,9,8,9,9,9,13,7,10,7,6,8,9,8,9,8,11,7,7,11,8,7,7,8,7,10,8,9,9,10,7,8,11,8,10,10,8,11,11,5,6,11,10,10,7,7,8,9,7,9,13,10,10,8,9,9,11,11,7,8,10,7,7,6,9,8,8,9,6,7,7,6,9,10,8,10,8,10,8,8,6,5,7,8,9,7,9,9,9,9,11,10,11,9,9,8,8,9,7,8,6,9,11,9,8,10,9,9,10,10,10,8,12,12,6,11,6,5,8,11,5,10,12,9,10,9,10,8,8,6,9,10,10,7,8,7,8,10,10,8,8,12,10,8,9,10,8,10,10,9,11,6,11,11,10,9,8,9,7,7,8,11,9,8,10,11,8,11,7,11,8,9,9,8,9,8,8,8,8,9,9,9,6,8,8,9,9,8,8,9,11,11,9,8,8,8,9,11,8,9,9,9,6,10,7,10,9,11,9,5,9,7,11,8,9,9,8,9,8,12,7,12,9,9,9,10,9,10,6,6,6,11,10,8,7,8,10,10,10,8,9,10,10,9,10,10,5,9,10,7,8,9,8,9,9,9,9,6,9,12,10,9,9,11,10,10,6,8,9,8,8,9,8,10,12,11,10,9,8,7,6,8,12,9,11,8,8,11,8,9,12,8,8,9,11,9,8,5,7,10,9,9,9,8,8,8,10,5,4,11,11,8,11,10,10,11,5,7,9,9,4,10,9,8,8,9,10,5,7,8,8,9,9,4,8,9,7,9,12,6,9,12,10,7,9,12,6,11,7,11,10,11,9,6,5,7,6,7,8,9,7,12,8,6,10,8,10,8,8,9,9,8,11,11,8,9,9,8,11,5,11,9,7,6,8,5,12,9,8,10,11,8,11,7,10,9,13,9,11,8,9,10,8,8,5,10,8,8,11,10,7,10,7,5,11,9,7,10,7,8,9,9,7,8,7,12,11,7,8,7,9,9,7,11,11,14,10,9,7,6,11,10,10,8,10,10,7,7,10,7,8,9,10,8,7,11,8,10,11,8,6,7,5,8,10,7,7,11,6,8,9,9,8,6,7,10,7,7,9,8,8,10,8,7,10,9,9,12,9,8,9,6,6,7,8,8,8,9,10,10,12,7,8,7,11,9,9,10,9,6,7,7,6,8,6,11,8,9,8,10,9,7,6,6,9,11,8,9,9,6,8,9,9,7,9,10,9,9,11,11,6,6,7,7,8,13,5,12,8,8,6,10,10,10,9,9,9,9,11,8,9,12,12,8,10,9,7,10,8,10,7,8,10,9,10,6,10,7,7,3,5,7,7,10,8,8,10,10,7,8,8,9,9,7,10,4,9,7,9,11,12,7,9,7,10,10,8,11,8,7,10,10,9,7,9,8,9,6,10,7,11,10,9,8,5,9,8,9,10,8,11,9,11,11,5,7,7,11,9,8,9,10,9,9,8,10,9,12,6,11,9,8,8,9,10,13,9,7,7,10,7,12,7,10,9,8,7,6,8,10,10,10,6,10,9,10,8,10,9,9,10,11,8,9,7,8,7,9,9,7,9,9,8,8,13,11,10,9,8,8,9,8,10,12,9,9,5,8,11,5,10,7,12,8,8,10,7,9,9,11,10,7,8,10,11,13,8,11,9,8,11,9,8,6,12,10,8,7,6,11,9,8,8,9,9,7,7,13,8,9,7,12,12,8,8,6,8,8,3,6,7,8,8,10,9,9,8,6,10,7,9,13,7,7,8,8,7,11,6,10,12,8,8,10,10,10,8,6,8,7,8,9,8,9,8,10,9,8,7,9,7,9,10,10,9,8,12,9,11,10,10,8,9,8,5,7,9,9,10,6,8,9,10,8,7,11,8,10,10,8,9,8,10,9,8,9,7,8,10,9,7,9,7,8,4,11,7,6,6,9,10,10,8,7,10,9,9,9,9,7,10,7,10,7,9,10,9,9,11,8,10,8,8,13,9,10,11,9,6,9,10,6,11,8,11,9,6,7,12,10,7,6,8,9,8,9,9,6,8,11,8,11,8,10,5,9,9,8,10,8,9,8,7,6,11,8,8,8,8,10,11,10,8,9,8,8,8,9,10,8,10,10,9,6,9,10,9,8,9,12,10,9,11,9,8,9,12,7,9,8,7,11,9,8,8,11,9,9,9,9,9,8,8,8,10,10,8,7,10,9,9,8,8,8,8,7,8,9,5,10,8,11,10,6,7,9,8,11,7,8,11,6,11,10,7,6,6,8,8,10,7,6,5,8,10,9,9,10,10,9,7,7,9,8,9,8,10,9,6,12,7,7,7,11,10,8,7,8,9,7,8,7,9,11,10,9,8,9,11,7,10,9,7,9,8,10,7,7,10,10,8,8,8,9,9,7,7,8,10,8,8,10,7,11,11,7,9,10,10,11,7,10,8,9,6,10,11,10,7,9,8,9,8,7,9,5,7,7,8,10,9,8,7,8,7,9,7,9,9,8,8,8,12,13,9,9,5,9,9,7,11,8,9,7,8,9,10,10,10,8,11,9,8,7,7,12,10,8,9,7,6,8,7,9,10,9,9,12,5,9,8,10,6,8,8,8,7,11,9,9,9,9,11,9,9,7,11,8,12,7,9,9,8,10,12,8,8,11,10,8,9,9,7,9,9,8,7,5,9,12,8,10,8,10,9,10,10,9,8,8,7,10,8,8,7,8,6,9,9,11,11,11,9,9,9,8,6,10,8,12,6,10,10,4,12,8,6,8,8,9,12,7,9,11,5,12,8,9,7,8,11,10,8,8,7,9,10,10,10,10,7,7,8,8,9,9,8,10,7,12,7,8,8,9,6,10,10,9,10,8,6,7,6,8,8,10,6,10,9,8,10,7,8,7,12,8,7,9,8,5,10,8,8,12,8,11,9,9,8,12,11,8,9,7,7,10,10,8,9,12,10,10,7,10,8,11,12,8,9,8,10,10,7,10,9,8,10,7,10,9,10,10,10,7,10,10,10,7,11,9,9,7,8,11,10,7,8,8,9,6,8,9,9,9,6,10,10,10,7,8,9,8,9,7,8,7,8,10,10,8,9,5,9,9,8,10,9,10,11,9,8,12,8,7,11,8,8,8,11,11,10,9,6,10,9,11,9,8,7,7,10,10,10,7,11,10,6,10,8,7,7,9,9,11,4,11,7,7,10,10,11,8,8,8,8,8,8,10,8,12,8,12,9,10,11,10,9,8,6,6,10,12,9,9,6,10,8,10,8,8,6,9,7,11,10,12,8,7,10,7,9,10,8,10,6,5,6,10,8,12,10,9,11,8,9,9,9,8,7,7,10,7,7,9,9,8,6,9,13,9,10,10,11,11,9,12,8,9,9,11,10,9,10,9,10,8,8,10,9,9,8,9,10,8,6,10,8,11,7,8,9,8,8,9,9,6,4,9,9,10,5,8,9,6,10,9,7,7,10,10,9,9,9,5,10,7,8,12,7,9,9,11,8,11,10,9,8,11,9,9,6,9,9,10,7,11,5,8,7,7,8,13,7,9,7,7,9,9,6,12,9,10,8,10,10,7,6,7,9,9,6,10,10,11,8,11,12,10,8,8,9,9,11,8,9,9,8,7,10,7,8,8,9,12,12,5,9,9,8,10,8,8,8,5,7,11,9,8,11,10,8,8,9,12,11,11,10,7,7,7,8,6,11,5,8,8,9,10,11,9,8,12,11,9,11,8,9,8,7,12,8,10,9,8,7,10,11,9,10,12,9,7,10,11,9,7,8,11,7,10,7,8,5,8,10,10,9,8,10,8,9,8,8,9,9,6,10,8,13,5,10,11,9,8,11,11,9,11,9,7,11,8,8,11,7,10,9,10,9,10,10,8,7,4,14,10,9,9,11,10,11,12,9,11,6,9,8,9,9,11,9,9,9,6,9,5,9,10,9,11,8,11,8,10,9,9,9,11,9,9,7,8,8,8,10,11,9,9,7,4,11,9,11,11,11,9,7,9,9,8,7,9,6,9,7,5,9,11,8,8,11,8,7,6,9,8,9,10,8,10,10,9,6,10,11,8,10,9,8,10,11,10,7,7,8,9,7,10,11,8,9,10,11,12,10,11,10,11,8,10,8,13,9,9,10,7,9,8,9,5,11,11,10,12,10,10,10,7,8,10,5,10,8,9,10,7,9,9,11,13,7,9,12,7,10,10,8,9,11,9,8,9,13,11,9,9,10,7,9,9,7,8,10,6,8,7,6,7,9,8,11,12,11,12,9,8,10,9,9,9,9,8,8,6,10,9,10,10,7,10,11,9,9,11,7,10,7,9,7,8,12,11,8,7,10,11,9,7,12,6,11,10,11,9,11,10,7,10,6,11,8,9,6,9,8,8,8,8,11,10,12,9,9,9,8,11,9,7,11,11,9,13,8,9,4,8,9,10,12,8,8,6,8,11,11,9,9,11,7,10,11,12,10,11,10,8,11,8,9,5,14,8,12,9,9,10,7,10,7,7,8,5,7,7,8,11,10,7,7,8,11,8,9,11,8,10,7,10,6,7,9,8,10,9,10,8,8,12,6,7,6,9,11,12,8,7,12,7,6,7,7,8,8,11,8,8,8,9,6,10,8,9,9,12,9,10,8,11,7,12,10,10,11,6,6,11,10,13,8,11,9,6,8,8,12,8,8,9,8,9,10,10,6,7,7,11,10,8,11,8,6,7,10,7,9,10,6,12,9,9,11,8,9,6,10,12,10,9,10,10,12,11,11,5,10,10,9,9,9,9,13,8,10,11,6,9,11,11,8,12,8,10,10,10,12,10,9,10,6,11,9,9,9,7,11,9,9,7,6,11,11,12,4,11,7,9,7,9,8,10,8,7,9,8,9,10,7,10,8,11,5,9,10,8,7,9,5,10,11,12,9,11,8,8,10,10,9,10,9,9,10,8,7,9,9,9,10,14,7,10,13,8,8,9,9,10,8,10,12,10,8,8,6,10,11,9,10,6,8,11,9,8,7,10,8,10,7,6,9,8,8,11,10,9,9,11,9,10,11,7,11,10,8,7,9,9,9,10,10,8,9,9,9,10,9,10,8,11,12,12,7,10,8,13,9,8,9,11,8,12,10,10,11,11,8,11,10,9,9,8,9,9,8,9,9,11,6,8,7,12,8,5,8,12,11,10,10,8,8,9,11,8,7,11,10,10,10,6,8,9,7,8,10,9,10,12,8,10,5,12,11,8,8,8,10,9,8,13,7,8,11,9,10,10,10,13,5,5,7,10,9,10,7,7,5,9,9,11,9,9,9,10,12,10,7,11,8,7,10,12,9,10,10,11,9,10,7,11,9,10,7,10,9,12,10,12,8,7,10,10,10,11,10,10,12,10,8,6,8,5,11,6,10,10,7,8,12,9,12,8,9,6,9,9,12,10,10,12,10,10,8,13,11,11,9,11,7,10,9,7,11,9,7,9,5,8,9,11,7,8,11,6,11,7,11,5,11,10,7,8,8,10,6,10,10,9,8,10,5,10,9,9,9,11,13,6,6,9,9,9,8,8,7,11,8,11,11,13,10,8,7,12,9,8,10,9,11,9,11,10,6,7,7,12,8,9,10,11,6,5,9,11,8,11,8,12,12,10,12,10,12,12,8,10,9,11,9,8,10,10,8,10,9,10,11,9,6,12,10,10,9,9,10,8,9,4,8,10,7,10,10,11,5,12,7,10,10,7,13,11,10,9,8,10,11,11,7,11,13,11,7,10,5,11,9,8,10,7,8,8,9,7,11,6,10,10,9,9,10,9,8,6,9,8,9,11,6,4,9,6,10,11,9,5,7,11,10,9,7,9,7,7,8,11,11,9,9,7,10,11,9,8,11,8,9,8,10,9,6,10,13,7,8,9,9,11,11,8,12,13,6,9,9,8,11,8,10,10,9,10,5,10,12,9,10,7,12,7,8,8,10,17,12,9,9,11,12,10,13,6,17,9,8,15,16,8,10,8,7,11,12,9,13,13,17,9,10,9,7,13,14,8,11,10,10,16,16,12,8,15,14,18,7,8,10,9,8,8,7,12,6,9,14,11,13,12,8,12,16,4,12,10,14,16,9,14,13,14,14,21,12,8,12,12,8,11,9,17,7,13,17,11,8,11,15,10,13,11,8,11,17,17,10,15,12,15,13,10,10,12,10,9,9,10,10,11,11,11,13,8,12,12,10,9,10,14,7,20,15,12,7,16,7,8,15,15,16,14,17,9,9,7,19,12,16,15,12,12,7,8,20,11,12,9,10,6,16,12,10,11,8,12,15,15,14,13,17,16,10,9,13,9,11,12,16,8,13,13,14,7,14,11,13,13,12,16,14,15,9,13,9,14,17,25,12,14,12,13,17,11,12,10,15,9,7,10,6,19,11,12,14,6,10,10,15,6,14,12,8,6,11,9,13,12,8,12,13,9,17,10,12,8,5,9,6,8,9,6,10,14,7,8,11,16,10,10,12,11,10,10,13,15,18,11,13,18,9,11,13,11,12,14,9,12,8,8,9,15,5,10,8,10,10,9,7,11,17,10,16,11,9,6,11,6,9,12,14,10,11,13,11,9,10,7,17,13,8,17,21,13,13,10,9,14,12,18,14,13,16,8,7,12,14,11,12,15,17,14,6,10,19,12,11,11,16,7,9,14,19,7,11,9,16,9,17,8,18,15,8,10,17,11,10,12,18,9,12,11,8,15,12,20,11,13,8,6,9,10,13,17,12,6,10,12,12,15,13,8,11,14,7,15,10,13,10,14,11,10,10,12,14,10,12,17,12,15,12,13,10,14,12,9,9,9,8,18,14,10,13,10,13,10,18,12,13,8,19,10,9,10,11,12,11,11,13,11,10,12,21,17,15,11,9,8,13,11,11,14,12,10,11,10,8,13,13,10,14,17,3,8,15,9,17,8,10,17,14,10,11,8,15,12,19,17,10,19,10,9,14,15,10,12,11,9,9,18,18,11,13,13,15,10,7,12,10,10,13,14,5,10,10,13,10,13,12,14,11,9,16,15,10,10,9,10,18,9,10,8,9,13,18,10,15,9,10,17,19,11,18,7,9,8,14,9,6,11,9,12,8,10,18,22,13,9,7,9,17,8,12,13,13,13,11,9,11,7,17,8,11,11,13,16,14,9,9,9,16,10,9,11,10,6,11,11,9,8,8,11,15,9,7,15,5,10,9,9,13,10,9,9,9,18,8,10,11,9,5,17,16,11,14,11,14,9,7,9,11,8,7,11,7,15,11,11,10,11,8,8,16,12,15,9,15,7,17,8,17,13,12,10,16,9,9,14,13,13,9,11,10,10,14,9,12,13,4,14,14,18,9,20,15,11,10,15,5,10,9,6,9,11,16,13,10,15,14,8,10,12,5,10,19,12,9,9,9,14,6,9,11,11,11,15,11,12,13,9,6,11,11,11,10,16,9,16,10,12,8,6,12,16,20,15,12,16,8,13,10,12,12,8,10,10,9,18,9,10,17,12,14,9,8,11,21,10,8,19,16,13,12,10,13,20,14,15,15,15,15,9,13,11,10,11,13,10,12,16,18,12,14,15,7,19,14,16,11,14,12,12,15,8,10,13,15,15,14,8,9,7,16,12,15,8,14,18,14,16,11,18,13,10,13,13,10,13,6,11,12,10,13,14,10,14,15,17,9,8,9,10,13,18,9,12,9,8,10,15,8,8,18,13,15,8,15,13,13,8,8,10,15,7,8,16,12,10,6,10,6,10,14,6,8,12,10,7,9,7,8,7,8,11,10,14,15,13,13,7,15,10,14,16,12,14,7,12,9,9,8,17,13,15,12,12,9,10,13,14,9,19,16,10,8,12,7,15,12,10,15,16,13,17,15,24,10,14,14,10,14,9,9,12,10,12,11,22,12,9,16,8,14,17,12,10,10,8,13,12,12,10,6,7,9,10,12,13,17,12,11,10,15,13,13,13,10,9,18,9,11,9,4,11,6,9,7,11,13,8,17,6,14,10,8,11,11,15,9,9,19,7,9,13,10,18,10,15,11,8,10,12,12,5,11,13,9,7,12,16,9,11,8,11,14,11,7,13,10,9,12,11,9,8,10,11,13,9,9,8,7,11,19,11,17,14,14,11,7,12,13,18,6,21,9,13,17,15,19,10,10,15,16,8,15,14,9,10,10,12,8,13,11,6,3,11,12,18,7,8,11,14,15,14,7,12,10,16,8,7,9,9,10,11,19,7,15,9,11,13,11,24,14,9,11,12,11,9,15,12,8,11,12,19,7,4,14,10,8,13,18,9,8,10,13,14,12,12,11,15,10,10,8,13,15,15,14,21,13,6,10,9,9,17,11,10,18,19,6,10,8,11,8,18,10,10,7,10,11,18,14,10,8,15,18,6,8,12,9,12,11,13,11,15,9,9,9,8,12,12,8,9,8,13,14,13,18,8,19,8,12,11,7,10,15,10,14,8,13,13,14,10,6,11,10,11,10,18,16,15,13,9,14,7,6,19,10,9,15,16,11,11,13,12,12,12,13,11,8,15,12,9,9,9,9,7,12,9,12,13,14,8,16,12,10,7,9,11,16,10,16,13,9,12,13,9,15,10,13,11,9,14,14,7,21,11,8,11,9,8,12,14,9,17,17,9,14,16,10,11,21,9,22,13,7,13,6,8,15,11,7,7,12,7,12,10,8,8,10,11,7,10,9,13,13,12,10,13,8,12,23,12,22,16,12,11,11,6,8,7,12,15,16,9,12,14,9,13,8,9,16,11,10,11,16,10,12,9,16,12,15,8,11,7,13,11,14,19,9,17,11,8,16,10,10,7,9,12,10,7,14,14,10,14,9,9,6,14,14,8,21,12,15,8,8,14,8,11,11,14,13,7,13,8,10,20,12,9,8,12,6,18,12,14,14,8,12,10,9,8,10,17,10,5,14,12,8,20,11,12,6,13,13,12,22,8,7,13,12,17,11,8,17,16,11,13,8,9,15,11,12,15,9,13,17,13,9,8,12,10,8,10,13,14,20,23,10,11,19,13,9,8,13,17,19,13,8,14,14,12,12,11,12,13,15,22,16,12,17,17,13,10,9,8,7,11,14,9,5,15,19,12,11,17,7,11,11,11,12,15,11,10,12,16,8,10,11,15,11,14,18,9,9,10,13,10,10,6,16,14,13,10,9,12,12,14,12,8,14,11,11,9,12,15,9,7,14,18,10,11,13,17,11,10,11,10,11,12,14,8,11,11,9,11,15,10,14,10,11,21,7,11,9,9,9,17,10,12,9,16,17,15,18,10,18,13,7,16,9,18,14,10,12,12,12,9,13,8,9,13,14,8,15,13,9,13,9,12,7,12,11,10,11,11,9,12,14,10,9,11,11,14,12,16,9,10,20,15,10,12,12,10,8,12,15,9,12,12,13,13,11,11,18,8,19,10,10,15,10,16,22,14,14,11,10,14,14,18,19,13,16,12,12,14,11,13,9,8,17,8,8,9,8,10,14,9,12,16,15,12,7,18,20,11,6,7,12,10,8,14,8,18,11,11,9,10,17,16,13,13,11,14,12,9,9,10,14,11,11,13,8,6,11,14,13,9,6,9,13,9,12,15,8,7,9,11,11,6,10,10,12,10,14,10,12,14,10,14,8,6,17,17,14,15,8,8,10,10,11,10,10,14,10,8,17,18,12,13,10,15,20,10,10,7,10,8,7,10,11,16,14,7,11,9,9,10,6,13,7,13,9,13,9,10,10,15,11,12,10,9,13,15,8,8,16,18,11,15,9,8,10,8,9,10,9,12,12,19,15,10,11,8,12,8,19,13,11,13,12,8,9,7,7,8,10,8,13,10,15,10,8,8,6,8,10,10,13,10,9,11,17,15,11,8,10,10,10,11,8,8,11,11,8,15,6,11,10,7,13,11,12,9,16,17,12,11,14,10,13,15,6,11,11,11,14,6,13,10,12,10,15,10,13,9,9,8,9,14,9,8,9,15,15,10,10,12,13,20,13,10,11,13,9,9,9,11,11,11,7,10,10,9,9,9,12,9,8,12,7,11,19,9,10,13,11,7,15,14,10,10,11,12,19,11,12,13,12,9,10,9,9,10,7,12,8,10,12,11,7,13,9,10,13,17,10,9,9,11,17,9,10,13,7,11,13,15,16,8,5,11,7,11,11,10,15,8,11,12,10,8,10,8,10,8,10,6,8,10,6,9,14,11,9,9,10,8,9,8,11,9,13,18,9,10,10,14,11,12,11,8,9,12,8,11,15,7,12,17,12,9,9,9,12,15,11,14,12,8,15,14,14,7,8,7,13,14,8,19,11,9,12,9,8,11,9,11,10,9,11,14,11,15,12,18,9,12,16,9,8,9,9,8,12,10,14,11,13,12,17,15,15,18,9,11,11,12,13,11,9,9,10,13,12,9,17,14,12,13,11,11,13,12,12,11,8,9,5,14,13,10,13,9,14,10,7,15,12,11,10,9,6,14,14,12,9,12,11,14,8,13,8,10,11,15,13,11,15,13,12,11,9,11,12,10,7,12,11,15,11,14,9,15,10,14,14,9,7,17,11,18,10,15,14,13,8,11,13,12,13,12,10,12,10,9,10,7,13,9,15,7,14,20,20,14,11,17,9,15,11,18,12,13,15,11,13,12,7,11,16,15,7,9,15,12,11,11,11,10,10,12,13,14,15,19,24,10,14,13,12,9,10,8,12,12,11,14,10,14,10,19,14,13,14,13,10,9,14,8,12,10,15,11,11,12,12,10,12,13,9,7,19,10,10,11,13,10,16,18,15,13,11,8,10,12,11,13,9,10,14,10,14,14,8,19,12,11,9,12,12,12,14,10,8,14,14,14,9,9,15,12,12,8,9,10,10,7,10,12,11,4,9,9,10,11,11,9,8,15,14,10,12,8,15,14,16,14,15,12,12,10,11,10,16,12,7,19,16,9,14,9,10,12,18,7,16,7,10,13,13,15,6,9,19,8,14,16,10,10,8,9,9,13,10,11,13,11,12,8,9,10,11,15,12,11,5,9,9,10,8,11,8,10,13,9,12,8,10,9,15,11,13,10,16,9,11,13,5,14,8,15,9,6,16,11,14,18,8,16,13,11,13,9,6,7,10,15,11,11,10,9,14,10,21,15,11,10,13,12,12,13,11,8,12,14,14,11,12,11,12,7,11,16,14,7,12,9,15,15,10,11,16,8,12,8,14,13,11,9,11,14,11,12,15,9,10,11,13,12,15,10,13,8,16,14,9,12,14,17,13,7,12,11,10,9,12,12,7,5,6,10,11,10,15,11,14,16,8,14,16,12,14,8,14,11,11,11,13,11,10,14,14,10,9,11,14,11,8,14,14,9,8,15,10,11,11,7,14,16,17,15,18,12,11,18,11,13,10,14,8,9,11,13,11,14,12,11,9,9,13,11,10,17,15,11,9,14,13,14,9,14,20,10,13,9,5,12,10,13,15,14,12,9,13,14,15,7,10,11,16,11,10,18,14,17,16,14,14,9,15,14,6,12,10,17,8,11,7,18,11,18,9,6,20,10,10,11,8,13,6,13,16,9,11,17,11,12,11,11,11,10,12,9,17,12,16,11,6,16,9,13,13,6,16,10,15,12,18,12,18,8,11,13,9,10,14,9,9,10,13,8,19,9,21,8,15,14,7,10,11,12,10,7,9,13,17,13,11,16,12,17,13,9,11,15,11,13,8,9,10,20,13,12,12,13,13,17,11,16,13,19,14,5,7,9,9,8,10,20,10,11,11,7,11,12,9,10,15,13,8,12,10,6,12,15,10,10,13,20,17,14,13,9,16,7,9,11,6,9,17,10,9,10,10,12,12,18,13,12,14,10,16,8,21,21,11,18,10,5,11,8,9,10,14,19,17,11,12,15,12,11,14,8,15,15,8,18,11,15,11,13,12,16,17,13,14,11,10,12,16,10,15,16,15,20,9,11,10,14,13,11,9,15,13,12,17,9,11,15,11,12,7,9,13,10,17,11,13,9,9,12,23,9,17,9,13,13,10,19,9,17,7,13,9,12,21,11,17,10,10,8,12,13,10,11,10,11,7,13,11,17,7,15,12,11,9,10,13,13,13,13,13,18,19,14,5,14,10,11,13,9,6,13,16,11,13,14,12,15,12,11,7,8,14,11,10,11,11,17,14,12,9,10,11,14,18,9,9,10,9,12,17,12,14,11,9,11,11,11,14,14,14,13,22,7,10,17,9,14,9,14,9,7,15,14,10,13,12,10,7,9,11,18,10,9,11,8,3,9,9,10,14,13,11,10,11,10,13,15,13,13,16,16,6,8,8,11,14,5,15,9,12,10,13,10,14,18,7,12,11,16,9,12,10,16,15,14,13,7,9,9,12,22,5,9,12,13,11,14,9,15,10,9,12,9,12,10,15,12,15,9,17,15,8,17,20,10,11,9,17,4,11,10,11,11,9,17,9,13,15,9,11,14,8,10,11,10,14,10,12,9,12,12,14,15,10,19,12,10,14,9,13,12,13,10,6,8,17,15,11,15,16,13,8,13,13,11,14,7,11,10,8,13,8,17,10,12,19,13,16,10,7,9,12,11,10,12,7,11,9,12,14,8,13,13,12,10,11,14,13,9,14,10,13,12,10,5,14,8,7,8,13,12,12,8,13,6,5,6,5,7,10,10,14,6,12,7,19,13,9,7,4,9,8,11,15,17,12,8,14,13,14,9,8,16,12,8,10,5,6,11,8,14,11,9,10,23,9,14,3,12,10,8,10,13,8,10,12,9,8,11,13,11,10,8,10,13,8,8,15,5,13,17,11,14,8,15,10,6,14,8,12,8,8,5,15,8,13,8,10,12,8,9,19,9,13,17,8,9,9,13,11,8,10,15,9,13,9,12,16,10,20,6,12,9,14,8,10,18,9,8,7,10,11,9,15,8,11,16,10,18,10,9,8,10,11,8,9,6,7,10,16,7,10,15,10,7,8,8,9,15,20,15,12,18,10,11,9,11,15,16,17,15,9,10,16,9,18,21,13,18,10,10,11,9,10,12,9,7,12,9,13,11,12,11,7,10,13,14,13,11,10,5,10,11,14,7,13,13,16,12,7,14,10,7,14,10,9,11,12,7,15,9,18,8,4,15,11,10,12,10,11,16,11,10,12,10,9,10,4,8,10,12,11,9,12,9,15,12,13,10,11,9,14,11,9,10,10,9,13,17,10,10,8,12,13,9,17,9,11,17,12,14,13,7,6,11,9,11,10,9,8,10,15,8,9,13,7,9,7,11,11,7,18,7,11,14,17,10,8,7,9,9,12,12,8,7,10,16,14,17,14,10,11,10,8,6,13,10,13,9,12,9,10,13,9,8,11,13,11,8,8,8,11,10,15,18,9,13,13,12,12,11,10,6,9,13,15,14,7,4,11,13,13,12,19,8,12,11,11,11,10,11,7,14,13,12,8,10,9,11,14,7,15,9,9,6,8,7,6,11,10,11,11,11,9,9,11,10,15,7,16,9,11,11,12,7,12,9,8,11,13,18,10,13,5,6,9,15,8,6,15,8,7,14,14,9,9,16,10,5,6,8,8,9,9,16,8,13,8,10,8,15,8,8,16,10,14,13,6,8,6,8,9,11,10,11,11,9,11,6,12,9,12,10,10,6,8,10,9,9,11,6,15,3,14,8,8,9,10,9,10,8,9,17,14,9,12,13,12,8,9,12,10,12,13,12,10,6,10,14,16,8,7,17,6,16,9,9,11,9,7,12,9,12,8,10,15,11,13,11,4,10,7,10,15,7,13,9,12,10,8,13,13,10,9,11,10,8,12,9,8,9,7,8,13,11,13,14,11,10,11,8,9,18,19,10,14,10,8,8,12,7,6,18,9,12,12,8,11,14,12,6,11,14,10,9,7,10,6,9,12,7,9,8,9,13,8,7,12,7,7,20,13,9,14,8,12,11,6,10,8,7,11,13,9,13,8,7,10,12,15,11,13,7,14,9,10,10,14,10,12,7,15,7,15,16,8,8,9,11,12,11,12,7,16,9,6,11,15,11,12,10,13,11,14,9,15,13,15,9,7,8,13,8,14,9,10,6,6,9,7,7,9,8,8,11,7,13,7,12,10,4,10,11,16,14,8,9,16,12,10,10,12,14,16,11,12,9,6,10,10,7,8,10,12,7,14,10,10,8,11,14,12,8,9,12,6,10,8,7,10,24,16,14,16,10,8,11,10,5,6,9,10,9,5,11,14,8,18,15,6,5,10,11,8,10,15,10,12,11,10,16,9,10,6,13,9,12,11,13,8,11,8,13,14,21,11,10,9,6,8,12,11,9,17,15,12,17,11,9,8,17,11,13,11,15,11,7,12,11,9,10,11,5,8,9,7,8,12,9,6,12,10,6,7,6,6,11,7,17,6,7,7,15,11,13,10,11,8,9,7,7,15,12,7,11,12,9,12,7,14,9,15,8,16,8,16,10,13,10,5,20,10,7,8,9,9,8,10,11,5,8,13,10,11,16,7,15,7,13,12,12,10,15,11,10,8,5,12,11,10,12,8,11,8,8,14,15,10,10,11,17,14,8,12,11,10,12,5,9,12,12,12,9,8,12,10,9,7,7,10,11,11,11,11,9,13,11,20,13,13,8,10,9,12,7,10,9,12,9,14,7,13,9,7,17,13,12,12,15,13,15,11,11,10,6,8,13,9,9,8,11,13,6,5,16,7,16,9,9,12,8,9,6,16,11,7,15,13,14,7,12,12,12,9,7,9,9,7,8,12,9,13,6,11,7,14,11,4,9,11,9,7,11,7,13,11,10,14,7,8,14,7,11,10,17,10,8,8,14,11,6,5,7,6,12,10,11,11,11,7,8,8,14,16,8,7,7,9,7,8,6,10,12,9,9,10,13,7,10,11,10,13,7,6,9,7,12,11,5,4,11,8,9,10,15,14,16,12,12,14,9,13,13,11,7,11,10,12,7,8,9,13,10,12,16,14,7,11,17,10,6,10,13,18,12,8,11,8,9,10,15,11,5,16,14,11,15,8,12,12,10,12,9,8,14,23,9,9,13,9,12,12,10,22,13,8,6,11,13,12,8,9,15,9,11,16,10,7,14,8,17,13,11,14,15,11,8,22,12,9,10,13,9,10,17,11,10,13,10,17,8,12,11,12,13,15,20,10,11,7,13,10,9,12,13,7,11,8,8,18,9,11,13,16,12,6,18,12,9,8,6,15,17,10,11,13,11,8,11,8,14,9,14,10,9,11,6,11,8,9,9,5,12,11,8,16,9,16,10,13,15,9,9,13,11,7,10,11,9,9,9,16,7,10,14,8,13,13,11,13,10,6,6,9,8,6,10,11,15,8,13,13,10,15,10,6,10,13,12,9,9,10,12,9,8,11,16,11,13,18,14,12,10,14,9,13,12,15,10,14,11,12,19,7,9,6,17,11,16,10,7,6,10,11,11,10,12,8,8,11,10,8,13,19,17,12,12,10,9,8,17,10,12,6,12,10,9,17,13,12,9,8,8,9,12,16,8,8,10,8,10,8,9,8,12,7,11,8,9,9,10,11,8,13,7,10,13,6,9,13,10,7,8,12,7,9,9,6,13,11,10,12,9,7,13,12,6,13,10,10,10,10,13,9,11,15,14,7,10,9,11,9,14,11,8,11,13,10,11,8,13,7,9,14,17,12,11,10,8,13,13,14,17,17,14,8,6,17,6,10,10,8,8,13,9,16,11,15,16,7,13,7,7,15,8,8,7,5,5,9,11,6,11,11,11,11,10,5,7,7,16,11,12,9,11,9,12,13,12,6,17,8,9,12,12,13,10,28,19,11,7,8,8,8,11,10,11,10,8,6,8,9,10,13,11,17,18,5,9,11,8,9,13,9,6,9,10,13,9,12,10,7,10,10,10,7,8,13,10,10,11,9,9,11,9,7,10,9,17,9,9,10,6,9,11,16,10,9,7,8,18,14,18,8,16,10,6,15,13,11,8,9,9,10,11,11,7,16,9,7,12,12,16,11,13,11,12,6,6,14,13,17,13,12,16,18,12,18,22,14,20,12,11,10,9,17,9,15,12,8,12,15,17,10,8,14,8,9,9,11,8,10,21,16,14,15,13,12,25,9,9,9,14,14,11,10,9,13,16,10,16,5,9,8,8,6,10,7,20,6,9,9,8,13,9,18,8,12,9,8,13,12,7,11,9,19,11,16,7,8,8,11,6,7,10,7,10,9,8,7,13,11,13,9,10,8,16,10,9,11,11,12,7,11,9,12,18,7,11,14,7,11,14,14,9,8,8,8,7,10,16,11,17,9,11,9,11,17,15,14,6,10,9,10,11,8,9,7,6,11,9,6,14,13,6,9,7,8,21,16,11,10,4,11,19,10,9,10,14,12,10,11,12,12,5,8,19,10,14,10,8,14,12,6,15,17,7,13,10,16,14,9,7,11,20,14,14,11,24,14,16,9,12,14,4,5,7,9,18,14,9,6,9,8,10,10,13,10,8,9,16,10,10,11,8,11,14,10,13,9,7,7,7,11,12,4,16,8,7,11,10,11,5,13,11,6,15,6,7,12,11,10,10,10,9,11,14,6,7,11,15,16,10,10,17,15,9,13,10,13,10,15,15,10,6,8,6,12,10,15,10,15,15,12,10,7,9,9,13,12,8,5,10,8,13,14,9,5,14,13,8,10,11,11,9,6,12,12,11,13,13,9,9,9,15,6,11,7,14,8,8,6,8,11,7,11,7,17,10,25,8,10,6,10,9,7,16,5,10,9,10,12,10,6,13,10,10,11,8,8,11,7,9,7,12,14,11,8,16,6,11,13,9,12,15,9,13,11,7,9,10,13,16,8,7,4,5,13,8,9,11,11,13,14,14,13,7,17,5,16,4,7,11,8,14,10,11,11,13,12,17,9,8,12,15,8,9,12,10,11,13,16,10,12,9,8,10,7,10,10,7,9,13,13,8,8,10,14,13,15,7,11,12,9,10,15,10,5,13,11,11,10,15,8,14,5,4,7,6,5,8,10,11,9,6,7,5,7,12,9,10,15,17,10,12,7,8,11,11,6,11,9,11,11,11,11,9,10,6,7,9,14,10,14,9,9,7,10,9,10,10,8,8,9,18,18,10,12,9,5,9,9,11,10,8,11,13,13,14,8,8,10,17,14,15,14,15,17,10,7,14,6,6,15,13,11,9,15,11,9,15,10,5,12,7,9,14,13,6,10,12,17,8,8,10,10,6,14,10,9,9,7,8,13,10,12,17,10,5,9,1,13,8,6,13,16,11,7,9,6,11,8,17,13,11,17,9,7,12,12,10,10,4,13,8,8,9,14,7,9,11,16,21,11,14,5,13,14,9,13,11,9,10,9,15,8,12,11,6,8,16,13,10,9,10,11,7,7,9,9,7,8,4,11,10,5,6,11,10,15,10,8,8,8,8,10,6,12,7,9,9,13,9,8,4,9,9,12,10,7,14,11,17,6,10,13,12,6,7,10,12,10,9,7,7,11,11,9,5,10,15,13,8,13,9,12,10,11,8,25,8,15,4,10,9,7,14,11,11,8,10,9,8,8,6,10,11,6,7,10,6,8,5,9,13,10,13,9,13,8,10,10,9,9,8,13,12,6,17,9,9,11,14,17,11,11,8,5,11,11,8,14,7,11,11,11,7,8,10,9,11,24,14,8,12,10,8,14,11,9,7,7,8,8,6,11,10,13,8,12,8,14,9,10,17,10,6,7,11,20,9,10,6,12,8,12,9,9,10,8,11,8,13,6,9,8,11,10,13,9,9,11,12,5,10,8,9,11,10,20,9,11,7,11,7,10,7,16,13,12,7,3,6,10,10,6,14,8,12,9,11,8,8,7,7,4,6,6,10,8,4,4,4,6,8,7,9,13,9,5,12,9,10,5,3,6,9,12,11,9,13,9,15,6,9,7,8,9,8,15,8,7,13,5,10,16,10,7,6,9,11,7,15,16,13,8,11,11,10,8,10,14,7,11,12,13,11,11,8,14,12,8,8,14,14,10,13,10,8,8,12,9,10,17,10,9,9,11,12,13,7,10,10,14,10,11,12,10,8,12,9,7,6,9,10,14,12,5,8,9,9,6,11,8,5,11,7,17,9,11,10,8,8,7,13,18,10,16,9,8,13,8,16,7,8,11,11,6,9,10,12,8,11,9,6,8,4,8,8,7,6,8,9,9,6,11,9,15,11,15,10,6,11,12,7,10,7,9,13,8,13,8,10,8,8,11,10,7,8,8,10,10,17,9,8,21,13,10,11,11,10,6,11,6,11,14,6,10,18,9,15,10,14,12,12,13,14,9,5,8,5,15,9,10,6,7,9,11,10,8,9,8,5,9,9,7,11,8,11,7,9,7,12,11,17,7,7,5,10,10,7,11,9,12,9,12,12,6,10,6,11,8,15,10,10,8,11,11,10,4,15,15,7,8,10,10,6,9,9,11,11,12,13,10,13,10,10,8,12,5,11,14,5,12,11,16,8,10,9,10,16,8,9,15,10,11,12,9,16,8,12,16,10,10,5,9,14,10,14,9,20,10,9,9,12,9,11,8,10,9,6,14,8,7,8,9,11,9,9,8,10,5,9,6,11,10,10,14,7,9,8,10,7,10,10,11,14,8,7,8,9,8,8,11,6,15,2,10,8,13,8,9,10,12,13,14,14,12,15,9,12,10,11,7,11,13,10,13,10,10,14,9,10,8,10,10,8,6,10,7,12,9,8,5,10,13,7,13,7,11,9,11,9,10,9,11,9,9,9,18,7,9,8,11,13,6,11,9,13,6,9,7,9,6,12,11,11,6,7,9,10,7,10,9,11,7,7,16,8,15,9,11,13,9,9,14,11,11,9,5,10,14,11,7,7,9,7,13,17,9,7,10,8,8,9,12,9,12,7,7,13,10,11,7,10,9,10,9,10,12,7,15,9,9,7,8,15,7,13,12,12,8,10,12,7,14,9,7,12,7,11,10,9,9,9,14,9,10,10,10,10,9,11,8,10,9,12,10,9,11,9,23,7,12,8,8,9,11,12,9,9,10,11,10,10,7,11,10,10,17,8,12,7,6,13,6,7,7,12,8,9,15,8,7,10,9,15,16,12,9,8,14,10,8,11,12,7,14,16,10,13,10,9,12,7,12,10,12,6,11,10,9,12,10,12,6,12,8,11,8,15,6,11,13,9,10,10,11,6,7,13,18,9,9,9,11,8,8,16,16,8,13,16,12,6,11,9,9,15,10,14,8,9,9,10,13,11,9,7,9,15,2,10,11,14,11,7,8,12,12,9,12,12,13,7,8,9,4,10,10,13,13,10,11,11,9,6,6,11,8,11,9,14,8,11,14,12,6,7,17,11,11,8,12,6,10,12,5,14,7,9,11,9,9,9,10,14,10,11,14,10,10,17,13,9,10,6,8,9,19,5,14,13,13,8,8,7,5,8,8,11,9,10,8,8,6,9,15,10,11,10,14,8,10,15,15,12,14,11,7,12,7,10,9,9,14,9,6,7,8,8,11,11,16,13,8,12,7,9,7,8,14,10,16,14,14,9,11,9,11,18,10,9,3,19,8,9,11,10,10,12,11,6,9,7,18,12,10,9,16,9,10,12,9,10,7,9,7,11,5,12,10,15,14,5,9,9,7,7,10,9,8,9,13,12,15,7,9,5,15,11,4,7,5,8,8,8,14,12,10,10,12,13,9,11,6,10,6,11,8,8,8,12,4,10,10,12,16,9,14,6,11,8,13,11,13,19,15,8,6,17,8,7,13,10,13,8,11,8,12,11,9,8,17,13,15,11,11,10,8,10,12,12,13,7,11,12,8,11,14,9,7,13,12,8,7,10,10,7,10,12,14,12,9,9,11,16,15,7,12,5,10,5,11,8,9,7,7,10,10,14,7,9,10,9,12,13,4,8,11,6,7,11,8,5,13,4,6,8,7,13,9,11,8,8,6,8,4,10,8,8,11,12,9,10,8,9,6,12,6,10,7,18,9,10,11,10,13,8,7,12,12,8,14,6,8,9,8,8,12,8,11,12,11,8,8,16,12,13,8,9,9,8,9,14,9,10,7,6,7,10,8,7,14,10,14,9,14,5,6,12,10,11,7,6,12,6,11,8,8,8,14,6,10,11,14,7,15,20,14,15,6,14,7,11,13,10,9,9,5,5,10,7,8,5,10,6,9,9,11,10,10,15,12,11,9,11,9,18,10,9,11,4,8,10,16,10,20,8,8,8,7,10,9,9,9,9,9,13,9,9,8,11,8,11,14,10,13,14,8,8,12,11,7,8,18,11,10,8,9,8,14,11,10,7,10,8,5,7,8,9,16,6,8,10,12,12,10,7,11,12,10,15,3,12,10,13,15,11,15,9,10,9,12,10,13,13,8,11,12,12,12,10,10,17,18,14,7,7,14,11,11,6,9,9,7,12,13,12,14,9,11,11,9,4,7,10,10,15,6,10,15,15,12,10,13,11,14,9,6,8,8,15,11,11,15,13,9,10,16,14,17,13,9,14,6,5,8,13,7,9,8,9,16,10,11,9,14,5,15,8,12,5,10,10,10,14,10,9,8,15,9,17,10,10,9,7,13,9,5,8,13,14,11,9,7,10,9,12,12,9,10,6,14,15,11,7,11,14,7,9,11,11,8,9,13,14,4,12,9,12,6,8,6,5,17,11,5,11,13,8,6,11,6,4,8,12,12,8,9,12,14,8,10,9,10,11,10,8,7,7,16,6,9,9,9,6,14,9,8,8,9,8,7,9,13,11,9,10,6,16,13,11,14,10,10,5,8,5,3,9,12,4,10,18,6,6,10,5,8,10,10,15,10,15,6,13,9,11,13,12,9,8,8,8,9,10,10,10,13,8,8,9,10,7,6,8,10,9,9,11,13,7,9,8,9,13,13,7,10,14,7,13,14,7,6,13,8,11,9,12,10,7,8,9,14,10,7,8,15,6,9,12,10,9,10,7,16,17,11,5,10,13,13,12,16,7,11,9,8,15,8,10,8,7,8,11,11,15,8,11,9,11,11,8,22,12,9,16,8,12,12,9,11,6,10,11,10,9,8,10,11,10,12,9,7,7,12,14,13,17,9,6,10,14,12,10,6,13,8,8,9,12,10,12,8,5,8,12,8,12,10,13,9,16,12,11,9,12,11,13,8,9,14,6,11,11,11,12,7,10,8,14,9,13,11,9,8,9,9,11,7,7,15,9,10,11,5,8,9,8,8,6,9,13,10,13,16,9,23,7,8,5,8,6,13,13,14,12,10,17,11,5,8,11,9,5,7,11,11,11,13,12,15,12,12,12,5,7,8,6,8,8,9,7,7,6,12,12,5,3,10,12,10,6,10,7,14,8,5,13,7,6,12,14,13,10,15,8,12,6,16,8,5,8,12,9,10,15,7,13,12,11,13,10,12,9,10,6,9,9,11,9,9,10,11,7,6,11,10,11,11,14,10,11,12,9,13,9,14,10,7,7,9,7,12,13,13,11,10,13,11,9,9,11,10,12,11,8,18,11,10,14,7,9,11,9,12,6,10,10,9,8,8,8,7,10,13,6,10,11,12,8,9,7,8,11,9,7,8,9,12,9,11,11,22,8,8,12,8,10,11,7,8,12,11,6,12,8,9,12,14,9,8,10,12,9,12,14,19,11,12,7,14,8,5,12,12,8,8,11,10,10,8,10,10,6,13,14,12,11,7,10,10,12,18,14,8,9,14,9,7,11,8,9,13,8,14,6,7,10,10,14,6,13,9,14,6,10,10,6,13,9,10,8,6,10,10,10,11,15,7,13,13,9,13,10,11,9,11,11,9,9,9,8,7,11,9,11,12,7,12,8,7,11,5,11,13,10,8,8,6,11,6,10,11,11,12,10,7,12,10,11,13,11,13,9,14,11,8,10,13,6,12,7,11,16,15,9,11,10,6,10,13,10,11,8,11,12,9,11,10,9,12,10,9,12,9,10,14,8,9,10,10,10,10,10,8,12,11,10,11,12,7,9,7,7,10,13,10,9,13,11,9,10,8,10,9,9,11,16,6,10,11,14,15,13,13,11,11,15,11,12,9,5,10,16,11,11,8,11,9,15,14,12,10,10,14,10,10,11,9,8,14,7,12,8,14,8,14,9,7,8,16,8,6,12,6,10,7,9,19,9,9,10,10,12,18,13,18,7,13,12,10,12,9,10,10,17,11,10,7,9,10,9,10,13,13,10,15,14,13,15,8,12,12,11,14,10,10,5,8,9,9,5,8,9,7,10,8,8,9,15,10,8,9,8,8,9,10,18,10,10,7,7,13,7,9,9,8,10,7,11,8,10,10,9,11,11,7,12,10,9,11,7,13,5,8,12,9,9,8,13,11,8,14,9,7,7,8,12,10,8,12,9,7,7,9,11,10,7,12,8,12,9,14,15,8,11,6,7,12,13,9,7,7,15,13,10,8,7,12,12,11,8,10,5,7,10,9,9,13,12,10,7,11,10,8,14,9,9,11,7,9,7,11,7,13,8,7,11,6,7,7,14,16,11,7,10,9,10,6,10,12,11,11,14,6,12,12,13,10,22,11,8,9,8,12,13,11,12,11,7,13,7,12,6,9,13,9,10,16,15,12,7,8,10,12,7,9,11,14,10,6,7,8,11,13,8,17,12,10,8,12,10,13,9,8,6,11,9,13,10,10,7,7,13,10,13,14,7,10,13,13,8,14,17,10,8,5,11,7,10,7,10,10,9,10,9,9,16,13,12,18,8,11,15,15,9,9,9,14,13,6,6,8,8,19,12,16,11,7,7,11,8,13,9,10,10,11,7,11,9,11,6,10,6,16,11,9,17,15,9,7,9,7,11,9,14,12,12,11,12,12,12,15,13,10,16,7,9,10,7,12,9,9,10,9,10,13,7,12,7,9,4,5,15,8,7,10,7,9,8,15,8,12,11,9,11,14,8,6,9,11,10,7,8,10,10,10,12,6,6,6,9,5,13,5,14,12,12,10,8,13,7,9,13,10,11,12,10,10,5,15,9,11,11,11,10,11,12,5,7,6,24,8,7,14,10,12,14,9,13,8,9,1,13,6,8,11,7,7,8,10,8,9,6,5,6,7,8,9,10,8,11,12,9,8,9,7,11,10,5,6,6,10,10,11,12,4,8,15,4,10,9,8,10,10,7,6,8,6,10,13,17,9,17,8,11,11,9,10,11,10,8,9,10,12,10,11,6,9,9,8,10,9,9,7,8,8,12,11,10,9,11,10,12,6,9,7,8,7,11,10,9,10,12,9,11,7,6,14,7,10,5,11,12,5,7,10,6,6,8,9,8,7,18,10,16,16,11,9,8,12,9,8,9,6,11,15,11,7,34,10,10,7,7,8,13,10,6,14,6,8,18,15,10,14,9,15,12,11,9,10,8,5,11,8,12,10,12,4,8,10,10,6,8,12,7,13,10,10,5,11,11,8,13,10,10,10,10,9,11,9,16,10,7,10,9,14,20,10,10,11,12,9,9,11,8,7,8,9,9,8,9,9,10,10,14,7,4,14,7,8,9,2,13,8,13,12,9,12,10,13,12,10,13,5,10,14,10,8,6,10,10,12,13,7,10,9,11,9,10,13,8,10,8,9,9,11,13,13,7,7,6,9,11,11,4,10,11,7,15,8,14,9,5,7,6,10,8,7,13,10,17,10,9,10,11,8,9,9,12,12,7,10,11,6,6,9,7,16,15,8,8,7,11,10,10,8,23,12,10,8,11,11,12,10,7,7,6,7,12,8,13,16,12,14,13,7,10,12,10,10,12,8,8,10,6,8,11,6,11,16,12,8,13,9,10,10,11,12,9,12,7,13,8,10,8,13,13,11,9,11,7,10,10,10,10,10,11,9,7,6,17,8,8,8,8,11,9,9,8,8,16,6,9,13,13,12,8,10,6,14,13,9,14,9,15,10,12,9,8,14,9,9,16,11,11,9,10,12,3,10,9,14,11,12,12,16,8,13,9,11,8,12,12,9,8,12,15,8,11,10,9,9,10,13,12,11,9,13,7,14,12,6,11,9,10,6,11,8,8,16,8,11,13,11,17,7,10,13,10,8,7,9,10,8,7,7,9,8,6,9,12,10,9,10,12,10,9,12,16,15,9,8,7,7,8,10,9,13,11,8,8,9,9,13,9,9,9,8,12,7,10,10,12,6,9,7,10,12,10,8,8,15,14,10,14,11,9,11,15,14,12,10,11,11,7,12,7,11,16,10,11,10,7,13,10,13,14,8,10,13,9,16,8,12,11,12,12,3,9,15,11,8,12,13,13,13,8,12,7,12,10,11,14,14,11,11,6,10,12,14,6,7,10,6,10,13,6,7,12,14,10,12,11,8,11,12,13,6,7,9,10,11,9,12,14,19,7,17,9,8,3,7,8,7,11,10,10,11,8,12,14,9,10,6,15,10,10,6,10,7,8,11,10,7,9,9,12,9,10,14,15,11,7,8,11,7,14,8,9,6,13,10,14,12,9,7,12,5,9,11,11,8,9,12,14,7,7,6,10,6,5,7,11,5,11,6,9,6,9,8,6,8,7,6,10,5,11,6,9,6,10,7,5,10,15,6,11,13,12,8,10,9,9,11,13,7,8,7,8,9,13,13,7,14,11,12,6,11,12,8,8,4,9,7,8,9,12,10,9,10,7,8,5,8,12,16,7,11,9,8,8,10,8,6,11,15,12,8,11,11,16,9,10,4,11,10,11,8,12,7,12,17,11,9,6,12,6,10,8,8,12,10,12,9,12,10,19,12,11,13,8,14,11,11,11,12,12,8,14,8,9,11,7,15,10,6,11,5,8,9,8,6,9,13,10,13,16,9,23,7,8,5,13,13,14,12,10,11,8,11,9,7,5,7,11,11,12,12,12,5,8,6,8,8,9,7,12,10,16,16,12,9,15,18,6,8,10,9,10,13,12,16,12,10,14,15,16,9,14,14,8,9,17,17,11,15,8,11,15,15,15,10,10,12,13,10,12,12,10,14,7,20,15,12,16,10,15,15,16,14,17,19,16,8,20,6,16,11,15,14,13,16,13,9,16,13,13,14,14,16,14,15,9,14,17,25,12,14,12,13,17,11,12,10,15,9,7,10,6,19,11,14,10,10,15,6,14,12,6,9,13,12,12,17,10,14,9,11,10,10,13,15,18,13,13,18,9,13,14,12,12,8,15,10,8,7,17,16,9,10,11,9,14,13,17,13,17,21,13,13,14,12,18,14,13,16,7,14,11,15,14,19,16,16,7,14,19,7,16,17,18,17,18,12,11,12,20,9,10,13,17,6,12,13,14,15,10,13,14,11,12,14,12,17,15,12,13,10,14,7,8,18,14,13,10,10,18,13,19,10,21,17,15,9,11,14,12,11,10,8,13,13,10,7,14,17,15,17,8,10,17,14,11,8,15,12,19,17,19,10,12,11,9,9,18,13,10,7,10,13,14,5,10,13,12,16,15,18,13,18,10,15,9,10,19,12,11,18,8,14,9,11,12,10,18,22,13,7,9,17,12,13,13,11,11,8,7,17,8,11,11,10,11,13,16,14,9,13,16,10,9,12,10,11,11,9,8,11,15,7,15,13,9,18,8,5,17,16,14,8,14,9,11,6,15,12,11,11,11,16,15,15,17,17,13,12,16,9,14,6,14,13,13,15,14,9,12,13,14,18,20,11,10,15,9,6,9,11,11,9,15,16,13,15,14,12,19,14,11,10,11,15,13,11,9,6,15,11,11,10,16,9,16,14,12,11,13,16,12,16,20,12,16,13,12,12,8,10,18,17,12,8,11,21,10,8,16,13,13,20,14,15,15,9,13,13,10,12,16,18,12,14,15,19,8,14,16,11,14,12,15,8,10,11,11,13,15,15,8,9,16,12,15,14,18,14,9,16,18,13,13,13,13,11,10,13,14,10,15,17,9,8,9,10,18,9,12,9,8,10,18,15,8,15,13,13,15,7,16,12,10,6,14,8,9,14,7,15,13,13,15,10,10,14,16,12,12,9,9,13,15,12,13,14,19,16,10,12,15,12,10,15,16,13,17,24,10,14,10,8,14,14,9,12,10,12,22,16,17,10,10,8,12,9,12,13,17,9,10,15,13,13,10,9,18,11,11,9,9,13,17,6,14,8,15,9,9,19,7,10,18,15,11,12,10,11,12,12,5,13,9,7,11,11,11,14,13,14,20,14,13,16,8,11,19,11,14,14,11,13,18,11,21,13,17,15,19,10,16,15,14,9,10,12,8,11,6,3,11,12,18,7,7,11,14,15,16,9,10,11,19,15,9,13,11,14,9,11,12,11,15,12,11,19,10,7,4,14,9,18,9,10,13,14,12,11,15,10,8,13,15,15,14,21,6,10,9,9,17,11,10,18,19,8,11,8,18,10,18,14,15,18,8,12,9,10,14,12,8,9,9,9,8,12,12,10,8,13,14,13,18,10,8,19,12,11,7,11,8,10,15,10,14,8,13,13,11,13,7,12,11,10,11,10,18,15,13,9,10,14,6,19,10,9,15,16,11,13,10,13,11,15,12,9,9,13,14,8,16,12,7,9,11,16,16,13,9,13,9,15,10,13,11,14,14,21,8,11,9,14,9,11,17,16,11,9,22,8,13,7,10,15,11,20,8,12,7,8,10,11,10,9,13,9,12,10,8,8,23,11,22,15,16,8,12,13,16,11,16,16,15,8,7,11,9,17,16,10,11,9,12,6,10,14,10,14,9,6,14,14,8,21,15,8,8,14,11,8,11,14,13,7,13,8,20,12,16,18,14,12,10,17,10,14,12,20,12,6,13,22,7,13,12,17,11,17,16,11,13,15,11,12,15,13,17,13,12,10,12,13,14,20,23,11,12,19,13,9,8,13,17,19,14,13,8,14,14,12,12,11,12,13,15,22,16,12,11,17,12,17,8,7,13,11,10,9,13,8,7,5,15,19,10,12,11,17,7,9,11,11,11,8,12,15,11,12,16,10,11,15,11,14,10,13,10,16,14,9,12,9,14,14,11,15,14,18,10,11,13,17,11,10,10,10,12,14,10,6,8,11,11,9,11,15,14,11,7,9,9,9,17,9,16,17,15,18,10,18,13,7,16,9,18,14,10,12,12,13,8,14,15,13,13,9,12,7,12,11,10,11,11,9,11,11,16,10,20,15,10,12,10,12,15,12,11,11,18,19,10,15,22,14,14,11,14,14,18,19,13,16,12,12,14,8,11,13,9,8,17,8,9,8,9,16,15,12,18,10,14,18,11,10,16,11,14,10,12,14,11,13,9,6,15,7,11,10,10,10,14,12,14,10,14,17,17,14,15,8,10,10,11,10,14,17,18,12,13,15,20,10,10,7,10,7,11,16,14,11,9,9,13,15,15,8,16,18,15,8,10,9,12,19,10,13,19,13,13,12,17,10,8,8,6,18,11,10,13,9,11,17,15,8,12,6,10,7,11,16,16,11,14,15,6,11,11,6,12,10,12,10,13,9,8,9,14,15,15,10,10,20,13,11,10,10,9,9,9,8,12,19,11,9,12,15,14,10,10,11,12,8,10,8,11,13,13,17,9,9,17,9,10,13,13,15,16,9,7,11,11,10,8,11,12,10,10,8,10,8,10,6,9,14,11,9,9,10,8,12,11,15,13,18,14,12,8,9,12,15,7,12,11,17,9,9,12,15,11,14,8,15,14,14,8,8,13,19,11,9,12,9,8,11,11,11,9,11,11,12,12,18,9,12,16,9,8,9,12,10,14,11,13,8,10,17,15,18,9,12,13,11,10,13,12,9,17,14,12,13,11,11,12,12,10,3,11,8,9,14,10,7,15,11,10,9,14,14,12,12,11,14,8,13,11,10,13,15,13,12,11,11,12,12,10,7,12,11,11,14,9,15,14,14,9,17,11,18,15,14,13,8,11,13,12,13,12,10,12,10,7,13,9,15,7,14,20,20,14,11,17,11,18,12,13,15,13,15,7,12,11,14,10,12,13,14,15,12,24,14,13,12,9,8,12,11,14,10,14,10,19,14,13,10,13,9,9,8,10,15,11,8,10,13,10,10,12,9,16,14,18,15,11,13,9,10,14,14,14,8,19,12,12,14,14,7,9,15,12,9,9,11,8,15,14,10,12,16,14,15,11,16,12,10,16,9,10,18,16,13,15,19,14,10,9,13,11,11,12,10,11,15,12,11,9,10,8,13,12,15,13,10,16,11,13,14,8,6,16,18,13,13,1,19,6,13,11,11,10,9,7,21,15,11,12,11,8,12,14,14,11,12,11,16,14,12,9,15,10,11,16,12,8,11,9,14,11,15,10,8,20,13,8,9,16,14,9,12,14,8,17,13,12,9,9,5,6,10,11,15,14,16,14,12,14,8,14,13,11,14,14,10,11,14,15,10,11,16,9,17,15,18,12,18,13,8,9,13,11,14,12,9,9,13,10,17,15,11,9,13,14,9,10,13,10,13,15,12,13,15,10,16,10,18,17,16,14,14,15,14,17,7,18,10,11,18,6,20,13,13,11,17,12,11,11,12,10,17,12,16,11,16,13,13,16,15,12,18,18,8,11,13,9,10,14,10,13,19,21,12,15,14,7,12,10,13,17,13,11,16,16,17,13,9,11,13,20,13,12,12,13,16,13,19,10,13,14,14,7,11,9,10,15,13,12,15,10,13,20,17,13,16,7,17,10,10,12,12,14,10,8,21,18,10,5,11,9,10,13,14,19,17,11,12,13,15,12,11,15,15,8,18,11,10,15,11,13,16,17,8,13,14,10,16,16,15,20,9,10,9,9,15,13,12,17,9,15,11,15,7,13,17,11,13,9,12,23,17,13,13,10,19,9,17,7,13,9,12,11,10,10,8,13,11,12,11,11,17,15,10,13,14,13,13,13,18,19,14,14,9,13,16,11,15,12,14,11,10,11,9,17,12,12,11,10,9,9,10,17,9,11,14,12,14,11,14,11,11,14,11,14,14,13,22,7,10,17,9,14,9,14,15,10,13,10,9,18,10,9,11,8,9,10,14,13,11,15,13,16,16,8,11,15,12,18,16,9,10,16,15,13,9,9,22,12,13,14,15,10,9,12,15,17,15,17,20,10,9,17,4,11,10,17,13,11,10,11,14,12,15,19,14,9,15,10,6,17,15,13,16,8,7,11,10,13,8,12,19,15,16,10,11,12,12,14,13,13,12,11,14,13,9,14,10,13,14,8,7,13,12,12,8,9,6,10,10,14,10,12,19,13,15,17,12,8,14,13,16,14,8,16,12,10,10,11,8,14,11,9,23,9,14,8,13,9,8,11,13,10,10,13,9,5,13,17,10,11,14,8,15,6,14,8,8,8,12,12,9,13,8,17,9,8,15,13,12,16,10,20,12,11,12,14,10,18,12,7,11,11,15,11,16,18,9,10,8,9,6,7,16,10,15,9,8,9,15,20,15,12,18,13,15,16,17,15,9,16,18,21,13,18,10,11,9,12,9,7,13,11,11,13,14,10,5,10,14,7,13,16,12,14,10,7,14,10,12,15,9,18,8,15,11,12,10,8,16,10,12,10,8,10,11,9,12,9,15,13,14,10,17,13,12,17,10,10,12,13,9,17,11,9,17,12,12,13,7,6,11,9,8,10,15,8,13,9,18,11,17,7,12,16,14,17,14,8,13,9,12,9,13,7,8,13,11,8,8,15,18,13,13,12,12,11,10,9,13,15,14,7,4,11,13,12,19,8,12,10,11,14,13,12,10,9,11,15,9,7,6,10,11,11,9,11,10,15,16,9,11,12,9,8,11,18,10,13,5,9,15,8,15,7,14,9,9,16,8,10,8,8,9,9,16,8,13,8,10,8,15,8,16,14,9,11,9,11,12,9,12,10,10,15,8,10,9,10,14,13,9,13,12,10,12,12,10,16,8,17,16,9,9,12,15,13,10,7,10,15,7,13,12,8,13,10,10,8,12,9,7,8,13,11,12,14,10,9,18,19,10,10,8,7,9,12,12,14,12,11,9,10,7,7,9,13,8,13,8,11,8,11,9,12,15,14,9,14,12,9,12,12,11,12,16,11,15,11,14,9,15,13,15,9,7,13,14,7,10,7,11,7,12,10,4,10,16,6,14,7,8,9,16,10,12,16,12,6,9,12,7,14,10,10,8,11,14,12,8,9,7,24,16,10,10,9,11,14,18,15,6,5,11,8,15,12,11,16,9,13,9,12,11,13,8,11,13,14,21,11,10,9,8,11,17,15,17,9,17,11,13,14,15,11,7,12,11,9,11,7,12,12,11,7,17,15,6,7,7,15,12,13,10,9,7,15,12,15,11,12,12,14,16,8,16,10,13,10,5,13,20,9,11,13,10,11,16,15,13,12,12,15,11,10,12,12,11,10,8,11,8,14,15,10,10,17,14,8,11,10,12,10,12,10,7,18,10,11,11,11,11,11,20,13,13,16,14,12,7,12,9,14,13,17,12,15,8,15,8,9,16,13,12,16,16,14,12,6,16,15,13,7,7,12,12,12,7,11,9,9,7,6,14,11,9,11,9,11,10,14,8,8,17,8,14,7,10,11,11,7,8,10,14,8,7,7,7,12,9,9,13,12,11,10,7,9,7,12,13,4,15,14,16,13,13,11,7,15,12,8,12,16,12,14,14,12,7,15,10,13,18,8,10,11,5,16,11,15,8,10,12,12,9,8,23,9,12,12,10,10,22,13,6,11,13,8,15,9,16,9,14,17,13,11,15,11,9,13,17,10,11,13,17,12,11,13,15,20,10,10,9,8,18,9,12,11,13,16,18,12,15,17,10,11,11,14,14,13,11,8,12,8,16,16,10,9,13,15,12,13,10,8,13,15,13,11,13,10,18,7,11,15,13,13,10,15,9,6,10,13,12,10,9,8,10,16,18,12,14,13,15,15,14,10,10,14,11,18,12,19,7,18,17,11,16,11,13,12,19,17,12,17,10,17,12,8,9,12,9,8,12,11,12,9,11,10,13,7,12,13,11,6,12,9,7,13,13,5,10,10,9,15,14,11,9,14,8,11,13,10,13,14,17,8,13,13,14,17,17,14,8,17,7,10,8,8,8,16,11,15,16,7,13,13,8,9,8,20,11,6,11,10,5,7,16,11,9,12,12,6,17,9,12,10,28,19,11,8,8,11,10,11,10,13,11,17,16,18,14,5,9,11,13,9,9,10,13,10,7,9,10,17,11,11,18,16,18,14,18,8,16,6,15,11,9,10,10,11,11,9,7,12,12,16,11,13,11,7,12,14,13,17,14,13,12,16,18,12,18,22,14,17,14,20,12,11,10,9,17,12,13,12,17,15,9,15,11,8,21,16,14,13,15,10,19,16,12,10,13,13,19,14,12,11,13,25,19,9,14,11,13,9,13,16,10,20,9,13,18,8,13,12,11,19,9,12,15,11,16,11,6,7,9,19,11,11,13,11,10,12,16,11,11,11,12,9,11,18,11,7,11,14,7,14,11,15,14,14,16,8,11,15,17,15,14,10,10,6,11,6,9,11,9,6,14,9,8,16,11,10,11,19,13,10,9,9,9,10,11,12,11,6,12,12,5,19,15,14,10,8,14,12,6,15,20,17,7,15,13,10,16,14,12,7,20,17,14,14,24,14,16,7,12,13,14,4,8,9,18,14,9,13,10,13,10,9,9,12,11,10,11,11,14,13,9,7,13,7,4,16,12,11,9,15,6,7,12,11,10,10,9,11,14,7,15,16,10,17,15,13,10,13,12,15,15,8,12,10,15,10,18,12,15,15,12,10,9,5,10,13,14,14,13,12,11,12,12,11,13,13,9,9,15,11,14,8,11,11,17,10,25,10,7,16,11,12,10,13,10,6,17,8,11,14,14,10,11,10,16,11,13,12,15,13,11,11,9,10,13,16,11,11,13,13,11,13,13,14,14,13,7,17,5,16,7,11,9,14,13,10,11,11,13,12,17,12,15,12,11,16,12,13,5,7,10,10,10,13,13,14,15,11,12,15,13,11,11,15,14,14,8,4,10,7,7,12,9,10,15,17,5,11,11,6,5,6,8,11,10,11,12,7,6,11,10,12,14,8,11,10,14,9,8,11,10,10,10,14,8,9,18,18,9,12,11,10,8,11,13,14,8,8,10,17,14,15,15,14,15,10,7,14,6,15,9,12,15,11,11,12,15,5,7,9,13,8,9,12,11,17,10,10,6,14,12,8,9,7,8,13,10,10,12,17,10,10,9,13,13,16,11,6,11,8,17,13,17,7,7,12,10,10,8,8,10,9,17,16,21,11,14,5,13,14,13,11,10,9,15,8,12,11,8,7,16,13,9,7,11,9,7,8,9,8,4,10,7,9,10,15,10,8,8,12,9,13,7,9,11,12,10,14,12,11,17,6,10,13,12,10,7,12,10,7,11,10,15,13,9,11,9,11,6,10,10,10,4,7,12,25,15,7,9,11,13,8,14,9,11,10,9,16,8,8,10,5,9,13,10,13,9,11,13,10,14,10,9,8,9,13,12,6,17,9,9,11,14,17,11,11,11,12,14,8,11,24,12,8,14,11,7,8,16,8,6,11,10,13,12,8,9,10,17,10,11,20,12,9,8,8,13,6,9,8,10,13,9,12,20,8,9,11,20,17,11,7,7,10,7,13,9,12,22,10,10,14,8,11,7,7,8,12,6,6,10,4,15,4,7,8,13,9,5,12,9,12,9,12,13,15,12,8,8,15,7,8,5,16,14,6,9,7,6,16,8,11,10,10,14,11,13,11,14,8,14,10,13,10,12,9,10,17,8,12,12,13,10,10,14,12,10,8,12,9,14,11,12,14,12,9,6,5,11,11,10,17,9,8,9,7,13,18,17,10,10,10,16,13,8,16,6,8,11,9,11,4,9,4,8,9,6,6,11,15,11,6,10,11,7,10,9,13,11,13,8,13,10,10,8,7,8,10,10,17,8,9,10,21,13,10,11,11,11,14,13,18,15,13,14,14,9,15,9,7,7,11,10,8,9,7,11,12,11,17,6,10,10,5,10,7,12,10,10,8,9,10,8,4,12,10,9,11,11,13,10,8,13,10,10,10,9,12,5,16,14,14,5,12,13,16,13,10,8,9,10,10,16,15,11,12,9,16,8,16,10,10,9,11,14,14,9,20,10,15,9,10,15,11,6,9,8,10,9,14,8,7,8,9,4,9,10,9,6,10,10,14,7,7,9,7,9,10,4,8,10,14,12,8,7,8,9,10,10,2,10,8,13,13,14,14,12,10,11,13,7,10,13,10,10,10,10,7,12,9,8,10,11,13,7,13,9,9,9,9,8,18,9,11,13,13,13,6,11,8,14,12,11,11,10,9,10,11,9,7,15,12,13,14,11,9,5,6,14,7,14,9,9,12,13,8,17,9,11,11,10,9,12,12,11,9,2,9,9,12,10,15,9,7,16,11,8,15,12,12,8,9,7,11,9,14,9,10,9,13,12,11,11,9,10,9,11,23,12,8,12,10,8,9,11,12,11,9,10,9,11,10,10,6,10,9,10,17,7,12,13,10,11,6,7,12,7,9,15,8,12,8,12,9,6,10,10,11,3,6,6,8,10,12,15,12,23,6,11,10,9,10,12,15,9,6,8,7,8,15,11,9,8,9,10,6,11,7,13,18,11,9,10,9,8,10,8,11,11,12,9,16,12,8,13,16,12,14,11,9,15,10,8,10,9,10,9,13,13,15,10,11,14,12,14,12,18,13,4,11,9,11,14,12,17,12,6,14,12,7,9,8,9,14,17,9,9,19,5,14,8,9,12,8,16,6,11,14,10,15,6,9,12,12,13,11,12,16,10,16,9,16,9,12,14,18,3,19,14,12,9,8,18,16,8,18,10,6,11,9,10,15,11,8,8,14,13,10,14,11,11,10,19,11,13,8,13,7,8,17,13,9,13,7,12,9,10,8,10,9,11,11,12,15,13,17,13,11,16,11,9,10,8,15,8,11,16,8,11,9,12,6,7,9,10,13,7,12,11,11,16,13,10,9,12,9,7,14,14,9,10,12,6,14,8,11,15,14,14,7,11,11,9,14,12,9,18,9,9,10,20,8,5,11,11,14,10,13,14,9,5,10,8,12,8,10,12,13,15,12,15,3,12,15,11,9,15,15,14,12,9,12,13,13,13,8,12,12,12,10,10,17,18,14,15,7,14,9,11,11,12,13,14,9,11,10,15,13,15,15,12,13,7,14,9,8,15,11,11,15,13,12,14,19,11,13,9,9,14,5,10,13,7,9,16,11,9,12,14,9,15,12,5,16,12,10,10,14,8,10,11,15,17,10,7,13,8,13,14,11,9,12,12,9,10,11,14,12,15,11,7,10,11,10,14,9,8,13,14,12,9,12,6,5,14,11,11,14,11,9,13,8,6,11,6,9,4,8,12,12,9,14,10,10,11,12,10,8,16,9,9,12,14,8,9,9,8,11,10,13,14,10,10,6,16,13,10,10,7,7,12,12,18,8,10,8,10,15,15,13,13,12,9,8,8,13,10,10,9,8,9,9,11,13,7,8,8,9,13,13,13,14,10,14,12,13,14,13,11,12,7,14,6,7,7,8,12,16,10,9,8,10,7,16,17,8,11,12,7,16,7,11,6,15,10,8,7,6,11,11,15,8,9,8,11,11,8,22,8,8,12,6,9,16,12,13,7,11,6,9,10,11,10,9,8,10,11,10,10,12,7,14,10,9,7,13,7,14,13,7,17,8,9,6,10,14,10,6,8,9,9,12,10,12,5,8,12,8,13,16,9,12,8,9,14,11,11,10,7,9,14,9,13,11,8,13,8,9,9,11,7,7,11,15,9,10,10,11,5,8,9,6,9,10,13,9,23,7,8,5,7,8,6,22,13,14,12,17,9,11,5,8,11,9,7,7,9,11,11,11,13,12,15,9,11,12,12,12,10,5,6,8,8,9,7,7,6,6,12,12,15,3,10,10,12,13,8,7,3,9,5,10,9,6,5,8,10,16,9,10,5,12,10,7,13,6,9,8,7,6,9,11,6,6,5,8,17,12,3,10,12,8,5,5,8,9,11,7,9,10,8,7,11,8,7,10,8,10,7,4,7,6,8,10,12,9,6,9,7,8,8,10,8,4,12,10,8,11,4,5,6,6,6,10,3,10,11,9,6,7,6,9,9,4,5,4,9,8,8,9,7,2,7,7,7,5,7,9,11,5,10,10,10,4,4,10,8,7,9,7,4,5,7,4,8,6,11,3,8,8,10,8,3,8,9,10,10,3,7,7,8,3,11,7,7,5,7,8,5,8,10,4,2,9,10,7,7,8,8,5,6,8,6,3,6,4,6,14,7,13,11,13,5,6,8,7,9,10,7,4,9,8,6,7,6,12,6,8,6,6,6,9,6,7,5,9,4,8,8,10,8,5,3,3,8,8,3,5,6,4,5,9,5,13,4,7,8,6,7,10,5,5,6,10,5,7,6,5,5,6,9,8,4,7,7,7,4,7,8,5,12,5,10,8,5,5,3,6,5,5,12,7,7,7,5,7,4,8,10,6,4,8,10,7,7,10,4,9,7,9,9,5,5,6,11,6,5,6,4,6,4,8,6,9,2,6,5,10,9,8,9,12,7,4,5,4,5,6,7,8,9,8,5,9,9,10,9,5,9,10,7,8,10,9,8,8,8,10,6,11,10,10,8,5,11,7,11,8,10,10,6,7,7,3,8,8,6,7,4,5,6,10,7,6,5,5,8,3,5,9,10,9,9,4,4,8,8,4,6,11,5,6,4,10,8,5,8,8,14,8,10,7,9,14,7,13,11,11,5,8,8,8,6,3,3,4,9,7,7,7,6,14,7,10,4,5,10,9,4,6,8,10,11,6,10,8,12,10,11,7,11,10,13,7,4,7,12,13,2,11,10,9,9,8,9,5,12,10,4,10,8,5,7,8,9,14,7,5,6,8,11,7,9,9,7,6,9,4,4,11,7,9,8,6,8,11,7,7,4,5,4,9,13,9,9,8,8,9,9,8,13,10,9,7,7,3,8,10,6,6,7,5,9,6,8,7,5,4,11,11,6,10,6,10,10,7,5,10,4,8,7,9,15,10,5,5,13,10,7,7,10,4,6,6,9,9,10,8,8,11,11,10,7,7,11,11,13,8,11,9,5,5,6,6,8,10,2,4,10,5,9,10,10,7,8,4,11,9,9,7,7,5,6,9,6,7,7,6,8,11,10,5,7,12,12,5,8,6,5,7,3,6,7,13,4,11,9,4,11,5,12,5,4,8,9,4,10,11,10,6,6,10,4,7,10,9,10,7,10,5,5,6,9,7,9,6,8,10,7,4,12,6,5,8,2,5,3,9,5,10,4,9,5,4,9,6,8,8,9,11,4,7,8,4,5,7,7,8,6,11,6,6,5,6,8,7,8,3,10,8,5,9,7,5,7,6,4,6,10,9,7,5,9,8,6,8,7,9,10,7,5,9,5,9,4,6,5,7,4,9,6,10,5,7,4,7,12,5,7,8,9,7,8,5,5,10,5,7,9,8,9,5,5,6,8,4,2,4,9,9,8,10,12,9,7,6,8,9,7,9,11,7,10,6,6,5,15,8,11,7,8,10,5,6,7,10,6,2,7,8,12,10,4,8,10,9,9,7,8,5,10,5,8,9,6,10,7,5,7,5,6,9,2,10,12,12,6,8,12,10,6,7,9,9,5,10,7,4,9,5,6,7,9,9,7,9,5,8,6,12,9,3,9,5,10,9,6,5,8,10,16,9,10,5,12,10,7,13,6,9,8,7,6,9,11,6,6,5,8,17,12,3,10,12,8,5,5,8,9,11,7,9,10,8,7,11,8,7,10,8,10,7,4,7,6,8,10,12,9,6,9,7,8,8,10,8,4,12,10,8,11,4,5,6,6,6,10,3,10,11,9,6,7,6,9,9,4,5,4,9,8,8,9,7,2,7,7,7,5,7,9,11,5,10,10,10,4,4,10,8,7,9,7,4,5,7,4,8,6,11,3,8,8,10,8,3,8,9,10,10,3,7,7,8,3,11,7,7,5,7,8,5,8,10,4,2,9,10,7,7,8,8,5,6,8,6,3,6,4,6,14,7,13,11,13,5,6,8,7,9,10,7,4,9,8,6,7,6,12,6,8,6,6,6,9,6,7,5,9,4,8,8,10,8,5,3,3,8,8,3,5,6,4,5,9,5,13,4,7,8,6,7,10,5,5,6,10,5,7,6,5,5,6,9,8,4,7,7,7,4,7,8,5,12,5,10,8,5,5,3,6,5,5,12,7,7,7,5,7,4,8,10,6,4,8,10,7,7,10,4,9,7,9,9,5,5,6,11,6,5,6,4,6,4,8,6,9,2,6,5,10,9,8,9,12,7,4,5,4,5,6,7,8,9,8,5,9,9,10,9,5,9,10,7,8,10,9,8,8,8,10,6,11,10,10,8,5,11,7,11,8,10,10,6,7,7,3,8,8,6,7,4,5,6,10,7,6,5,5,8,3,5,9,10,9,9,4,4,8,8,4,6,11,5,6,4,10,8,5,8,8,14,8,10,7,9,14,7,13,11,11,5,8,8,8,6,3,3,4,9,7,7,7,6,14,7,10,4,5,10,9,4,6,8,10,11,6,10,8,12,10,11,7,11,10,13,7,4,7,12,13,2,11,10,9,9,8,9,5,12,10,4,10,8,5,7,8,9,14,7,5,6,8,11,7,9,9,7,6,9,4,4,11,7,9,8,6,8,11,7,7,4,5,4,9,13,9,9,8,8,9,9,8,13,10,9,7,7,3,8,10,6,6,7,5,9,6,8,7,5,4,11,11,6,10,6,10,10,7,5,10,4,8,7,9,15,10,5,5,13,10,7,7,10,4,6,6,9,9,10,8,8,11,11,10,7,7,11,11,13,8,11,9,5,5,6,6,8,10,2,4,10,5,9,10,10,7,8,4,11,9,9,7,7,5,6,9,6,7,7,6,8,11,10,5,7,12,12,5,8,6,5,7,3,6,7,13,4,11,9,4,11,5,12,5,4,8,9,4,10,11,10,6,6,10,4,7,10,9,10,7,10,5,5,6,9,7,9,6,8,10,7,4,12,6,5,8,2,5,3,9,5,10,4,9,5,4,9,6,8,8,9,11,4,7,8,4,5,7,7,8,6,11,6,6,5,6,8,7,8,3,10,8,5,9,7,5,7,6,4,6,10,9,7,5,9,8,6,8,7,9,10,7,5,9,5,9,4,6,5,7,4,9,6,10,5,7,4,7,12,5,7,8,9,7,8,5,5,10,5,7,9,8,9,5,5,6,8,4,2,4,9,9,8,10,12,9,7,6,8,9,7,9,11,7,10,6,6,5,15,8,11,7,8,10,5,6,7,10,6,2,7,8,12,10,4,8,10,9,9,7,8,5,10,5,8,9,6,10,7,5,7,5,6,9,2,10,12,12,6,8,12,10,6,7,9,9,5,10,7,4,9,5,6,7,9,9,7,9],\"xaxis\":\"x\",\"yaxis\":\"y\",\"type\":\"histogram\"}],                        {\"template\":{\"data\":{\"bar\":[{\"error_x\":{\"color\":\"#2a3f5f\"},\"error_y\":{\"color\":\"#2a3f5f\"},\"marker\":{\"line\":{\"color\":\"#E5ECF6\",\"width\":0.5},\"pattern\":{\"fillmode\":\"overlay\",\"size\":10,\"solidity\":0.2}},\"type\":\"bar\"}],\"barpolar\":[{\"marker\":{\"line\":{\"color\":\"#E5ECF6\",\"width\":0.5},\"pattern\":{\"fillmode\":\"overlay\",\"size\":10,\"solidity\":0.2}},\"type\":\"barpolar\"}],\"carpet\":[{\"aaxis\":{\"endlinecolor\":\"#2a3f5f\",\"gridcolor\":\"white\",\"linecolor\":\"white\",\"minorgridcolor\":\"white\",\"startlinecolor\":\"#2a3f5f\"},\"baxis\":{\"endlinecolor\":\"#2a3f5f\",\"gridcolor\":\"white\",\"linecolor\":\"white\",\"minorgridcolor\":\"white\",\"startlinecolor\":\"#2a3f5f\"},\"type\":\"carpet\"}],\"choropleth\":[{\"colorbar\":{\"outlinewidth\":0,\"ticks\":\"\"},\"type\":\"choropleth\"}],\"contour\":[{\"colorbar\":{\"outlinewidth\":0,\"ticks\":\"\"},\"colorscale\":[[0.0,\"#0d0887\"],[0.1111111111111111,\"#46039f\"],[0.2222222222222222,\"#7201a8\"],[0.3333333333333333,\"#9c179e\"],[0.4444444444444444,\"#bd3786\"],[0.5555555555555556,\"#d8576b\"],[0.6666666666666666,\"#ed7953\"],[0.7777777777777778,\"#fb9f3a\"],[0.8888888888888888,\"#fdca26\"],[1.0,\"#f0f921\"]],\"type\":\"contour\"}],\"contourcarpet\":[{\"colorbar\":{\"outlinewidth\":0,\"ticks\":\"\"},\"type\":\"contourcarpet\"}],\"heatmap\":[{\"colorbar\":{\"outlinewidth\":0,\"ticks\":\"\"},\"colorscale\":[[0.0,\"#0d0887\"],[0.1111111111111111,\"#46039f\"],[0.2222222222222222,\"#7201a8\"],[0.3333333333333333,\"#9c179e\"],[0.4444444444444444,\"#bd3786\"],[0.5555555555555556,\"#d8576b\"],[0.6666666666666666,\"#ed7953\"],[0.7777777777777778,\"#fb9f3a\"],[0.8888888888888888,\"#fdca26\"],[1.0,\"#f0f921\"]],\"type\":\"heatmap\"}],\"heatmapgl\":[{\"colorbar\":{\"outlinewidth\":0,\"ticks\":\"\"},\"colorscale\":[[0.0,\"#0d0887\"],[0.1111111111111111,\"#46039f\"],[0.2222222222222222,\"#7201a8\"],[0.3333333333333333,\"#9c179e\"],[0.4444444444444444,\"#bd3786\"],[0.5555555555555556,\"#d8576b\"],[0.6666666666666666,\"#ed7953\"],[0.7777777777777778,\"#fb9f3a\"],[0.8888888888888888,\"#fdca26\"],[1.0,\"#f0f921\"]],\"type\":\"heatmapgl\"}],\"histogram\":[{\"marker\":{\"pattern\":{\"fillmode\":\"overlay\",\"size\":10,\"solidity\":0.2}},\"type\":\"histogram\"}],\"histogram2d\":[{\"colorbar\":{\"outlinewidth\":0,\"ticks\":\"\"},\"colorscale\":[[0.0,\"#0d0887\"],[0.1111111111111111,\"#46039f\"],[0.2222222222222222,\"#7201a8\"],[0.3333333333333333,\"#9c179e\"],[0.4444444444444444,\"#bd3786\"],[0.5555555555555556,\"#d8576b\"],[0.6666666666666666,\"#ed7953\"],[0.7777777777777778,\"#fb9f3a\"],[0.8888888888888888,\"#fdca26\"],[1.0,\"#f0f921\"]],\"type\":\"histogram2d\"}],\"histogram2dcontour\":[{\"colorbar\":{\"outlinewidth\":0,\"ticks\":\"\"},\"colorscale\":[[0.0,\"#0d0887\"],[0.1111111111111111,\"#46039f\"],[0.2222222222222222,\"#7201a8\"],[0.3333333333333333,\"#9c179e\"],[0.4444444444444444,\"#bd3786\"],[0.5555555555555556,\"#d8576b\"],[0.6666666666666666,\"#ed7953\"],[0.7777777777777778,\"#fb9f3a\"],[0.8888888888888888,\"#fdca26\"],[1.0,\"#f0f921\"]],\"type\":\"histogram2dcontour\"}],\"mesh3d\":[{\"colorbar\":{\"outlinewidth\":0,\"ticks\":\"\"},\"type\":\"mesh3d\"}],\"parcoords\":[{\"line\":{\"colorbar\":{\"outlinewidth\":0,\"ticks\":\"\"}},\"type\":\"parcoords\"}],\"pie\":[{\"automargin\":true,\"type\":\"pie\"}],\"scatter\":[{\"marker\":{\"colorbar\":{\"outlinewidth\":0,\"ticks\":\"\"}},\"type\":\"scatter\"}],\"scatter3d\":[{\"line\":{\"colorbar\":{\"outlinewidth\":0,\"ticks\":\"\"}},\"marker\":{\"colorbar\":{\"outlinewidth\":0,\"ticks\":\"\"}},\"type\":\"scatter3d\"}],\"scattercarpet\":[{\"marker\":{\"colorbar\":{\"outlinewidth\":0,\"ticks\":\"\"}},\"type\":\"scattercarpet\"}],\"scattergeo\":[{\"marker\":{\"colorbar\":{\"outlinewidth\":0,\"ticks\":\"\"}},\"type\":\"scattergeo\"}],\"scattergl\":[{\"marker\":{\"colorbar\":{\"outlinewidth\":0,\"ticks\":\"\"}},\"type\":\"scattergl\"}],\"scattermapbox\":[{\"marker\":{\"colorbar\":{\"outlinewidth\":0,\"ticks\":\"\"}},\"type\":\"scattermapbox\"}],\"scatterpolar\":[{\"marker\":{\"colorbar\":{\"outlinewidth\":0,\"ticks\":\"\"}},\"type\":\"scatterpolar\"}],\"scatterpolargl\":[{\"marker\":{\"colorbar\":{\"outlinewidth\":0,\"ticks\":\"\"}},\"type\":\"scatterpolargl\"}],\"scatterternary\":[{\"marker\":{\"colorbar\":{\"outlinewidth\":0,\"ticks\":\"\"}},\"type\":\"scatterternary\"}],\"surface\":[{\"colorbar\":{\"outlinewidth\":0,\"ticks\":\"\"},\"colorscale\":[[0.0,\"#0d0887\"],[0.1111111111111111,\"#46039f\"],[0.2222222222222222,\"#7201a8\"],[0.3333333333333333,\"#9c179e\"],[0.4444444444444444,\"#bd3786\"],[0.5555555555555556,\"#d8576b\"],[0.6666666666666666,\"#ed7953\"],[0.7777777777777778,\"#fb9f3a\"],[0.8888888888888888,\"#fdca26\"],[1.0,\"#f0f921\"]],\"type\":\"surface\"}],\"table\":[{\"cells\":{\"fill\":{\"color\":\"#EBF0F8\"},\"line\":{\"color\":\"white\"}},\"header\":{\"fill\":{\"color\":\"#C8D4E3\"},\"line\":{\"color\":\"white\"}},\"type\":\"table\"}]},\"layout\":{\"annotationdefaults\":{\"arrowcolor\":\"#2a3f5f\",\"arrowhead\":0,\"arrowwidth\":1},\"autotypenumbers\":\"strict\",\"coloraxis\":{\"colorbar\":{\"outlinewidth\":0,\"ticks\":\"\"}},\"colorscale\":{\"diverging\":[[0,\"#8e0152\"],[0.1,\"#c51b7d\"],[0.2,\"#de77ae\"],[0.3,\"#f1b6da\"],[0.4,\"#fde0ef\"],[0.5,\"#f7f7f7\"],[0.6,\"#e6f5d0\"],[0.7,\"#b8e186\"],[0.8,\"#7fbc41\"],[0.9,\"#4d9221\"],[1,\"#276419\"]],\"sequential\":[[0.0,\"#0d0887\"],[0.1111111111111111,\"#46039f\"],[0.2222222222222222,\"#7201a8\"],[0.3333333333333333,\"#9c179e\"],[0.4444444444444444,\"#bd3786\"],[0.5555555555555556,\"#d8576b\"],[0.6666666666666666,\"#ed7953\"],[0.7777777777777778,\"#fb9f3a\"],[0.8888888888888888,\"#fdca26\"],[1.0,\"#f0f921\"]],\"sequentialminus\":[[0.0,\"#0d0887\"],[0.1111111111111111,\"#46039f\"],[0.2222222222222222,\"#7201a8\"],[0.3333333333333333,\"#9c179e\"],[0.4444444444444444,\"#bd3786\"],[0.5555555555555556,\"#d8576b\"],[0.6666666666666666,\"#ed7953\"],[0.7777777777777778,\"#fb9f3a\"],[0.8888888888888888,\"#fdca26\"],[1.0,\"#f0f921\"]]},\"colorway\":[\"#636efa\",\"#EF553B\",\"#00cc96\",\"#ab63fa\",\"#FFA15A\",\"#19d3f3\",\"#FF6692\",\"#B6E880\",\"#FF97FF\",\"#FECB52\"],\"font\":{\"color\":\"#2a3f5f\"},\"geo\":{\"bgcolor\":\"white\",\"lakecolor\":\"white\",\"landcolor\":\"#E5ECF6\",\"showlakes\":true,\"showland\":true,\"subunitcolor\":\"white\"},\"hoverlabel\":{\"align\":\"left\"},\"hovermode\":\"closest\",\"mapbox\":{\"style\":\"light\"},\"paper_bgcolor\":\"white\",\"plot_bgcolor\":\"#E5ECF6\",\"polar\":{\"angularaxis\":{\"gridcolor\":\"white\",\"linecolor\":\"white\",\"ticks\":\"\"},\"bgcolor\":\"#E5ECF6\",\"radialaxis\":{\"gridcolor\":\"white\",\"linecolor\":\"white\",\"ticks\":\"\"}},\"scene\":{\"xaxis\":{\"backgroundcolor\":\"#E5ECF6\",\"gridcolor\":\"white\",\"gridwidth\":2,\"linecolor\":\"white\",\"showbackground\":true,\"ticks\":\"\",\"zerolinecolor\":\"white\"},\"yaxis\":{\"backgroundcolor\":\"#E5ECF6\",\"gridcolor\":\"white\",\"gridwidth\":2,\"linecolor\":\"white\",\"showbackground\":true,\"ticks\":\"\",\"zerolinecolor\":\"white\"},\"zaxis\":{\"backgroundcolor\":\"#E5ECF6\",\"gridcolor\":\"white\",\"gridwidth\":2,\"linecolor\":\"white\",\"showbackground\":true,\"ticks\":\"\",\"zerolinecolor\":\"white\"}},\"shapedefaults\":{\"line\":{\"color\":\"#2a3f5f\"}},\"ternary\":{\"aaxis\":{\"gridcolor\":\"white\",\"linecolor\":\"white\",\"ticks\":\"\"},\"baxis\":{\"gridcolor\":\"white\",\"linecolor\":\"white\",\"ticks\":\"\"},\"bgcolor\":\"#E5ECF6\",\"caxis\":{\"gridcolor\":\"white\",\"linecolor\":\"white\",\"ticks\":\"\"}},\"title\":{\"x\":0.05},\"xaxis\":{\"automargin\":true,\"gridcolor\":\"white\",\"linecolor\":\"white\",\"ticks\":\"\",\"title\":{\"standoff\":15},\"zerolinecolor\":\"white\",\"zerolinewidth\":2},\"yaxis\":{\"automargin\":true,\"gridcolor\":\"white\",\"linecolor\":\"white\",\"ticks\":\"\",\"title\":{\"standoff\":15},\"zerolinecolor\":\"white\",\"zerolinewidth\":2}}},\"xaxis\":{\"anchor\":\"y\",\"domain\":[0.0,1.0],\"title\":{\"text\":\"x\"}},\"yaxis\":{\"anchor\":\"x\",\"domain\":[0.0,1.0],\"title\":{\"text\":\"count\"}},\"legend\":{\"tracegroupgap\":0},\"margin\":{\"t\":60},\"barmode\":\"relative\"},                        {\"responsive\": true}                    ).then(function(){\n",
              "                            \n",
              "var gd = document.getElementById('dd244e0e-479a-4108-b388-bd7b1d05da6d');\n",
              "var x = new MutationObserver(function (mutations, observer) {{\n",
              "        var display = window.getComputedStyle(gd).display;\n",
              "        if (!display || display === 'none') {{\n",
              "            console.log([gd, 'removed!']);\n",
              "            Plotly.purge(gd);\n",
              "            observer.disconnect();\n",
              "        }}\n",
              "}});\n",
              "\n",
              "// Listen for the removal of the full notebook cells\n",
              "var notebookContainer = gd.closest('#notebook-container');\n",
              "if (notebookContainer) {{\n",
              "    x.observe(notebookContainer, {childList: true});\n",
              "}}\n",
              "\n",
              "// Listen for the clearing of the current output cell\n",
              "var outputEl = gd.closest('.output');\n",
              "if (outputEl) {{\n",
              "    x.observe(outputEl, {childList: true});\n",
              "}}\n",
              "\n",
              "                        })                };                            </script>        </div>\n",
              "</body>\n",
              "</html>"
            ]
          },
          "metadata": {}
        }
      ]
    },
    {
      "cell_type": "markdown",
      "source": [
        "> 평균적으로 최대 제목 수는 7-8단어 사이입니다. 이 몇 마디 말만으로 뉴스가 사실인지 가짜인지 판단하기가 좀 어려울 것 같습니다. 그래서 우리는 제목만으로 많은 정확성을 얻지 못할 것 같습니다. 그럼 이제 예측으로 넘어가겠습니다."
      ],
      "metadata": {
        "id": "PlkRuD4R0WYD"
      }
    },
    {
      "cell_type": "markdown",
      "source": [
        "# Machine Learning model"
      ],
      "metadata": {
        "id": "S_EA4iH3x8At"
      }
    },
    {
      "cell_type": "markdown",
      "source": [
        "## Logistic Regression"
      ],
      "metadata": {
        "id": "oyS__WE5b94l"
      }
    },
    {
      "cell_type": "code",
      "source": [
        "from sklearn.model_selection import train_test_split\n",
        "from sklearn.feature_extraction.text import CountVectorizer\n",
        "X_train, X_test, y_train, y_test = train_test_split(df.clean_joined_title, df.target, test_size = 0.2,random_state=2)\n",
        "vec_train = CountVectorizer().fit(X_train)\n",
        "X_vec_train = vec_train.transform(X_train)\n",
        "X_vec_test = vec_train.transform(X_test)"
      ],
      "metadata": {
        "id": "7X2AKDPC0wvD"
      },
      "execution_count": 35,
      "outputs": []
    },
    {
      "cell_type": "code",
      "source": [
        "from sklearn.linear_model import LogisticRegression\n",
        "from sklearn.metrics import roc_auc_score\n",
        "model = LogisticRegression(C=2)\n",
        "model.fit(X_vec_train, y_train)\n",
        "predicted_value = model.predict(X_vec_test)\n",
        "accuracy_value = roc_auc_score(y_test, predicted_value)\n",
        "print(accuracy_value)"
      ],
      "metadata": {
        "colab": {
          "base_uri": "https://localhost:8080/"
        },
        "id": "Ght_OGPW01ta",
        "outputId": "eb7f5444-1d6e-41e6-ef3c-1daf832445ff"
      },
      "execution_count": 36,
      "outputs": [
        {
          "output_type": "stream",
          "name": "stdout",
          "text": [
            "0.947466974653341\n"
          ]
        },
        {
          "output_type": "stream",
          "name": "stderr",
          "text": [
            "/usr/local/lib/python3.8/dist-packages/sklearn/linear_model/_logistic.py:458: ConvergenceWarning:\n",
            "\n",
            "lbfgs failed to converge (status=1):\n",
            "STOP: TOTAL NO. of ITERATIONS REACHED LIMIT.\n",
            "\n",
            "Increase the number of iterations (max_iter) or scale the data as shown in:\n",
            "    https://scikit-learn.org/stable/modules/preprocessing.html\n",
            "Please also refer to the documentation for alternative solver options:\n",
            "    https://scikit-learn.org/stable/modules/linear_model.html#logistic-regression\n",
            "\n"
          ]
        }
      ]
    },
    {
      "cell_type": "markdown",
      "source": [
        "> 94.75%의 정확도로, 예상과 다르게 꽤 좋은 결과입니다. 이제 제목만 사용하여 이 모델에 대한 Confusion Matrix를 살펴보겠습니다."
      ],
      "metadata": {
        "id": "5b2un56waVtt"
      }
    },
    {
      "cell_type": "code",
      "source": [
        "import seaborn as sns \n",
        "from sklearn.metrics import confusion_matrix\n",
        "cm = confusion_matrix(list(y_test), predicted_value)\n",
        "plt.figure(figsize = (10, 10))\n",
        "sns.heatmap(cm, annot = True,fmt='g',cmap='viridis')"
      ],
      "metadata": {
        "colab": {
          "base_uri": "https://localhost:8080/",
          "height": 611
        },
        "id": "9_PCs-DZcBVQ",
        "outputId": "6cd80050-7311-47d5-b7f5-3515ba71b305"
      },
      "execution_count": 37,
      "outputs": [
        {
          "output_type": "execute_result",
          "data": {
            "text/plain": [
              "<AxesSubplot:>"
            ]
          },
          "metadata": {},
          "execution_count": 37
        },
        {
          "output_type": "display_data",
          "data": {
            "text/plain": [
              "<Figure size 720x720 with 2 Axes>"
            ],
            "image/png": "[encoded data removed]"
          },
          "metadata": {
            "needs_background": "light"
          }
        }
      ]
    },
    {
      "cell_type": "markdown",
      "source": [
        "> 4430개의 가짜 뉴스는 가짜로 분류되었고, 4076개의 진짜 뉴스는 진짜로 분류되었습니다. 하지만 여전히 474개는 잘못 분류되고 있다는 것을 알 수 있습니다."
      ],
      "metadata": {
        "id": "oQz9EBOHcfdR"
      }
    },
    {
      "cell_type": "markdown",
      "source": [
        "> 진짜 뉴스를 사용하여 Word Cloud를 만들 것입니다."
      ],
      "metadata": {
        "id": "Cx9KIqY8r00D"
      }
    },
    {
      "cell_type": "code",
      "source": [
        "df['clean_text'] = df['text'].apply(preprocess)\n",
        "df['clean_joined_text']=df['clean_text'].apply(lambda x:\" \".join(x))\n",
        "plt.figure(figsize = (20,20)) \n",
        "wc = WordCloud(max_words = 2000 , width = 1600 , height = 800 , stopwords = stop_words).generate(\" \".join(df[df.target == 1].clean_joined_text))\n",
        "# plt.imshow(wc, interpolation = 'bilinear')"
      ],
      "metadata": {
        "colab": {
          "base_uri": "https://localhost:8080/",
          "height": 36
        },
        "id": "kmdPFPOzupwA",
        "outputId": "862af63b-6385-48b0-c9a6-73ae7a80fcdf"
      },
      "execution_count": 38,
      "outputs": [
        {
          "output_type": "display_data",
          "data": {
            "text/plain": [
              "<Figure size 1440x1440 with 0 Axes>"
            ]
          },
          "metadata": {}
        }
      ]
    },
    {
      "cell_type": "markdown",
      "source": [
        "> 이제 가짜 뉴스를 사용하여 Word Cloud를 만들 것입니다."
      ],
      "metadata": {
        "id": "rQZg8fKhvi8x"
      }
    },
    {
      "cell_type": "code",
      "source": [
        "plt.figure(figsize = (20,20)) \n",
        "wc = WordCloud(max_words = 2000 , width = 1600 , height = 800 , stopwords = stop_words).generate(\" \".join(df[df.target == 0].clean_joined_text))\n",
        "# plt.imshow(wc, interpolation = 'bilinear')"
      ],
      "metadata": {
        "colab": {
          "base_uri": "https://localhost:8080/",
          "height": 36
        },
        "id": "GVWiabvWwHqp",
        "outputId": "50ec212d-0f23-4d4e-cb23-7f3faa14fce8"
      },
      "execution_count": 39,
      "outputs": [
        {
          "output_type": "display_data",
          "data": {
            "text/plain": [
              "<Figure size 1440x1440 with 0 Axes>"
            ]
          },
          "metadata": {}
        }
      ]
    },
    {
      "cell_type": "markdown",
      "source": [
        "> 텍스트에서 단어 수의 분포를 확인해 보겠습니다."
      ],
      "metadata": {
        "id": "oHxKeRD8wNi6"
      }
    },
    {
      "cell_type": "code",
      "source": [
        "maxlen = -1\n",
        "for doc in df.clean_joined_text:\n",
        "    tokens = nltk.word_tokenize(doc)\n",
        "    if(maxlen<len(tokens)):\n",
        "        maxlen = len(tokens)\n",
        "print(\"The maximum number of words in a News Content is =\", maxlen)\n",
        "fig = px.histogram(x = [len(nltk.word_tokenize(x)) for x in df.clean_joined_text], nbins = 50)\n",
        "fig.show()"
      ],
      "metadata": {
        "id": "oOFyWTijwRqf"
      },
      "execution_count": null,
      "outputs": []
    },
    {
      "cell_type": "markdown",
      "source": [
        "> 우리가 볼 수 있듯이 대부분의 뉴스 기사는 100-200단어 범위 내에 있습니다. 단어의 수가 많으면 모델이 예측하기가 훨씬 쉬워집니다."
      ],
      "metadata": {
        "id": "ymz0R1PlwXeb"
      }
    },
    {
      "cell_type": "code",
      "source": [
        "X_train, X_test, y_train, y_test = train_test_split(df.clean_joined_text, df.target, test_size = 0.2,random_state=2)\n",
        "vec_train = CountVectorizer().fit(X_train)\n",
        "X_vec_train = vec_train.transform(X_train)\n",
        "X_vec_test = vec_train.transform(X_test)\n",
        "model = LogisticRegression(C=2.5)\n",
        "model.fit(X_vec_train, y_train)\n",
        "predicted_value = model.predict(X_vec_test)\n",
        "accuracy_value = roc_auc_score(y_test, predicted_value)\n",
        "print(accuracy_value)"
      ],
      "metadata": {
        "id": "BogIS0-lAgdf"
      },
      "execution_count": null,
      "outputs": []
    },
    {
      "cell_type": "markdown",
      "source": [
        "> 99.53%로 상당히 좋아졌습니다. 제목에서 예측하는 것보다 훨씬 낫습니다. 정확도가 매우 높기 때문에 Confusion Matrix를 한 번 살펴보도록 하겠습니다."
      ],
      "metadata": {
        "id": "8s0O3vW8AlwH"
      }
    },
    {
      "cell_type": "code",
      "source": [
        "prediction = []\n",
        "for i in range(len(predicted_value)):\n",
        "    if predicted_value[i].item() > 0.5:\n",
        "        prediction.append(1)\n",
        "    else:\n",
        "        prediction.append(0)\n",
        "cm = confusion_matrix(list(y_test), prediction)\n",
        "plt.figure(figsize = (10, 10))\n",
        "sns.heatmap(cm, annot = True,fmt='g')"
      ],
      "metadata": {
        "id": "kcw3HhxnA3mm"
      },
      "execution_count": null,
      "outputs": []
    },
    {
      "cell_type": "markdown",
      "source": [
        "> 가짜 뉴스 4687건이 가짜로 분류됐고, 진짜 뉴스 4252건도 제대로 예측됐습니다. 그리고 현재 41개는 잘못 분류되고 있습니다. 첫 번째 모델에서 크게 개선되었지만 제목과 내용을 합치면 더 좋은 결과를 얻을 수 있을 것 같습니다. 다음 섹션에서 확인해 보겠습니다."
      ],
      "metadata": {
        "id": "vIQKZUp2A-gK"
      }
    },
    {
      "cell_type": "markdown",
      "source": [
        "> 제목과 내용을 고려하면 얼마나 정확하게 예측할 수 있는지 분석해 보겠습니다."
      ],
      "metadata": {
        "id": "-Bvfgi8XD8ry"
      }
    },
    {
      "cell_type": "code",
      "source": [
        "df['clean_final'] = df['original'].apply(preprocess)\n",
        "df['clean_joined_final']=df['clean_final'].apply(lambda x:\" \".join(x))"
      ],
      "metadata": {
        "id": "a-FXnKZiEUxI"
      },
      "execution_count": null,
      "outputs": []
    },
    {
      "cell_type": "markdown",
      "source": [
        "> 바로 예측으로 건너뜁니다."
      ],
      "metadata": {
        "id": "-ilrXZ19EdFp"
      }
    },
    {
      "cell_type": "code",
      "source": [
        "X_train, X_test, y_train, y_test = train_test_split(df.clean_joined_final, df.target, test_size = 0.2,random_state=0)\n",
        "vec_train = CountVectorizer().fit(X_train)\n",
        "X_vec_train = vec_train.transform(X_train)\n",
        "X_vec_test = vec_train.transform(X_test)\n",
        "model = LogisticRegression(C=3)\n",
        "model.fit(X_vec_train, y_train)\n",
        "predicted_value = model.predict(X_vec_test)\n",
        "accuracy_value = roc_auc_score(y_test, predicted_value)\n",
        "print(accuracy_value)"
      ],
      "metadata": {
        "id": "QCIQBf_7EfoN"
      },
      "execution_count": null,
      "outputs": []
    },
    {
      "cell_type": "markdown",
      "source": [
        "> 99.67%로 우리는 뉴스의 제목과 내용을 모두 고려하여 뉴스의 본질을 예측할 수 있었습니다. confusion matrix를 살펴보도록 하겠습니다."
      ],
      "metadata": {
        "id": "dQHQnkXpEjC4"
      }
    },
    {
      "cell_type": "code",
      "source": [
        "prediction = []\n",
        "for i in range(len(predicted_value)):\n",
        "    if predicted_value[i].item() > 0.5:\n",
        "        prediction.append(1)\n",
        "    else:\n",
        "        prediction.append(0)\n",
        "cm = confusion_matrix(list(y_test), prediction)\n",
        "plt.figure(figsize = (10, 10))\n",
        "sns.heatmap(cm, annot = True,fmt='g',cmap='inferno')"
      ],
      "metadata": {
        "id": "3wzRwiCKE4JD"
      },
      "execution_count": null,
      "outputs": []
    },
    {
      "cell_type": "markdown",
      "source": [
        "# Conclusion"
      ],
      "metadata": {
        "id": "fTRQNieuvC2m"
      }
    },
    {
      "cell_type": "markdown",
      "source": [
        "> 뉴스 분류 목표에 성공적으로 도달했으며, 뉴스가 진짜인지 가짜인지 식별할 수 있습니다. 제목만으로 뉴스를 예측하는 것은 비교적 정확도가 낮았습니다. 뉴스기사 맥락을 고려했을 때 정확도 비율은 94%에서 99%로 급증했습니다.\n",
        "제목과 맥락을 모두 고려할 때, 우리는 가장 높은 정확도에 도달할 수 있었습니다. 저는 더 나은 결과를 제공할 수 있는 추가 모델을 구현하기 위해 노력할 것입니다."
      ],
      "metadata": {
        "id": "tgt17C8zFJ-i"
      }
    },
    {
      "cell_type": "markdown",
      "source": [
        "> "
      ],
      "metadata": {
        "id": "baOHrrNjE9uP"
      }
    }
  ]
}